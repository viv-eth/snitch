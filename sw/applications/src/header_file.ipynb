{
 "cells": [
  {
   "cell_type": "code",
   "execution_count": 2,
   "metadata": {},
   "outputs": [],
   "source": [
    "#!/usr/bin/env python3\n",
    "# Copyright 2022 ETH Zurich and University of Bologna.\n",
    "# Licensed under the Apache License, Version 2.0, see LICENSE for details.\n",
    "# SPDX-License-Identifier: Apache-2.0\n",
    "\n",
    "import numpy as np\n",
    "import torch\n",
    "import torch.nn as nn\n",
    "from torch.nn import functional as F\n",
    "from torchvision import transforms\n",
    "from torchvision.datasets import MNIST\n",
    "from torch.utils.data import DataLoader\n",
    "import argparse\n",
    "import pathlib\n",
    "import hjson\n",
    "import random\n",
    "import os"
   ]
  },
  {
   "cell_type": "code",
   "execution_count": 3,
   "metadata": {},
   "outputs": [],
   "source": [
    "np.random.seed(42)\n",
    "torch.manual_seed(42)\n",
    "global verbose"
   ]
  },
  {
   "cell_type": "code",
   "execution_count": 4,
   "metadata": {},
   "outputs": [],
   "source": [
    "def array_to_cstr(a):\n",
    "    out = '{'\n",
    "    if isinstance(a, np.ndarray):\n",
    "        a = a.flat\n",
    "    if isinstance(a, torch.Tensor):\n",
    "        a = a.numpy().flat\n",
    "    for el in a:\n",
    "        out += '{}, '.format(el)\n",
    "    out = out[:-2] + '}'\n",
    "    return out"
   ]
  },
  {
   "cell_type": "code",
   "execution_count": 5,
   "metadata": {},
   "outputs": [],
   "source": [
    "def emit_mnist_data(name='mnist', **kwargs):\n",
    "    \n",
    "    # constants\n",
    "    IN_CH1 = kwargs['IN_CH1']\n",
    "    IN_CH2 = kwargs['IN_CH2']\n",
    "    OUT_CH = kwargs['OUT_CH']\n",
    "    DATASET_SIZE = kwargs['DATASET_SIZE']\n",
    "    \n",
    "    # data\n",
    "    # MAT_INPUT = kwargs['INPUT']\n",
    "    # MAT_LABELS = kwargs['LABELS']\n",
    "\n",
    "    # network init parameters from golden model\n",
    "    MAT_WEIGHTS = kwargs['WEIGHTS']\n",
    "    MAT_BIASES = kwargs['BIASES']\n",
    "\n",
    "    IN_CH = IN_CH1*IN_CH2\n",
    "    \n",
    "    layer_str = ''\n",
    "    layer_str += '#include \"network.h\"\\n\\n'\n",
    "    layer_str += f'network_fp64_t {name}_t = {{\\n'\n",
    "    layer_str += f'\\t.IN_CH1 = {IN_CH1},\\n'\n",
    "    layer_str += f'\\t.IN_CH2 = {IN_CH2},\\n'\n",
    "    layer_str += f'\\t.OUT_CH = {OUT_CH},\\n'\n",
    "    layer_str += f'\\t.dtype = FP{kwargs[\"prec\"]}\\n'\n",
    "    layer_str += '};\\n\\n\\n'\n",
    "\n",
    "    ctypes = {\n",
    "        '64': 'double',\n",
    "        '32': 'float',\n",
    "        '16': '__fp16',\n",
    "        'B16': '__bf16',\n",
    "        '8': 'char'\n",
    "    }\n",
    "\n",
    "    dtype = ctypes[str(kwargs['prec'])]\n",
    "\n",
    "    # network initialization\n",
    "    layer_str += f'static {dtype} {name}_weights_dram [{OUT_CH}][{IN_CH}] = ' + array_to_cstr(MAT_WEIGHTS) + ';\\n\\n\\n'\n",
    "    layer_str += f'static {dtype} {name}_biases_dram [{OUT_CH}][{1}] = ' + array_to_cstr(MAT_BIASES) + ';\\n\\n\\n'\n",
    "    # layer_str += f'static {dtype} {name}_weight_grads_dram [{OUT_CH}][{IN_CH}] = ' + array_to_cstr(MAT_WEIGHT_GRADS) + ';\\n\\n\\n'\n",
    "    # layer_str += f'static {dtype} {name}_bias_grads_dram [{OUT_CH}][{1}] = ' + array_to_cstr(MAT_BIAS_GRADS) + ';\\n\\n\\n'\n",
    "\n",
    "\n",
    "    # input data\n",
    "    # layer_str += f'static {dtype} {name}_images_dram [{DATASET_SIZE*IN_CH}][{1}] = ' + array_to_cstr(MAT_INPUT) + ';\\n\\n\\n'\n",
    "    # layer_str += f'static uint32_t {name}_labels_dram [{DATASET_SIZE}][{1}] = ' + array_to_cstr(MAT_LABELS) + ';\\n\\n\\n'\n",
    "    #layer_str += f'static {dtype} {name}_images_dram [{IN_CH}][{1}] = ' + array_to_cstr(MAT_INPUT) + ';\\n\\n\\n'\n",
    "    #layer_str += f'static uint32_t {name}_labels_dram[{1}] = ' + array_to_cstr(MAT_LABELS) + ';\\n\\n\\n'\n",
    "\n",
    "    return layer_str\n"
   ]
  },
  {
   "cell_type": "code",
   "execution_count": 6,
   "metadata": {},
   "outputs": [],
   "source": [
    "def emit_mnist_header_file(layer_type: str, data_type: str, **kwargs):\n",
    "\n",
    "    file_path = '/scratch1/msc22f11/snitch/sw/applications/data/'\n",
    "    emit_str = \"// Copyright 2022 ETH Zurich and University of Bologna.\\n\" + \\\n",
    "               \"// Licensed under the Apache License, Version 2.0, see LICENSE for details.\\n\" + \\\n",
    "               \"// SPDX-License-Identifier: Apache-2.0\\n\\n\"\n",
    "\n",
    "    if(layer_type == 'mnist'):\n",
    "        if(data_type == 'FP64'):\n",
    "            file = file_path + 'data_fp64_mnist.h'\n",
    "            emit_str += emit_mnist_data(**kwargs)\n",
    "        elif(data_type == 'FP32'):\n",
    "            file = file_path + 'data_fp32_mnist.h'\n",
    "            emit_str += emit_mnist_data(**kwargs)\n",
    "        elif(data_type == 'FP16'):\n",
    "            file = file_path + 'data_fp16_test_mnist.h'\n",
    "            emit_str += emit_mnist_data(**kwargs)\n",
    "        elif(data_type == 'BF16'):\n",
    "            file = file_path + 'data_bf16_mnist.h'\n",
    "            emit_str += emit_mnist_data(**kwargs)\n",
    "        elif(data_type == 'FP8'):\n",
    "            file = file_path + 'data_fp8_test_mnist.h'\n",
    "            emit_str += emit_mnist_data(**kwargs)\n",
    "\n",
    "    #  # if file does not exist create it\n",
    "    # if(not os.path.exists(file)):\n",
    "    #     pathlib.Path(file).touch()\n",
    "\n",
    "    with open(file, 'w') as f:\n",
    "        f.write(emit_str)\n",
    "\n",
    "    print(f'Wrote {file}')\n"
   ]
  },
  {
   "cell_type": "code",
   "execution_count": 7,
   "metadata": {},
   "outputs": [],
   "source": [
    "# download MNIST dataset using DataLoader\n",
    "\n",
    "transform = transforms.Compose(\n",
    "    [\n",
    "        transforms.ToTensor()\n",
    "    ]\n",
    ")\n",
    "\n",
    "PATH_DATASETS = os.environ.get(\"PATH_DATASETS\", \".\")\n",
    "mnist_dataset = MNIST(PATH_DATASETS, train=True, transform=transform, download=True)\n",
    "\n",
    "# set seeds for reproducability \n",
    "g = torch.Generator()\n",
    "g.manual_seed(42)\n",
    "\n",
    "def seed_worker(worker_id):\n",
    "    worker_seed = torch.initial_seed % 2**32\n",
    "    np.random.seed(worker_seed)\n",
    "    random.seed(worker_seed)\n",
    "\n",
    "mnist_dl = DataLoader(mnist_dataset, worker_init_fn=seed_worker, generator=g)"
   ]
  },
  {
   "cell_type": "code",
   "execution_count": 8,
   "metadata": {},
   "outputs": [],
   "source": [
    "in_ch = 28*28\n",
    "out_ch = 10\n",
    "\n",
    "class LinLayer(nn.Module):\n",
    "    def __init__(self):\n",
    "        super(LinLayer, self).__init__()\n",
    "        torch.manual_seed(42)\n",
    "        self.lin = nn.Linear(in_ch, out_ch, dtype=torch.float64)\n",
    "\n",
    "    def forward(self, x):\n",
    "        torch.manual_seed(42)\n",
    "        out = self.lin(x.view(x.size(0), -1))\n",
    "        return out"
   ]
  },
  {
   "cell_type": "code",
   "execution_count": 9,
   "metadata": {},
   "outputs": [
    {
     "name": "stdout",
     "output_type": "stream",
     "text": [
      "initial weights shape: torch.Size([10, 784])\n",
      "initial biases shape: torch.Size([10])\n"
     ]
    }
   ],
   "source": [
    "# import optimizers\n",
    "import torch.optim as optim\n",
    "torch.manual_seed(42)\n",
    "\n",
    "net = LinLayer()\n",
    "weights = net.lin.weight\n",
    "print(\"initial weights shape: {}\".format(weights.shape))\n",
    "biases = net.lin.bias\n",
    "print(\"initial biases shape: {}\".format(biases.shape))"
   ]
  },
  {
   "cell_type": "code",
   "execution_count": 10,
   "metadata": {},
   "outputs": [],
   "source": [
    "# special handling for FP8 type where we set up the conversion first\n",
    "import pathlib\n",
    "import ctypes\n",
    "\n",
    "from ctypes import c_uint8, c_double, c_float\n",
    "from ctypes import byref, Structure\n",
    "\n",
    "\n",
    "class flexfloat_desc_t(Structure):\n",
    "    _fields_ = [(\"exp_bits\", c_uint8), (\"frac_bits\", c_uint8)]\n",
    "\n",
    "\n",
    "class flexfloat_t(Structure):\n",
    "    _fields_ = [(\"value\", c_double), (\"desc\", flexfloat_desc_t)]\n",
    "\n",
    "\n",
    "fp64_desc = flexfloat_desc_t(11, 52)\n",
    "fp32_desc = flexfloat_desc_t(8, 23)\n",
    "fp16_desc = flexfloat_desc_t(5, 11)\n",
    "fp16alt_desc = flexfloat_desc_t(8, 7)\n",
    "fp8_desc = flexfloat_desc_t(5, 2)\n",
    "fp8alt_desc = flexfloat_desc_t(4, 3)\n",
    "\n",
    "lib_path = \"/usr/scratch/badile31/msc22f11/msc22f11/PlayGround/flexfloat/src/libflexfloat.so\"\n",
    "ff_lib = ctypes.CDLL(lib_path)\n",
    "\n",
    "ff_get_float = ff_lib.ff_get_float\n",
    "ff_get_float.restype = c_float\n",
    "\n",
    "\n",
    "class ff:\n",
    "    def __init__(self, value: float, desc: flexfloat_desc_t = fp64_desc):\n",
    "        self.desc = desc\n",
    "        self.value = value\n",
    "        self.a = flexfloat_t(value, desc)\n",
    "        ff_lib.ff_init_float(byref(self.a), c_float(value), desc)\n",
    "\n",
    "    def __add__(self, b):\n",
    "        ff_res = flexfloat_t(0.0, self.desc)\n",
    "        ff_lib.ff_add(byref(ff_res), byref(self.a), byref(b.a))\n",
    "        return 0"
   ]
  },
  {
   "cell_type": "code",
   "execution_count": 11,
   "metadata": {},
   "outputs": [
    {
     "name": "stdout",
     "output_type": "stream",
     "text": [
      "ff_c: 69\n",
      "ff_c bits: 0b01000101\n",
      "5.0\n"
     ]
    }
   ],
   "source": [
    "a = ff(3.0, fp32_desc)\n",
    "b = ff(4.0, fp32_desc)\n",
    "\n",
    "ff_a = flexfloat_t(0.0, fp8_desc)\n",
    "# ff_lib.flexfloat_get_bits(byref(ff_a))\n",
    "# print(\"ff_a bits: {}\".format(ff_lib.flexfloat_get_bits(byref(ff_a))))\n",
    "ff_b = flexfloat_t(0.0, fp8_desc)\n",
    "ff_c = flexfloat_t(0.0, fp8_desc)\n",
    "\n",
    "ff_lib.ff_init_float(byref(ff_a), c_float(1.0), fp8_desc)\n",
    "ff_lib.ff_init_float(byref(ff_b), c_float(2.0), fp8_desc)\n",
    "ff_lib.ff_init_float(byref(ff_c), c_float(3.0), fp8_desc)\n",
    "\n",
    "ff_lib.ff_add(byref(ff_c), byref(ff_b), byref(ff_c))\n",
    "\n",
    "ff_c_bits = ff_lib.flexfloat_get_bits(byref(ff_c))\n",
    "print(\"ff_c: {}\".format(ff_c_bits))\n",
    "# convert to binary with leading zeros\n",
    "print(\"ff_c bits: 0b{}\".format(bin(ff_c_bits)[2:].zfill(8)))\t\n",
    "# print ff_c as 16 bit binary\n",
    "\n",
    "c = ff_lib.ff_get_float(byref(ff_c))\n",
    "print(c)"
   ]
  },
  {
   "cell_type": "code",
   "execution_count": 12,
   "metadata": {},
   "outputs": [
    {
     "name": "stdout",
     "output_type": "stream",
     "text": [
      "ff_image: 18953\n",
      "ff_image bits: 0b0100101000001001\n",
      "ff_bgrad: 3355\n",
      "ff_bgrad bits: 0b0000110100011011\n",
      "ff_result: 66\n",
      "ff_result bits: 0b0000000001000010\n",
      "ff_result float: 1.9669532775878906e-06\n"
     ]
    }
   ],
   "source": [
    "ff_result = flexfloat_t(0.0, fp16_desc)\n",
    "ff_image = flexfloat_t(0.0196, fp16_desc)\n",
    "ff_image_bits = ff_lib.flexfloat_get_bits(byref(ff_image))\n",
    "ff_bgrad = flexfloat_t(0.0001, fp16_desc)\n",
    "ff_bgrad_bits = ff_lib.flexfloat_get_bits(byref(ff_bgrad))\n",
    "\n",
    "# multiply image by bgrad\n",
    "ff_lib.ff_mul(byref(ff_result), byref(ff_image), byref(ff_bgrad))\n",
    "ff_result_bits = ff_lib.flexfloat_get_bits(byref(ff_result))\n",
    "print(\"ff_image: {}\".format(ff_image_bits))\n",
    "print(\"ff_image bits: 0b{}\".format(bin(ff_image_bits)[2:].zfill(16)))\t\n",
    "print(\"ff_bgrad: {}\".format(ff_bgrad_bits))\n",
    "print(\"ff_bgrad bits: 0b{}\".format(bin(ff_bgrad_bits)[2:].zfill(16)))\n",
    "print(\"ff_result: {}\".format(ff_result_bits))\n",
    "print(\"ff_result bits: 0b{}\".format(bin(ff_result_bits)[2:].zfill(16)))\n",
    "# print(\"result bits: 0b{}\".format(bin(result)[2:].zfill(16)))\n",
    "# get float value\n",
    "ff_result_float = ff_lib.ff_get_float(byref(ff_result))\n",
    "print(\"ff_result float: {}\".format(ff_result_float))"
   ]
  },
  {
   "cell_type": "code",
   "execution_count": 13,
   "metadata": {},
   "outputs": [],
   "source": [
    "# function to convert float32 to binary representation\n",
    "import struct\n",
    "\n",
    "def float32_to_bin(value):\n",
    "    return ''.join(f'{c:0>8b}' for c in struct.pack('!f', value))"
   ]
  },
  {
   "cell_type": "code",
   "execution_count": 14,
   "metadata": {},
   "outputs": [],
   "source": [
    "\"\"\"\n",
    "We have to handle denormalized numbers:\n",
    "    \n",
    "    +INF will be represented in FP8 as 0 11111 00 \n",
    "    -INF will be represented in FP8 as 1 11111 00\n",
    "    +0 will be represented in FP8 as 0 00000 00\n",
    "    -0 will be represented in FP8 as 1 00000 00\n",
    "    NaN will be represented in FP8 as X 11111 MM (at least one of the MMM bits is set, sign bit is don't care)\n",
    "\n",
    "According to https://ieeexplore.ieee.org/stamp/stamp.jsp?tp=&arnumber=8556098 denormalized transprecision numbers\n",
    "will be represented by their high precision counterparts. In these cases we have to make sure that we do not adjust\n",
    "the exponent. In the other cases we adjust the exponent and cut the mantissa.\n",
    "\"\"\"\n",
    "\n",
    "from numpy import binary_repr\n",
    "\n",
    "# this function returns an 8 character string representing the binary representation of the FP8 number\n",
    "def float32_to_fp8(value):\n",
    "    max_exp_fp32 = int('11111111', 2)\n",
    "    min_exp_fp32 = int('00000000', 2)\n",
    "    exp_bias_fp32 = 2 ** (8 - 1) - 1\n",
    "    exp_bias_fp8 = 2 ** (5 - 1) - 1\n",
    "    # get the binary representation of the number\n",
    "    binstr = float32_to_bin(value)\n",
    "    # extract sign, exponent and mantissa bits\n",
    "    sign = binstr[0]\n",
    "    exponent = binstr[1:9]\n",
    "    mantissa = binstr[9:]\n",
    "    # check if the number is denormalized\n",
    "    # we start by checking if all exponent bits are asserted\n",
    "    if(int(exponent) == max_exp_fp32):\n",
    "        # if so, we check if the mantissa is all zeros (will result in +/-INF)\n",
    "        if(int(mantissa) == 0):\n",
    "            return '0b' + sign + exponent[:5] + mantissa[:2]\n",
    "        # if not, we have to return a NaN\n",
    "        else:\n",
    "            return '0b' + sign + exponent[:5] + '01'\n",
    "    # if both exponent and mantissa are zero we will return +/-0\n",
    "    elif (int(exponent) == min_exp_fp32 and int(mantissa) == 0): \n",
    "        return '0b' + sign + exponent[:5] + mantissa[:2]\n",
    "    else :\n",
    "        # if not, we adjust the exponent and cut the mantissa\n",
    "        exponent_fp8 = binary_repr(int(exponent, 2) - exp_bias_fp32 + exp_bias_fp8, width=5)\n",
    "        mantissa_fp8 = mantissa[:2]\n",
    "        return '0b' + sign + exponent_fp8 + mantissa_fp8\n"
   ]
  },
  {
   "cell_type": "code",
   "execution_count": 15,
   "metadata": {},
   "outputs": [],
   "source": [
    "# exponent is stored in two's complement\n",
    "def twos_comp(val, bits):\n",
    "    \"\"\"compute the 2's complement of int value val\"\"\"\n",
    "    if (val & (1 << (bits - 1))) != 0: # if sign bit is set e.g., 8bit: 128-255\n",
    "        val = val - (1 << bits)        # compute negative value\n",
    "    return val  "
   ]
  },
  {
   "cell_type": "code",
   "execution_count": 16,
   "metadata": {},
   "outputs": [],
   "source": [
    "def convert_to_fp8_decimal(binstr):\n",
    "\n",
    "    # extract sign, exponent and mantissa bits\n",
    "    sign = binstr[0]\n",
    "    num_sign_bits = 1\n",
    "    # print(f'Sign:     ({num_sign_bits} bit)  = {sign}')\n",
    "    exponent = binstr[1:6]\n",
    "    num_exp_bits = len(exponent)\n",
    "    # print(f'Exponent: ({num_exp_bits} bit)  = {exponent}')\n",
    "    mantissa = binstr[6:]\n",
    "    num_mant_bits = len(mantissa)\n",
    "    # print(f'Mantissa: ({num_mant_bits} bit) = {mantissa}')\n",
    "\n",
    "    exp_bias_fp8 = 2 ** (5 - 1) - 1\n",
    "    dec_val_fp8 = (-1)**(int(sign, 2)) * (1 + (int(mantissa, 2))/(2**num_mant_bits)) * 2**(twos_comp(int(exponent, 2), num_exp_bits) - exp_bias_fp8)\n",
    "    if(int(sign, 2) == 0 and int(exponent, 2) == 0 and int(mantissa, 2) == 0):\n",
    "        dec_val_fp8 = 0\n",
    "    # print(\"\\nBinary to floating point number (FP8) conversion using formula: \", dec_val_fp8)\n",
    "    return dec_val_fp8\n",
    "    "
   ]
  },
  {
   "cell_type": "code",
   "execution_count": 17,
   "metadata": {},
   "outputs": [
    {
     "name": "stdout",
     "output_type": "stream",
     "text": [
      " NaN: 01111101 = 125\n",
      " NaN: 01111110 = 126\n",
      " NaN: 01111111 = 127\n",
      " NaN: 11111101 = 253\n",
      " NaN: 11111110 = 254\n",
      " NaN: 11111111 = 255\n",
      "+INF: 01111100 = 124\n",
      "-INF: 11111100 = 252\n"
     ]
    }
   ],
   "source": [
    "# define the special FP8 values\n",
    "fp8_nans = ['01111101', '01111110', '01111111', '11111101', '11111110', '11111111']\n",
    "# print fp8_nans as integers\n",
    "for nan in fp8_nans:\n",
    "    print(f' NaN: {nan} = {int(nan, 2)}')\n",
    "fp8_pinf = '01111100'\n",
    "print(f'+INF: {fp8_pinf} = {int(fp8_pinf, 2)}')\n",
    "fp8_ninf = '11111100'\n",
    "print(f'-INF: {fp8_ninf} = {int(fp8_ninf, 2)}')"
   ]
  },
  {
   "cell_type": "code",
   "execution_count": 18,
   "metadata": {},
   "outputs": [],
   "source": [
    "fp8_int_values = range(0, 256)\n",
    "# remove the special FP8 values\n",
    "fp8_int_values = [x for x in fp8_int_values if x not in [int(nan, 2) for nan in fp8_nans] + [int(fp8_pinf, 2), int(fp8_ninf, 2)]]"
   ]
  },
  {
   "cell_type": "code",
   "execution_count": 19,
   "metadata": {},
   "outputs": [],
   "source": [
    "import random\n",
    "def clear_special_values(data_np):\n",
    "    nan_cnt = 0\n",
    "    inf_cnt = 0\n",
    "    for val, idx in zip(data_np, range(len(data_np))):\n",
    "        if(val in [int(nan, 2) for nan in fp8_nans]):\n",
    "            print(f'Found NaN at index {idx}')\n",
    "            data_np[idx] = random.choice(fp8_int_values)\n",
    "            print(f'Randomly replaced NaN with {data_np[idx]}')\n",
    "            nan_cnt += 1\n",
    "        elif(val == int(fp8_pinf, 2) or val == int(fp8_ninf, 2)):\n",
    "            print(f'Found INF at index {idx}')\n",
    "            data_np[idx] = random.choice(fp8_int_values)\n",
    "            print(f'Randomly replaced INF with {data_np[idx]}')\n",
    "            inf_cnt += 1 \n",
    "\n",
    "    print(f'NaN count: {nan_cnt}')\n",
    "    print(f'INF count: {inf_cnt}')\n",
    "\n",
    "    return data_np"
   ]
  },
  {
   "cell_type": "code",
   "execution_count": 20,
   "metadata": {},
   "outputs": [],
   "source": [
    "def convert_to_target_format(data_np, prec):\n",
    "    if prec == 64:\n",
    "        return data_np.astype(np.float64)\n",
    "    elif prec == 32:\n",
    "        return data_np.astype(np.float32)\n",
    "    elif prec == 16:\n",
    "        return data_np.astype(np.float16)\n",
    "    elif prec == 8:\n",
    "        data_np = data_np.astype(np.float32)\n",
    "        # convert to FP8\n",
    "        data_fp8 = np.array([float32_to_fp8(val) for val in data_np])\n",
    "        # clear special values\n",
    "        data_fp8 = clear_special_values(data_fp8)\n",
    "        return data_fp8"
   ]
  },
  {
   "cell_type": "code",
   "execution_count": 21,
   "metadata": {},
   "outputs": [
    {
     "data": {
      "text/plain": [
       "array([-0.03156039, -0.0312207 , -0.02688671, ...,  0.03123467,\n",
       "        0.00186213,  0.0296352 ])"
      ]
     },
     "execution_count": 21,
     "metadata": {},
     "output_type": "execute_result"
    }
   ],
   "source": [
    "weights.detach().numpy().flatten()"
   ]
  },
  {
   "cell_type": "code",
   "execution_count": 19,
   "metadata": {},
   "outputs": [
    {
     "name": "stdout",
     "output_type": "stream",
     "text": [
      "Original data type: float64\n",
      "Original data shape: (7840,)\n",
      "Weights - FP64 data type: float64\n",
      "Weights - FP64 data shape: (7840,)\n",
      "Biases - FP64 data type: float64\n",
      "Biases - FP64 data shape: (10,)\n",
      "Weights - FP32 data type: float32\n",
      "Biases - FP32 data shape: (7840,)\n",
      "Biases - FP32 data type: float32\n",
      "Biases - FP32 data shape: (10,)\n",
      "Weights - FP16 data type: float16\n",
      "Weights - FP16 data shape: (7840,)\n",
      "Biases - FP16 data type: float16\n",
      "Biases - FP16 data shape: (10,)\n",
      "NaN count: 0\n",
      "INF count: 0\n",
      "NaN count: 0\n",
      "INF count: 0\n",
      "Weights - FP8 data type: <U10\n",
      "Weights - FP8 data shape: (7840,)\n",
      "Biases - FP8 data type: <U10\n",
      "Biases - FP8 data shape: (10,)\n"
     ]
    }
   ],
   "source": [
    "# print data type and shape\n",
    "print(f'Original data type: {weights.detach().numpy().flatten().dtype}')\n",
    "print(f'Original data shape: {weights.detach().numpy().flatten().shape}')\n",
    "# convert to target format\n",
    "weights_fp64 = convert_to_target_format(weights.detach().numpy().flatten(), 64)\n",
    "biases_fp64 = convert_to_target_format(biases.detach().numpy().flatten(), 64)\n",
    "print(f'Weights - FP64 data type: {weights_fp64.dtype}')\n",
    "print(f'Weights - FP64 data shape: {weights_fp64.shape}')\n",
    "print(f'Biases - FP64 data type: {biases_fp64.dtype}')\n",
    "print(f'Biases - FP64 data shape: {biases_fp64.shape}')\n",
    "weights_fp32 = convert_to_target_format(weights.detach().numpy().flatten(), 32)\n",
    "biases_fp32 = convert_to_target_format(biases.detach().numpy().flatten(), 32)\n",
    "print(f'Weights - FP32 data type: {weights_fp32.dtype}')\n",
    "print(f'Biases - FP32 data shape: {weights_fp32.shape}')\n",
    "print(f'Biases - FP32 data type: {biases_fp32.dtype}')\n",
    "print(f'Biases - FP32 data shape: {biases_fp32.shape}')\n",
    "weights_fp16 = convert_to_target_format(weights.detach().numpy().flatten(), 16)\n",
    "biases_fp16 = convert_to_target_format(biases.detach().numpy().flatten(), 16)\n",
    "print(f'Weights - FP16 data type: {weights_fp16.dtype}')\n",
    "print(f'Weights - FP16 data shape: {weights_fp16.shape}')\n",
    "print(f'Biases - FP16 data type: {biases_fp16.dtype}')\n",
    "print(f'Biases - FP16 data shape: {biases_fp16.shape}')\n",
    "weights_fp8 = convert_to_target_format(weights.detach().numpy().flatten(), 8)\n",
    "biases_fp8 = convert_to_target_format(biases.detach().numpy().flatten(), 8)\n",
    "print(f'Weights - FP8 data type: {weights_fp8.dtype}')\n",
    "print(f'Weights - FP8 data shape: {weights_fp8.shape}')\n",
    "print(f'Biases - FP8 data type: {biases_fp8.dtype}')\n",
    "print(f'Biases - FP8 data shape: {biases_fp8.shape}')"
   ]
  },
  {
   "cell_type": "code",
   "execution_count": 21,
   "metadata": {},
   "outputs": [],
   "source": [
    "kwargs = {\n",
    "            'IN_CH1': 28,\n",
    "            'IN_CH2': 28,\n",
    "            'OUT_CH': 10,\n",
    "            'DATASET_SIZE': 5,\n",
    "            'WEIGHTS': weights_fp16,\n",
    "            'BIASES': biases_fp16,\n",
    "            'prec': 16\n",
    "}"
   ]
  },
  {
   "cell_type": "code",
   "execution_count": 57,
   "metadata": {},
   "outputs": [
    {
     "name": "stdout",
     "output_type": "stream",
     "text": [
      "Wrote /scratch1/msc22f11/snitch/sw/applications/data/data_fp16_test_mnist.h\n"
     ]
    }
   ],
   "source": [
    "emit_mnist_header_file('mnist', 'FP16', **kwargs)"
   ]
  },
  {
   "cell_type": "code",
   "execution_count": 20,
   "metadata": {},
   "outputs": [],
   "source": [
    "## VERIFICATION CHECK\n",
    "# manually compute the output of the linear layer\n",
    "first_im, first_label = next(iter(mnist_dl))"
   ]
  },
  {
   "cell_type": "code",
   "execution_count": 21,
   "metadata": {},
   "outputs": [
    {
     "name": "stdout",
     "output_type": "stream",
     "text": [
      "Activations shape: torch.Size([1, 10])\n",
      "Activations: tensor([[ 0.0534,  0.1614,  0.2875,  0.0104,  0.2178, -0.2916, -0.0588,  0.4338,\n",
      "          0.1176,  0.0230]], dtype=torch.float64, grad_fn=<AddBackward0>)\n",
      "\n",
      "Softmax output shape: torch.Size([1, 10])\n",
      "Softmax output: tensor([[0.0942, 0.1049, 0.1190, 0.0902, 0.1110, 0.0667, 0.0842, 0.1378, 0.1004,\n",
      "         0.0914]], dtype=torch.float64, grad_fn=<SoftmaxBackward0>)\n",
      "\n",
      "Bias gradient shape: torch.Size([1, 10])\n",
      "Bias gradient: tensor([[ 0.0942,  0.1049,  0.1190,  0.0902,  0.1110, -0.9333,  0.0842,  0.1378,\n",
      "          0.1004,  0.0914]], dtype=torch.float64, grad_fn=<SubBackward0>)\n",
      "\n",
      "Weight gradient shape: torch.Size([10, 784])\n",
      "Weight gradient checksum shape: torch.Size([10])\n",
      "Weight gradient checksum: tensor([  10.1679,   11.3281,   12.8498,    9.7401,   11.9851, -100.7401,\n",
      "           9.0890,   14.8742,   10.8421,    9.8640], dtype=torch.float64,\n",
      "       grad_fn=<SumBackward1>)\n",
      "\n",
      "Updated weights shape: torch.Size([10, 784])\n",
      "Updated weights checksum shape: torch.Size([10])\n",
      "Updated weights checksum: tensor([-5.8482, -5.3727, -5.9255, -4.7804, -5.6547, 49.5762, -4.7185, -6.7736,\n",
      "        -4.9072, -4.1280], dtype=torch.float64, grad_fn=<SumBackward1>)\n",
      "\n",
      "Updated biases shape: torch.Size([10])\n",
      "Updated biases: tensor([-0.0173, -0.0802, -0.0446, -0.0320, -0.0293,  0.4724, -0.0586, -0.0520,\n",
      "        -0.0424, -0.0147], dtype=torch.float64, grad_fn=<SubBackward0>)\n"
     ]
    }
   ],
   "source": [
    "# calculate the activations of the linear layer\n",
    "activations = first_im.view(-1, 28*28).to(torch.float64) @ weights.t() + biases\n",
    "print(f'Activations shape: {activations.shape}')\n",
    "print(f'Activations: {activations}')\n",
    "# compute the softmax\n",
    "softmax = torch.nn.Softmax(dim=1)\n",
    "softmax_out = softmax(activations)\n",
    "print(f'\\nSoftmax output shape: {softmax_out.shape}')\n",
    "print(f'Softmax output: {softmax_out}')\n",
    "# compute the bias gradient\n",
    "bias_grad = softmax_out - torch.nn.functional.one_hot(first_label, num_classes=10).to(torch.float64)\n",
    "print(f'\\nBias gradient shape: {bias_grad.shape}')\n",
    "print(f'Bias gradient: {bias_grad}')\n",
    "# compute the weight gradient\n",
    "weight_grad = bias_grad.t() @ first_im.view(-1, 28*28).to(torch.float64)\n",
    "print(f'\\nWeight gradient shape: {weight_grad.shape}')\n",
    "# compute the checksum of the weight gradient for each column\n",
    "weight_grad_checksum = weight_grad.sum(axis=1)\n",
    "print(f'Weight gradient checksum shape: {weight_grad_checksum.shape}')\n",
    "print(f'Weight gradient checksum: {weight_grad_checksum}')\n",
    "# compute the updated weights\n",
    "updated_weights = weights - 0.5 * weight_grad\n",
    "print(f'\\nUpdated weights shape: {updated_weights.shape}')\n",
    "# compute the checksum of the updated weights for each column\n",
    "updated_weights_checksum = updated_weights.sum(axis=1)\n",
    "print(f'Updated weights checksum shape: {updated_weights_checksum.shape}')\n",
    "print(f'Updated weights checksum: {updated_weights_checksum}')\n",
    "# compute the updated biases\n",
    "updated_biases = biases - 0.5 * bias_grad.sum(axis=0)\n",
    "print(f'\\nUpdated biases shape: {updated_biases.shape}')\n",
    "print(f'Updated biases: {updated_biases}')"
   ]
  },
  {
   "cell_type": "code",
   "execution_count": 22,
   "metadata": {},
   "outputs": [
    {
     "data": {
      "text/plain": [
       "torch.Size([10, 784])"
      ]
     },
     "execution_count": 22,
     "metadata": {},
     "output_type": "execute_result"
    }
   ],
   "source": [
    "(weight_grad**2).shape"
   ]
  },
  {
   "cell_type": "code",
   "execution_count": 33,
   "metadata": {},
   "outputs": [
    {
     "name": "stdout",
     "output_type": "stream",
     "text": [
      "Weight gradient norm: 9.41358745683761\n",
      "Weight gradient norm (manual): 9.413587456837613\n",
      "Clipped weight gradient norm (manual): 5.000000000000002\n"
     ]
    }
   ],
   "source": [
    "# determine the norm of the weight gradient\n",
    "weight_grad_norm = torch.norm(weight_grad)\n",
    "print(f'Weight gradient norm: {weight_grad_norm}')\n",
    "# create zero tensor of the same shape as the weight gradient\n",
    "weight_grad_norm_tensor = torch.zeros_like(weight_grad)\n",
    "# manually compute the square of the weight gradient\n",
    "for i in range(weight_grad.shape[0]):\n",
    "    for j in range(weight_grad.shape[1]):\n",
    "        weight_grad_norm_tensor[i, j] = weight_grad[i, j]*weight_grad[i, j]\n",
    "# determine the norm of the weight gradient manually\n",
    "weight_grad_norm_manual = torch.sqrt(torch.sum(weight_grad**2))\n",
    "print(f'Weight gradient norm (manual): {weight_grad_norm_manual}')\n",
    "max_norm = 5\n",
    "# compute the clipped gradient manually\n",
    "clipped_weight_grad = weight_grad * torch.min(max_norm / weight_grad_norm, torch.tensor(1.0))\n",
    "# clipped_weight_grad\n",
    "# determine the norm of the clipped gradient manually\n",
    "clipped_weight_grad_norm_manual = torch.sqrt(torch.sum(clipped_weight_grad**2))\n",
    "print(f'Clipped weight gradient norm (manual): {clipped_weight_grad_norm_manual}')"
   ]
  },
  {
   "cell_type": "code",
   "execution_count": 34,
   "metadata": {},
   "outputs": [
    {
     "data": {
      "text/plain": [
       "tensor([[True, True, True,  ..., True, True, True],\n",
       "        [True, True, True,  ..., True, True, True],\n",
       "        [True, True, True,  ..., True, True, True],\n",
       "        ...,\n",
       "        [True, True, True,  ..., True, True, True],\n",
       "        [True, True, True,  ..., True, True, True],\n",
       "        [True, True, True,  ..., True, True, True]])"
      ]
     },
     "execution_count": 34,
     "metadata": {},
     "output_type": "execute_result"
    }
   ],
   "source": [
    "weight_grad_norm_tensor == weight_grad**2"
   ]
  },
  {
   "cell_type": "code",
   "execution_count": 29,
   "metadata": {},
   "outputs": [
    {
     "data": {
      "text/plain": [
       "tensor(1.2467e-07, dtype=torch.float64, grad_fn=<SqrtBackward0>)"
      ]
     },
     "execution_count": 29,
     "metadata": {},
     "output_type": "execute_result"
    }
   ],
   "source": [
    "torch.sqrt(torch.sum(weight_grad))"
   ]
  },
  {
   "cell_type": "code",
   "execution_count": 24,
   "metadata": {},
   "outputs": [
    {
     "data": {
      "text/plain": [
       "tensor([[True, True, True,  ..., True, True, True],\n",
       "        [True, True, True,  ..., True, True, True],\n",
       "        [True, True, True,  ..., True, True, True],\n",
       "        ...,\n",
       "        [True, True, True,  ..., True, True, True],\n",
       "        [True, True, True,  ..., True, True, True],\n",
       "        [True, True, True,  ..., True, True, True]])"
      ]
     },
     "execution_count": 24,
     "metadata": {},
     "output_type": "execute_result"
    }
   ],
   "source": [
    "weight_grad.t() * weight_grad.t() == weight_grad.t()**2"
   ]
  },
  {
   "cell_type": "code",
   "execution_count": 36,
   "metadata": {},
   "outputs": [
    {
     "data": {
      "text/plain": [
       "tensor(1.)"
      ]
     },
     "execution_count": 36,
     "metadata": {},
     "output_type": "execute_result"
    }
   ],
   "source": [
    "torch.tensor(1.0)"
   ]
  },
  {
   "cell_type": "code",
   "execution_count": 35,
   "metadata": {},
   "outputs": [
    {
     "data": {
      "text/plain": [
       "tensor(0.5311, dtype=torch.float64, grad_fn=<MinimumBackward0>)"
      ]
     },
     "execution_count": 35,
     "metadata": {},
     "output_type": "execute_result"
    }
   ],
   "source": [
    "torch.min(max_norm / weight_grad_norm, torch.tensor(1.0))"
   ]
  },
  {
   "cell_type": "code",
   "execution_count": 25,
   "metadata": {},
   "outputs": [
    {
     "name": "stdout",
     "output_type": "stream",
     "text": [
      "--------------- Iteration 0 ---------------\n",
      "\n",
      "FP16 Linear output: tensor([[ 0.0532,  0.1615,  0.2876,  0.0099,  0.2178, -0.2915, -0.0587,  0.4343,\n",
      "          0.1176,  0.0231]], dtype=torch.float16)\n",
      "\n",
      "FP16 Softmax output: tensor([[0.0942, 0.1049, 0.1191, 0.0902, 0.1110, 0.0667, 0.0842, 0.1378, 0.1005,\n",
      "         0.0914]], dtype=torch.float16)\n",
      "\n",
      "FP16 Bias gradient: tensor([[ 0.0942,  0.1049,  0.1191,  0.0902,  0.1110, -0.9331,  0.0842,  0.1378,\n",
      "          0.1005,  0.0914]], dtype=torch.float16)\n",
      "\n",
      "FP16 Weight gradient checksum: tensor([  10.1641,   11.3281,   12.8516,    9.7344,   11.9844, -100.7500,\n",
      "           9.0938,   14.8750,   10.8438,    9.8594], dtype=torch.float16)\n",
      "\n",
      "FP16 Updated weights checksum: tensor([-5.8477, -5.3711, -5.9258, -4.7773, -5.6562, 49.5625, -4.7188, -6.7734,\n",
      "        -4.9102, -4.1250], dtype=torch.float16)\n",
      "\n",
      "FP16 Updated biases: tensor([-0.0173, -0.0802, -0.0446, -0.0320, -0.0293,  0.4722, -0.0587, -0.0521,\n",
      "        -0.0424, -0.0146], dtype=torch.float16)\n",
      "--------------- Iteration 0 completed --------------- \n",
      "\n",
      "--------------- Iteration 1 ---------------\n",
      "\n",
      "FP16 Linear output: tensor([[-2.4648, -2.5527, -3.0488, -2.6445, -2.9453, 25.5469, -2.2363, -3.3203,\n",
      "         -2.6562, -2.2695]], dtype=torch.float16)\n",
      "\n",
      "FP16 Softmax output: tensor([[0., 0., 0., 0., 0., 1., 0., 0., 0., 0.]], dtype=torch.float16)\n",
      "\n",
      "FP16 Bias gradient: tensor([[-1.,  0.,  0.,  0.,  0.,  1.,  0.,  0.,  0.,  0.]],\n",
      "       dtype=torch.float16)\n",
      "\n",
      "FP16 Weight gradient checksum: tensor([-121.9375,    0.0000,    0.0000,    0.0000,    0.0000,  121.9375,\n",
      "           0.0000,    0.0000,    0.0000,    0.0000], dtype=torch.float16)\n",
      "\n",
      "FP16 Updated weights checksum: tensor([ 55.1250,  -5.3711,  -5.9258,  -4.7773,  -5.6562, -11.4062,  -4.7188,\n",
      "         -6.7734,  -4.9102,  -4.1250], dtype=torch.float16)\n",
      "\n",
      "FP16 Updated biases: tensor([ 0.4827, -0.0802, -0.0446, -0.0320, -0.0293, -0.0278, -0.0587, -0.0521,\n",
      "        -0.0424, -0.0146], dtype=torch.float16)\n",
      "--------------- Iteration 1 completed --------------- \n",
      "\n",
      "--------------- Iteration 2 ---------------\n",
      "\n",
      "FP16 Linear output: tensor([[ 8.2891, -0.9214, -1.1455, -0.8037, -0.7832, -0.7915, -0.5576, -0.9409,\n",
      "         -1.1904, -0.5903]], dtype=torch.float16)\n",
      "\n",
      "FP16 Softmax output: tensor([[9.9902e-01, 9.9897e-05, 7.9811e-05, 1.1235e-04, 1.1468e-04, 1.1373e-04,\n",
      "         1.4377e-04, 9.7930e-05, 7.6354e-05, 1.3912e-04]], dtype=torch.float16)\n",
      "\n",
      "FP16 Bias gradient: tensor([[ 9.9902e-01,  9.9897e-05,  7.9811e-05,  1.1235e-04, -1.0000e+00,\n",
      "          1.1373e-04,  1.4377e-04,  9.7930e-05,  7.6354e-05,  1.3912e-04]],\n",
      "       dtype=torch.float16)\n",
      "\n",
      "FP16 Weight gradient checksum: tensor([ 7.6188e+01,  7.6180e-03,  6.0844e-03,  8.5678e-03, -7.6250e+01,\n",
      "         8.6746e-03,  1.0963e-02,  7.4692e-03,  5.8212e-03,  1.0605e-02],\n",
      "       dtype=torch.float16)\n",
      "\n",
      "FP16 Updated weights checksum: tensor([ 17.0312,  -5.3750,  -5.9297,  -4.7812,  32.4688, -11.4062,  -4.7266,\n",
      "         -6.7773,  -4.9102,  -4.1328], dtype=torch.float16)\n",
      "\n",
      "FP16 Updated biases: tensor([-0.0168, -0.0803, -0.0446, -0.0320,  0.4707, -0.0279, -0.0587, -0.0521,\n",
      "        -0.0424, -0.0147], dtype=torch.float16)\n",
      "--------------- Iteration 2 completed --------------- \n",
      "\n",
      "--------------- Iteration 3 ---------------\n",
      "\n",
      "FP16 Linear output: tensor([[ 5.7422, -1.5234, -1.5957, -1.0664,  3.1074,  0.1289, -1.3691, -1.8252,\n",
      "         -1.3828, -0.9888]], dtype=torch.float16)\n",
      "\n",
      "FP16 Softmax output: tensor([[9.2480e-01, 6.4659e-04, 6.0177e-04, 1.0214e-03, 6.6345e-02, 3.3760e-03,\n",
      "         7.5436e-04, 4.7827e-04, 7.4434e-04, 1.1034e-03]], dtype=torch.float16)\n",
      "\n",
      "FP16 Bias gradient: tensor([[ 9.2480e-01, -9.9951e-01,  6.0177e-04,  1.0214e-03,  6.6345e-02,\n",
      "          3.3760e-03,  7.5436e-04,  4.7827e-04,  7.4434e-04,  1.1034e-03]],\n",
      "       dtype=torch.float16)\n",
      "\n",
      "FP16 Weight gradient checksum: tensor([ 6.2125e+01, -6.7188e+01,  4.0436e-02,  6.8665e-02,  4.4570e+00,\n",
      "         2.2681e-01,  5.0690e-02,  3.2135e-02,  5.0018e-02,  7.4158e-02],\n",
      "       dtype=torch.float16)\n",
      "\n",
      "FP16 Updated weights checksum: tensor([-14.0312,  28.2031,  -5.9492,  -4.8164,  30.2344, -11.5234,  -4.7500,\n",
      "         -6.7930,  -4.9375,  -4.1680], dtype=torch.float16)\n",
      "\n",
      "FP16 Updated biases: tensor([-0.4792,  0.4194, -0.0450, -0.0325,  0.4375, -0.0296, -0.0591, -0.0524,\n",
      "        -0.0428, -0.0153], dtype=torch.float16)\n",
      "--------------- Iteration 3 completed --------------- \n",
      "\n",
      "--------------- Iteration 4 ---------------\n",
      "\n",
      "FP16 Linear output: tensor([[-3.7598, 10.8984, -1.6553, -1.4580,  6.7109, -4.9766, -0.9932, -2.0332,\n",
      "         -1.8115, -1.3467]], dtype=torch.float16)\n",
      "\n",
      "FP16 Softmax output: tensor([[4.1723e-07, 9.8486e-01, 3.4571e-06, 4.2319e-06, 1.4954e-02, 1.1921e-07,\n",
      "         6.7353e-06, 2.3842e-06, 2.9802e-06, 4.7088e-06]], dtype=torch.float16)\n",
      "\n",
      "FP16 Bias gradient: tensor([[ 4.1723e-07,  9.8486e-01,  3.4571e-06,  4.2319e-06,  1.4954e-02,\n",
      "          1.1921e-07,  6.7353e-06,  2.3842e-06,  2.9802e-06, -1.0000e+00]],\n",
      "       dtype=torch.float16)\n",
      "\n",
      "FP16 Weight gradient checksum: tensor([ 3.8326e-05,  8.9625e+01,  3.1519e-04,  3.8433e-04,  1.3613e+00,\n",
      "         1.0729e-05,  6.1369e-04,  2.1839e-04,  2.7084e-04, -9.1062e+01],\n",
      "       dtype=torch.float16)\n",
      "\n",
      "FP16 Updated weights checksum: tensor([-14.0312, -16.6250,  -5.9492,  -4.8164,  29.5625, -11.5234,  -4.7500,\n",
      "         -6.7930,  -4.9375,  41.3438], dtype=torch.float16)\n",
      "\n",
      "FP16 Updated biases: tensor([-0.4792, -0.0730, -0.0450, -0.0325,  0.4299, -0.0296, -0.0591, -0.0524,\n",
      "        -0.0428,  0.4846], dtype=torch.float16)\n",
      "--------------- Iteration 4 completed --------------- \n",
      "\n",
      "--------------- Iteration 5 ---------------\n",
      "\n",
      "FP16 Linear output: tensor([[ -5.3828, -10.8125,  -2.5605,  -2.1641,   9.2578,  -2.8594,  -1.9453,\n",
      "          -2.6660,  -2.2598,  21.9531]], dtype=torch.float16)\n",
      "\n",
      "FP16 Softmax output: tensor([[0.0000e+00, 0.0000e+00, 0.0000e+00, 0.0000e+00, 3.0398e-06, 0.0000e+00,\n",
      "         0.0000e+00, 0.0000e+00, 0.0000e+00, 1.0000e+00]], dtype=torch.float16)\n",
      "\n",
      "FP16 Bias gradient: tensor([[ 0.0000e+00,  0.0000e+00, -1.0000e+00,  0.0000e+00,  3.0398e-06,\n",
      "          0.0000e+00,  0.0000e+00,  0.0000e+00,  0.0000e+00,  1.0000e+00]],\n",
      "       dtype=torch.float16)\n",
      "\n",
      "FP16 Weight gradient checksum: tensor([ 0.0000e+00,  0.0000e+00, -1.1606e+02,  0.0000e+00,  3.5167e-04,\n",
      "         0.0000e+00,  0.0000e+00,  0.0000e+00,  0.0000e+00,  1.1606e+02],\n",
      "       dtype=torch.float16)\n",
      "\n",
      "FP16 Updated weights checksum: tensor([-14.0312, -16.6250,  52.0938,  -4.8164,  29.5625, -11.5234,  -4.7500,\n",
      "         -6.7930,  -4.9375, -16.6875], dtype=torch.float16)\n",
      "\n",
      "FP16 Updated biases: tensor([-0.4792, -0.0730,  0.4551, -0.0325,  0.4299, -0.0296, -0.0591, -0.0524,\n",
      "        -0.0428, -0.0154], dtype=torch.float16)\n",
      "--------------- Iteration 5 completed --------------- \n",
      "\n",
      "--------------- Iteration 6 ---------------\n",
      "\n",
      "FP16 Linear output: tensor([[-4.5273, -8.7422, 11.5938, -1.3096,  2.4238,  4.2500, -1.6250, -2.3535,\n",
      "         -1.7578,  1.5693]], dtype=torch.float16)\n",
      "\n",
      "FP16 Softmax output: tensor([[1.1921e-07, 0.0000e+00, 9.9902e-01, 2.5034e-06, 1.0407e-04, 6.4611e-04,\n",
      "         1.7881e-06, 8.9407e-07, 1.6093e-06, 4.4286e-05]], dtype=torch.float16)\n",
      "\n",
      "FP16 Bias gradient: tensor([[ 1.1921e-07, -1.0000e+00,  9.9902e-01,  2.5034e-06,  1.0407e-04,\n",
      "          6.4611e-04,  1.7881e-06,  8.9407e-07,  1.6093e-06,  4.4286e-05]],\n",
      "       dtype=torch.float16)\n",
      "\n",
      "FP16 Weight gradient checksum: tensor([ 8.2850e-06, -6.9188e+01,  6.9125e+01,  1.7476e-04,  7.2021e-03,\n",
      "         4.4708e-02,  1.2493e-04,  6.1989e-05,  1.1206e-04,  3.0632e-03],\n",
      "       dtype=torch.float16)\n",
      "\n",
      "FP16 Updated weights checksum: tensor([-14.0312,  17.9844,  17.5312,  -4.8164,  29.5625, -11.5469,  -4.7500,\n",
      "         -6.7930,  -4.9375, -16.6875], dtype=torch.float16)\n",
      "\n",
      "FP16 Updated biases: tensor([-0.4792,  0.4270, -0.0444, -0.0325,  0.4299, -0.0299, -0.0591, -0.0524,\n",
      "        -0.0428, -0.0154], dtype=torch.float16)\n",
      "--------------- Iteration 6 completed --------------- \n",
      "\n",
      "--------------- Iteration 7 ---------------\n",
      "\n",
      "FP16 Linear output: tensor([[ -9.6250,   9.8047,   9.9375,  -3.4805,  13.6328,   1.8311,  -2.9844,\n",
      "          -4.6523,  -3.5664, -10.6406]], dtype=torch.float16)\n",
      "\n",
      "FP16 Softmax output: tensor([[0.0000e+00, 2.0782e-02, 2.3727e-02, 5.9605e-08, 9.5557e-01, 7.1526e-06,\n",
      "         5.9605e-08, 0.0000e+00, 5.9605e-08, 0.0000e+00]], dtype=torch.float16)\n",
      "\n",
      "FP16 Bias gradient: tensor([[ 0.0000e+00,  2.0782e-02,  2.3727e-02, -1.0000e+00,  9.5557e-01,\n",
      "          7.1526e-06,  5.9605e-08,  0.0000e+00,  5.9605e-08,  0.0000e+00]],\n",
      "       dtype=torch.float16)\n",
      "\n",
      "FP16 Weight gradient checksum: tensor([ 0.0000e+00,  2.9238e+00,  3.3379e+00, -1.4062e+02,  1.3438e+02,\n",
      "         1.0071e-03,  8.5235e-06,  0.0000e+00,  8.5235e-06,  0.0000e+00],\n",
      "       dtype=torch.float16)\n",
      "\n",
      "FP16 Updated weights checksum: tensor([-14.0312,  16.5156,  15.8594,  65.5000, -37.6562, -11.5469,  -4.7500,\n",
      "         -6.7930,  -4.9375, -16.6875], dtype=torch.float16)\n",
      "\n",
      "FP16 Updated biases: tensor([-0.4792,  0.4165, -0.0563,  0.4675, -0.0479, -0.0299, -0.0591, -0.0524,\n",
      "        -0.0428, -0.0154], dtype=torch.float16)\n",
      "--------------- Iteration 7 completed --------------- \n",
      "\n",
      "--------------- Iteration 8 ---------------\n",
      "\n",
      "FP16 Linear output: tensor([[ -2.0371,  11.0547, -11.3672,   9.7578,  -9.8125,   2.7461,  -0.9922,\n",
      "          -1.4736,  -1.1416,   2.8398]], dtype=torch.float16)\n",
      "\n",
      "FP16 Softmax output: tensor([[1.6093e-06, 7.8516e-01, 0.0000e+00, 2.1460e-01, 0.0000e+00, 1.9336e-04,\n",
      "         4.5896e-06, 2.8610e-06, 3.9339e-06, 2.1243e-04]], dtype=torch.float16)\n",
      "\n",
      "FP16 Bias gradient: tensor([[ 1.6093e-06, -2.1484e-01,  0.0000e+00,  2.1460e-01,  0.0000e+00,\n",
      "          1.9336e-04,  4.5896e-06,  2.8610e-06,  3.9339e-06,  2.1243e-04]],\n",
      "       dtype=torch.float16)\n",
      "\n",
      "FP16 Weight gradient checksum: tensor([ 6.8605e-05, -9.1641e+00,  0.0000e+00,  9.1484e+00,  0.0000e+00,\n",
      "         8.2474e-03,  1.9598e-04,  1.2231e-04,  1.6773e-04,  9.0561e-03],\n",
      "       dtype=torch.float16)\n",
      "\n",
      "FP16 Updated weights checksum: tensor([-14.0312,  21.0938,  15.8594,  60.9375, -37.6562, -11.5469,  -4.7500,\n",
      "         -6.7930,  -4.9375, -16.7031], dtype=torch.float16)\n",
      "\n",
      "FP16 Updated biases: tensor([-0.4792,  0.5239, -0.0563,  0.3604, -0.0479, -0.0300, -0.0591, -0.0524,\n",
      "        -0.0428, -0.0155], dtype=torch.float16)\n",
      "--------------- Iteration 8 completed --------------- \n",
      "\n",
      "--------------- Iteration 9 ---------------\n",
      "\n",
      "FP16 Linear output: tensor([[-11.7188,   4.8477,   8.1641,  19.8438,  -9.6016,  -0.0310,  -1.5684,\n",
      "          -1.8066,  -1.5303,  -5.8164]], dtype=torch.float16)\n",
      "\n",
      "FP16 Softmax output: tensor([[0.0000e+00, 2.9802e-07, 8.4639e-06, 1.0000e+00, 0.0000e+00, 0.0000e+00,\n",
      "         0.0000e+00, 0.0000e+00, 0.0000e+00, 0.0000e+00]], dtype=torch.float16)\n",
      "\n",
      "FP16 Bias gradient: tensor([[ 0.0000e+00,  2.9802e-07,  8.4639e-06,  1.0000e+00, -1.0000e+00,\n",
      "          0.0000e+00,  0.0000e+00,  0.0000e+00,  0.0000e+00,  0.0000e+00]],\n",
      "       dtype=torch.float16)\n",
      "\n",
      "FP16 Weight gradient checksum: tensor([ 0.0000e+00,  2.5928e-05,  7.2670e-04,  8.5875e+01, -8.5875e+01,\n",
      "         0.0000e+00,  0.0000e+00,  0.0000e+00,  0.0000e+00,  0.0000e+00],\n",
      "       dtype=torch.float16)\n",
      "\n",
      "FP16 Updated weights checksum: tensor([-14.0312,  21.0938,  15.8594,  17.9844,   5.3047, -11.5469,  -4.7500,\n",
      "         -6.7930,  -4.9375, -16.7031], dtype=torch.float16)\n",
      "\n",
      "FP16 Updated biases: tensor([-0.4792,  0.5239, -0.0563, -0.1396,  0.4521, -0.0300, -0.0591, -0.0524,\n",
      "        -0.0428, -0.0155], dtype=torch.float16)\n",
      "--------------- Iteration 9 completed --------------- \n",
      "\n"
     ]
    }
   ],
   "source": [
    "# get full training routine for FP16\n",
    "# transform FP16 weights back to original shape\n",
    "weights_fp16t = weights_fp16.reshape(10, 28*28)\n",
    "# convert numpy array to torch tensor\n",
    "weights_fp16t = torch.from_numpy(weights_fp16t)\n",
    "# transform FP16 biases back to original shape\n",
    "biases_fp16t = biases_fp16.reshape(10)\n",
    "# convert numpy array to torch tensor\n",
    "biases_fp16t = torch.from_numpy(biases_fp16t)\n",
    "it = iter(mnist_dl)\n",
    "for i in range(10):\n",
    "    print(f'--------------- Iteration {i} ---------------')\n",
    "    im, label = next(it)\n",
    "    linear_output_fp16 = im.view(-1, 28*28).to(torch.float16) @ weights_fp16t.t() + biases_fp16t\n",
    "    print(f'\\nFP16 Linear output: {linear_output_fp16}')\n",
    "    # compute the softmax (have to upcast as FP16 is not supported)\n",
    "    softmax_output = torch.nn.Softmax(dim=1)(linear_output_fp16.to(torch.float32))\n",
    "    # downcast back to FP16\n",
    "    softmax_output_fp16 = softmax_output.to(torch.float16)\n",
    "    print(f'\\nFP16 Softmax output: {softmax_output_fp16}')\n",
    "    # compute the bias gradient\n",
    "    bias_grad_fp16 = softmax_output_fp16 - torch.nn.functional.one_hot(label, num_classes=10).to(torch.float16)\n",
    "    print(f'\\nFP16 Bias gradient: {bias_grad_fp16}')\n",
    "    # compute the weight gradient\n",
    "    weight_grad_fp16 = bias_grad_fp16.t() @ im.view(-1, 28*28).to(torch.float16)\n",
    "    # compute the checksum of the weight gradient for each column\n",
    "    weight_grad_checksum_fp16 = weight_grad_fp16.sum(axis=1)\n",
    "    print(f'\\nFP16 Weight gradient checksum: {weight_grad_checksum_fp16}')\n",
    "    # compute the updated weights\n",
    "    weights_fp16t = weights_fp16t - 0.5 * weight_grad_fp16\n",
    "    # compute the checksum of the updated weights for each column\n",
    "    updated_weights_checksum_fp16 = weights_fp16t.sum(axis=1)\n",
    "    print(f'\\nFP16 Updated weights checksum: {updated_weights_checksum_fp16}')\n",
    "    # compute the updated biases\n",
    "    biases_fp16t = biases_fp16t - 0.5 * bias_grad_fp16.sum(axis=0)\n",
    "    print(f'\\nFP16 Updated biases: {biases_fp16t}')\n",
    "    print(f'--------------- Iteration {i} completed --------------- \\n')\n"
   ]
  },
  {
   "cell_type": "code",
   "execution_count": 83,
   "metadata": {},
   "outputs": [
    {
     "name": "stdout",
     "output_type": "stream",
     "text": [
      "--------------- Iteration 0 ---------------\n",
      "\n",
      "FP16 Linear output: tensor([[ 0.0532,  0.1615,  0.2876,  0.0099,  0.2178, -0.2915, -0.0587,  0.4343,\n",
      "          0.1176,  0.0231]], dtype=torch.float16)\n",
      "\n",
      "FP16 Softmax output: tensor([[0.0942, 0.1049, 0.1191, 0.0902, 0.1110, 0.0667, 0.0842, 0.1378, 0.1005,\n",
      "         0.0914]], dtype=torch.float16)\n",
      "\n",
      "FP16 Prediction: tensor([7])\n",
      "\n",
      "FP16 Label: tensor([5])\n",
      "\n",
      "FP16 Accuracy: 0.0\n",
      "\n",
      "FP16 Loss: 2.336043357849121\n",
      "\n",
      "FP16 Bias gradient: tensor([[ 0.0942,  0.1049,  0.1191,  0.0902,  0.1110, -0.9331,  0.0842,  0.1378,\n",
      "          0.1005,  0.0914]], dtype=torch.float16)\n",
      "\n",
      "FP16 Weight gradient checksum: tensor([  10.1641,   11.3281,   12.8516,    9.7344,   11.9844, -100.7500,\n",
      "           9.0938,   14.8750,   10.8438,    9.8594], dtype=torch.float16)\n",
      "\n",
      "FP16 Updated weights checksum: tensor([-5.8477, -5.3711, -5.9258, -4.7773, -5.6562, 49.5625, -4.7188, -6.7734,\n",
      "        -4.9102, -4.1250], dtype=torch.float16)\n",
      "\n",
      "FP16 Updated biases: tensor([-0.0173, -0.0802, -0.0446, -0.0320, -0.0293,  0.4722, -0.0587, -0.0521,\n",
      "        -0.0424, -0.0146], dtype=torch.float16)\n",
      "--------------- Iteration 0 completed --------------- \n",
      "\n",
      "--------------- Iteration 1 ---------------\n",
      "\n",
      "FP16 Linear output: tensor([[-2.4648, -2.5527, -3.0488, -2.6445, -2.9453, 25.5469, -2.2363, -3.3203,\n",
      "         -2.6562, -2.2695]], dtype=torch.float16)\n",
      "\n",
      "FP16 Softmax output: tensor([[0., 0., 0., 0., 0., 1., 0., 0., 0., 0.]], dtype=torch.float16)\n",
      "\n",
      "FP16 Prediction: tensor([5])\n",
      "\n",
      "FP16 Label: tensor([0])\n",
      "\n",
      "FP16 Accuracy: 0.0\n",
      "\n",
      "FP16 Loss: 2.4611501693725586\n",
      "\n",
      "FP16 Bias gradient: tensor([[-1.,  0.,  0.,  0.,  0.,  1.,  0.,  0.,  0.,  0.]],\n",
      "       dtype=torch.float16)\n",
      "\n",
      "FP16 Weight gradient checksum: tensor([-121.9375,    0.0000,    0.0000,    0.0000,    0.0000,  121.9375,\n",
      "           0.0000,    0.0000,    0.0000,    0.0000], dtype=torch.float16)\n",
      "\n",
      "FP16 Updated weights checksum: tensor([ 55.1250,  -5.3711,  -5.9258,  -4.7773,  -5.6562, -11.4062,  -4.7188,\n",
      "         -6.7734,  -4.9102,  -4.1250], dtype=torch.float16)\n",
      "\n",
      "FP16 Updated biases: tensor([ 0.4827, -0.0802, -0.0446, -0.0320, -0.0293, -0.0278, -0.0587, -0.0521,\n",
      "        -0.0424, -0.0146], dtype=torch.float16)\n",
      "--------------- Iteration 1 completed --------------- \n",
      "\n",
      "--------------- Iteration 2 ---------------\n",
      "\n",
      "FP16 Linear output: tensor([[ 8.2891, -0.9214, -1.1455, -0.8037, -0.7832, -0.7915, -0.5576, -0.9409,\n",
      "         -1.1904, -0.5903]], dtype=torch.float16)\n",
      "\n",
      "FP16 Softmax output: tensor([[9.9902e-01, 9.9897e-05, 7.9811e-05, 1.1235e-04, 1.1468e-04, 1.1373e-04,\n",
      "         1.4377e-04, 9.7930e-05, 7.6354e-05, 1.3912e-04]], dtype=torch.float16)\n",
      "\n",
      "FP16 Prediction: tensor([0])\n",
      "\n",
      "FP16 Label: tensor([4])\n",
      "\n",
      "FP16 Accuracy: 0.0\n",
      "\n",
      "FP16 Loss: 2.4608922004699707\n",
      "\n",
      "FP16 Bias gradient: tensor([[ 9.9902e-01,  9.9897e-05,  7.9811e-05,  1.1235e-04, -1.0000e+00,\n",
      "          1.1373e-04,  1.4377e-04,  9.7930e-05,  7.6354e-05,  1.3912e-04]],\n",
      "       dtype=torch.float16)\n",
      "\n",
      "FP16 Weight gradient checksum: tensor([ 7.6188e+01,  7.6180e-03,  6.0844e-03,  8.5678e-03, -7.6250e+01,\n",
      "         8.6746e-03,  1.0963e-02,  7.4692e-03,  5.8212e-03,  1.0605e-02],\n",
      "       dtype=torch.float16)\n",
      "\n",
      "FP16 Updated weights checksum: tensor([ 17.0312,  -5.3750,  -5.9297,  -4.7812,  32.4688, -11.4062,  -4.7266,\n",
      "         -6.7773,  -4.9102,  -4.1328], dtype=torch.float16)\n",
      "\n",
      "FP16 Updated biases: tensor([-0.0168, -0.0803, -0.0446, -0.0320,  0.4707, -0.0279, -0.0587, -0.0521,\n",
      "        -0.0424, -0.0147], dtype=torch.float16)\n",
      "--------------- Iteration 2 completed --------------- \n",
      "\n",
      "--------------- Iteration 3 ---------------\n",
      "\n",
      "FP16 Linear output: tensor([[ 5.7422, -1.5234, -1.5957, -1.0664,  3.1074,  0.1289, -1.3691, -1.8252,\n",
      "         -1.3828, -0.9888]], dtype=torch.float16)\n",
      "\n",
      "FP16 Softmax output: tensor([[9.2480e-01, 6.4659e-04, 6.0177e-04, 1.0214e-03, 6.6345e-02, 3.3760e-03,\n",
      "         7.5436e-04, 4.7827e-04, 7.4434e-04, 1.1034e-03]], dtype=torch.float16)\n",
      "\n",
      "FP16 Prediction: tensor([0])\n",
      "\n",
      "FP16 Label: tensor([1])\n",
      "\n",
      "FP16 Accuracy: 0.0\n",
      "\n",
      "FP16 Loss: 2.450273275375366\n",
      "\n",
      "FP16 Bias gradient: tensor([[ 9.2480e-01, -9.9951e-01,  6.0177e-04,  1.0214e-03,  6.6345e-02,\n",
      "          3.3760e-03,  7.5436e-04,  4.7827e-04,  7.4434e-04,  1.1034e-03]],\n",
      "       dtype=torch.float16)\n",
      "\n",
      "FP16 Weight gradient checksum: tensor([ 6.2125e+01, -6.7188e+01,  4.0436e-02,  6.8665e-02,  4.4570e+00,\n",
      "         2.2681e-01,  5.0690e-02,  3.2135e-02,  5.0018e-02,  7.4158e-02],\n",
      "       dtype=torch.float16)\n",
      "\n",
      "FP16 Updated weights checksum: tensor([-14.0312,  28.2031,  -5.9492,  -4.8164,  30.2344, -11.5234,  -4.7500,\n",
      "         -6.7930,  -4.9375,  -4.1680], dtype=torch.float16)\n",
      "\n",
      "FP16 Updated biases: tensor([-0.4792,  0.4194, -0.0450, -0.0325,  0.4375, -0.0296, -0.0591, -0.0524,\n",
      "        -0.0428, -0.0153], dtype=torch.float16)\n",
      "--------------- Iteration 3 completed --------------- \n",
      "\n",
      "--------------- Iteration 4 ---------------\n",
      "\n",
      "FP16 Linear output: tensor([[-3.7598, 10.8984, -1.6553, -1.4580,  6.7109, -4.9766, -0.9932, -2.0332,\n",
      "         -1.8115, -1.3467]], dtype=torch.float16)\n",
      "\n",
      "FP16 Softmax output: tensor([[4.1723e-07, 9.8486e-01, 3.4571e-06, 4.2319e-06, 1.4954e-02, 1.1921e-07,\n",
      "         6.7353e-06, 2.3842e-06, 2.9802e-06, 4.7088e-06]], dtype=torch.float16)\n",
      "\n",
      "FP16 Prediction: tensor([1])\n",
      "\n",
      "FP16 Label: tensor([9])\n",
      "\n",
      "FP16 Accuracy: 0.0\n",
      "\n",
      "FP16 Loss: 2.458981513977051\n",
      "\n",
      "FP16 Bias gradient: tensor([[ 4.1723e-07,  9.8486e-01,  3.4571e-06,  4.2319e-06,  1.4954e-02,\n",
      "          1.1921e-07,  6.7353e-06,  2.3842e-06,  2.9802e-06, -1.0000e+00]],\n",
      "       dtype=torch.float16)\n",
      "\n",
      "FP16 Weight gradient checksum: tensor([ 3.8326e-05,  8.9625e+01,  3.1519e-04,  3.8433e-04,  1.3613e+00,\n",
      "         1.0729e-05,  6.1369e-04,  2.1839e-04,  2.7084e-04, -9.1062e+01],\n",
      "       dtype=torch.float16)\n",
      "\n",
      "FP16 Updated weights checksum: tensor([-14.0312, -16.6250,  -5.9492,  -4.8164,  29.5625, -11.5234,  -4.7500,\n",
      "         -6.7930,  -4.9375,  41.3438], dtype=torch.float16)\n",
      "\n",
      "FP16 Updated biases: tensor([-0.4792, -0.0730, -0.0450, -0.0325,  0.4299, -0.0296, -0.0591, -0.0524,\n",
      "        -0.0428,  0.4846], dtype=torch.float16)\n",
      "--------------- Iteration 4 completed --------------- \n",
      "\n",
      "--------------- Iteration 5 ---------------\n",
      "\n",
      "FP16 Linear output: tensor([[ -5.3828, -10.8125,  -2.5605,  -2.1641,   9.2578,  -2.8594,  -1.9453,\n",
      "          -2.6660,  -2.2598,  21.9531]], dtype=torch.float16)\n",
      "\n",
      "FP16 Softmax output: tensor([[0.0000e+00, 0.0000e+00, 0.0000e+00, 0.0000e+00, 3.0398e-06, 0.0000e+00,\n",
      "         0.0000e+00, 0.0000e+00, 0.0000e+00, 1.0000e+00]], dtype=torch.float16)\n",
      "\n",
      "FP16 Prediction: tensor([9])\n",
      "\n",
      "FP16 Label: tensor([2])\n",
      "\n",
      "FP16 Accuracy: 0.0\n",
      "\n",
      "FP16 Loss: 2.4611496925354004\n",
      "\n",
      "FP16 Bias gradient: tensor([[ 0.0000e+00,  0.0000e+00, -1.0000e+00,  0.0000e+00,  3.0398e-06,\n",
      "          0.0000e+00,  0.0000e+00,  0.0000e+00,  0.0000e+00,  1.0000e+00]],\n",
      "       dtype=torch.float16)\n",
      "\n",
      "FP16 Weight gradient checksum: tensor([ 0.0000e+00,  0.0000e+00, -1.1606e+02,  0.0000e+00,  3.5167e-04,\n",
      "         0.0000e+00,  0.0000e+00,  0.0000e+00,  0.0000e+00,  1.1606e+02],\n",
      "       dtype=torch.float16)\n",
      "\n",
      "FP16 Updated weights checksum: tensor([-14.0312, -16.6250,  52.0938,  -4.8164,  29.5625, -11.5234,  -4.7500,\n",
      "         -6.7930,  -4.9375, -16.6875], dtype=torch.float16)\n",
      "\n",
      "FP16 Updated biases: tensor([-0.4792, -0.0730,  0.4551, -0.0325,  0.4299, -0.0296, -0.0591, -0.0524,\n",
      "        -0.0428, -0.0154], dtype=torch.float16)\n",
      "--------------- Iteration 5 completed --------------- \n",
      "\n",
      "--------------- Iteration 6 ---------------\n",
      "\n",
      "FP16 Linear output: tensor([[-4.5273, -8.7422, 11.5938, -1.3096,  2.4238,  4.2500, -1.6250, -2.3535,\n",
      "         -1.7578,  1.5693]], dtype=torch.float16)\n",
      "\n",
      "FP16 Softmax output: tensor([[1.1921e-07, 0.0000e+00, 9.9902e-01, 2.5034e-06, 1.0407e-04, 6.4611e-04,\n",
      "         1.7881e-06, 8.9407e-07, 1.6093e-06, 4.4286e-05]], dtype=torch.float16)\n",
      "\n",
      "FP16 Prediction: tensor([2])\n",
      "\n",
      "FP16 Label: tensor([1])\n",
      "\n",
      "FP16 Accuracy: 0.0\n",
      "\n",
      "FP16 Loss: 2.4610328674316406\n",
      "\n",
      "FP16 Bias gradient: tensor([[ 1.1921e-07, -1.0000e+00,  9.9902e-01,  2.5034e-06,  1.0407e-04,\n",
      "          6.4611e-04,  1.7881e-06,  8.9407e-07,  1.6093e-06,  4.4286e-05]],\n",
      "       dtype=torch.float16)\n",
      "\n",
      "FP16 Weight gradient checksum: tensor([ 8.2850e-06, -6.9188e+01,  6.9125e+01,  1.7476e-04,  7.2021e-03,\n",
      "         4.4708e-02,  1.2493e-04,  6.1989e-05,  1.1206e-04,  3.0632e-03],\n",
      "       dtype=torch.float16)\n",
      "\n",
      "FP16 Updated weights checksum: tensor([-14.0312,  17.9844,  17.5312,  -4.8164,  29.5625, -11.5469,  -4.7500,\n",
      "         -6.7930,  -4.9375, -16.6875], dtype=torch.float16)\n",
      "\n",
      "FP16 Updated biases: tensor([-0.4792,  0.4270, -0.0444, -0.0325,  0.4299, -0.0299, -0.0591, -0.0524,\n",
      "        -0.0428, -0.0154], dtype=torch.float16)\n",
      "--------------- Iteration 6 completed --------------- \n",
      "\n",
      "--------------- Iteration 7 ---------------\n",
      "\n",
      "FP16 Linear output: tensor([[ -9.6250,   9.8047,   9.9375,  -3.4805,  13.6328,   1.8311,  -2.9844,\n",
      "          -4.6523,  -3.5664, -10.6406]], dtype=torch.float16)\n",
      "\n",
      "FP16 Softmax output: tensor([[0.0000e+00, 2.0782e-02, 2.3727e-02, 5.9605e-08, 9.5557e-01, 7.1526e-06,\n",
      "         5.9605e-08, 0.0000e+00, 5.9605e-08, 0.0000e+00]], dtype=torch.float16)\n",
      "\n",
      "FP16 Prediction: tensor([4])\n",
      "\n",
      "FP16 Label: tensor([3])\n",
      "\n",
      "FP16 Accuracy: 0.0\n",
      "\n",
      "FP16 Loss: 2.45487117767334\n",
      "\n",
      "FP16 Bias gradient: tensor([[ 0.0000e+00,  2.0782e-02,  2.3727e-02, -1.0000e+00,  9.5557e-01,\n",
      "          7.1526e-06,  5.9605e-08,  0.0000e+00,  5.9605e-08,  0.0000e+00]],\n",
      "       dtype=torch.float16)\n",
      "\n",
      "FP16 Weight gradient checksum: tensor([ 0.0000e+00,  2.9238e+00,  3.3379e+00, -1.4062e+02,  1.3438e+02,\n",
      "         1.0071e-03,  8.5235e-06,  0.0000e+00,  8.5235e-06,  0.0000e+00],\n",
      "       dtype=torch.float16)\n",
      "\n",
      "FP16 Updated weights checksum: tensor([-14.0312,  16.5156,  15.8594,  65.5000, -37.6562, -11.5469,  -4.7500,\n",
      "         -6.7930,  -4.9375, -16.6875], dtype=torch.float16)\n",
      "\n",
      "FP16 Updated biases: tensor([-0.4792,  0.4165, -0.0563,  0.4675, -0.0479, -0.0299, -0.0591, -0.0524,\n",
      "        -0.0428, -0.0154], dtype=torch.float16)\n",
      "--------------- Iteration 7 completed --------------- \n",
      "\n",
      "--------------- Iteration 8 ---------------\n",
      "\n",
      "FP16 Linear output: tensor([[ -2.0371,  11.0547, -11.3672,   9.7578,  -9.8125,   2.7461,  -0.9922,\n",
      "          -1.4736,  -1.1416,   2.8398]], dtype=torch.float16)\n",
      "\n",
      "FP16 Softmax output: tensor([[1.6093e-06, 7.8516e-01, 0.0000e+00, 2.1460e-01, 0.0000e+00, 1.9336e-04,\n",
      "         4.5896e-06, 2.8610e-06, 3.9339e-06, 2.1243e-04]], dtype=torch.float16)\n",
      "\n",
      "FP16 Prediction: tensor([1])\n",
      "\n",
      "FP16 Label: tensor([1])\n",
      "\n",
      "FP16 Accuracy: 0.1\n",
      "\n",
      "FP16 Loss: 1.6514499187469482\n",
      "\n",
      "FP16 Bias gradient: tensor([[ 1.6093e-06, -2.1484e-01,  0.0000e+00,  2.1460e-01,  0.0000e+00,\n",
      "          1.9336e-04,  4.5896e-06,  2.8610e-06,  3.9339e-06,  2.1243e-04]],\n",
      "       dtype=torch.float16)\n",
      "\n",
      "FP16 Weight gradient checksum: tensor([ 6.8605e-05, -9.1641e+00,  0.0000e+00,  9.1484e+00,  0.0000e+00,\n",
      "         8.2474e-03,  1.9598e-04,  1.2231e-04,  1.6773e-04,  9.0561e-03],\n",
      "       dtype=torch.float16)\n",
      "\n",
      "FP16 Updated weights checksum: tensor([-14.0312,  21.0938,  15.8594,  60.9375, -37.6562, -11.5469,  -4.7500,\n",
      "         -6.7930,  -4.9375, -16.7031], dtype=torch.float16)\n",
      "\n",
      "FP16 Updated biases: tensor([-0.4792,  0.5239, -0.0563,  0.3604, -0.0479, -0.0300, -0.0591, -0.0524,\n",
      "        -0.0428, -0.0155], dtype=torch.float16)\n",
      "--------------- Iteration 8 completed --------------- \n",
      "\n",
      "--------------- Iteration 9 ---------------\n",
      "\n",
      "FP16 Linear output: tensor([[-11.7188,   4.8477,   8.1641,  19.8438,  -9.6016,  -0.0310,  -1.5684,\n",
      "          -1.8066,  -1.5303,  -5.8164]], dtype=torch.float16)\n",
      "\n",
      "FP16 Softmax output: tensor([[0.0000e+00, 2.9802e-07, 8.4639e-06, 1.0000e+00, 0.0000e+00, 0.0000e+00,\n",
      "         0.0000e+00, 0.0000e+00, 0.0000e+00, 0.0000e+00]], dtype=torch.float16)\n",
      "\n",
      "FP16 Prediction: tensor([3])\n",
      "\n",
      "FP16 Label: tensor([4])\n",
      "\n",
      "FP16 Accuracy: 0.0\n",
      "\n",
      "FP16 Loss: 2.461148738861084\n",
      "\n",
      "FP16 Bias gradient: tensor([[ 0.0000e+00,  2.9802e-07,  8.4639e-06,  1.0000e+00, -1.0000e+00,\n",
      "          0.0000e+00,  0.0000e+00,  0.0000e+00,  0.0000e+00,  0.0000e+00]],\n",
      "       dtype=torch.float16)\n",
      "\n",
      "FP16 Weight gradient checksum: tensor([ 0.0000e+00,  2.5928e-05,  7.2670e-04,  8.5875e+01, -8.5875e+01,\n",
      "         0.0000e+00,  0.0000e+00,  0.0000e+00,  0.0000e+00,  0.0000e+00],\n",
      "       dtype=torch.float16)\n",
      "\n",
      "FP16 Updated weights checksum: tensor([-14.0312,  21.0938,  15.8594,  17.9844,   5.3047, -11.5469,  -4.7500,\n",
      "         -6.7930,  -4.9375, -16.7031], dtype=torch.float16)\n",
      "\n",
      "FP16 Updated biases: tensor([-0.4792,  0.5239, -0.0563, -0.1396,  0.4521, -0.0300, -0.0591, -0.0524,\n",
      "        -0.0428, -0.0155], dtype=torch.float16)\n",
      "--------------- Iteration 9 completed --------------- \n",
      "\n"
     ]
    }
   ],
   "source": [
    "# get full training routine for FP16\n",
    "# transform FP16 weights back to original shape\n",
    "weights_fp16t = weights_fp16.reshape(10, 28*28)\n",
    "# convert numpy array to torch tensor\n",
    "weights_fp16t = torch.from_numpy(weights_fp16t)\n",
    "# transform FP16 biases back to original shape\n",
    "biases_fp16t = biases_fp16.reshape(10)\n",
    "# convert numpy array to torch tensor\n",
    "biases_fp16t = torch.from_numpy(biases_fp16t)\n",
    "it = iter(mnist_dl)\n",
    "batch_size = 10\n",
    "for i in range(batch_size):\n",
    "    print(f'--------------- Iteration {i} ---------------')\n",
    "    im, label = next(it)\n",
    "    linear_output_fp16 = im.view(-1, 28*28).to(torch.float16) @ weights_fp16t.t() + biases_fp16t\n",
    "    print(f'\\nFP16 Linear output: {linear_output_fp16}')\n",
    "    # compute the softmax (have to upcast as FP16 is not supported)\n",
    "    softmax_output = torch.nn.Softmax(dim=1)(linear_output_fp16.to(torch.float32))\n",
    "    # downcast back to FP16\n",
    "    softmax_output_fp16 = softmax_output.to(torch.float16)\n",
    "    print(f'\\nFP16 Softmax output: {softmax_output_fp16}')\n",
    "    prediction = torch.argmax(softmax_output_fp16, dim=1)\n",
    "    print(f'\\nFP16 Prediction: {prediction}')\n",
    "    print(f'\\nFP16 Label: {label}')\n",
    "    # determine the accuracy\n",
    "    accuracy = (prediction == label).sum().item() / batch_size\n",
    "    print(f'\\nFP16 Accuracy: {accuracy}')\n",
    "    # compute the loss\n",
    "    loss = torch.nn.functional.cross_entropy(softmax_output, label)\n",
    "    print(f'\\nFP16 Loss: {loss}')\n",
    "    # compute the bias gradient\n",
    "    bias_grad_fp16 = softmax_output_fp16 - torch.nn.functional.one_hot(label, num_classes=10).to(torch.float16)\n",
    "    print(f'\\nFP16 Bias gradient: {bias_grad_fp16}')\n",
    "    # compute the weight gradient\n",
    "    weight_grad_fp16 = bias_grad_fp16.t() @ im.view(-1, 28*28).to(torch.float16)\n",
    "    # compute the checksum of the weight gradient for each column\n",
    "    weight_grad_checksum_fp16 = weight_grad_fp16.sum(axis=1)\n",
    "    print(f'\\nFP16 Weight gradient checksum: {weight_grad_checksum_fp16}')\n",
    "    # compute the updated weights\n",
    "    weights_fp16t = weights_fp16t - 0.5 * weight_grad_fp16\n",
    "    # compute the checksum of the updated weights for each column\n",
    "    updated_weights_checksum_fp16 = weights_fp16t.sum(axis=1)\n",
    "    print(f'\\nFP16 Updated weights checksum: {updated_weights_checksum_fp16}')\n",
    "    # compute the updated biases\n",
    "    biases_fp16t = biases_fp16t - 0.5 * bias_grad_fp16.sum(axis=0)\n",
    "    print(f'\\nFP16 Updated biases: {biases_fp16t}')\n",
    "    print(f'--------------- Iteration {i} completed --------------- \\n')\n"
   ]
  },
  {
   "cell_type": "code",
   "execution_count": 26,
   "metadata": {},
   "outputs": [
    {
     "name": "stdout",
     "output_type": "stream",
     "text": [
      "val: 0.0196075439453125\n",
      "b_grad_val: 0.00010001659393310547\n",
      "val_bin: 10010100000101\n",
      "b_grad_val_bin: 11010001110\n",
      "product: 1.9669532775878906e-06\n",
      "product_bin: 100001\n"
     ]
    }
   ],
   "source": [
    "im_val = 0.0196\n",
    "b_grad_val = 0.0001\n",
    "# convert val to numpy array\n",
    "val = np.array(im_val).astype(np.float16)\n",
    "b_grad_val = np.array(b_grad_val).astype(np.float16)\n",
    "print(f'val: {val}')\n",
    "print(f'b_grad_val: {b_grad_val}')\n",
    "# get binary representation of val\n",
    "val_bin = np.binary_repr(val.view(np.uint16))\n",
    "print(f'val_bin: {val_bin}')\n",
    "# get binary representation of b_grad_val\n",
    "b_grad_val_bin = np.binary_repr(b_grad_val.view(np.uint16))\n",
    "print(f'b_grad_val_bin: {b_grad_val_bin}')\n",
    "\n",
    "product = val * b_grad_val\n",
    "print(f'product: {product.astype(np.float16)}')\n",
    "# get binary representation of product\n",
    "product_bin = np.binary_repr(product.view(np.uint16))\n",
    "print(f'product_bin: {product_bin}')"
   ]
  },
  {
   "cell_type": "code",
   "execution_count": 36,
   "metadata": {},
   "outputs": [
    {
     "data": {
      "text/plain": [
       "tensor(0., dtype=torch.float16, grad_fn=<SelectBackward0>)"
      ]
     },
     "execution_count": 36,
     "metadata": {},
     "output_type": "execute_result"
    }
   ],
   "source": [
    "updated_softmax_out.to(torch.float16)[0][1]"
   ]
  },
  {
   "cell_type": "code",
   "execution_count": 38,
   "metadata": {},
   "outputs": [
    {
     "name": "stdout",
     "output_type": "stream",
     "text": [
      "Activations FP16 shape: torch.Size([1, 10])\n",
      "Activations FP16: tensor([[ 0.0532,  0.1615,  0.2876,  0.0099,  0.2178, -0.2915, -0.0587,  0.4343,\n",
      "          0.1176,  0.0231]], dtype=torch.float16)\n",
      "\n",
      "Bias gradient FP16 shape: torch.Size([1, 10])\n",
      "Bias gradient FP16: tensor([[0., 0., 0., 0., 0., 0., 0., 0., 0., 0.]], dtype=torch.float16,\n",
      "       grad_fn=<SubBackward0>)\n"
     ]
    }
   ],
   "source": [
    "# transform FP16 weights back to original shape\n",
    "weights_fp16t = weights_fp16.reshape(10, 28*28)\n",
    "# convert numpy array to torch tensor\n",
    "weights_fp16t = torch.from_numpy(weights_fp16t)\n",
    "# transform FP16 biases back to original shape\n",
    "biases_fp16t = biases_fp16.reshape(10)\n",
    "# convert numpy array to torch tensor\n",
    "biases_fp16t = torch.from_numpy(biases_fp16t)\n",
    "# do the same for FP16\n",
    "activations_fp16 = first_im.view(-1, 28*28).to(torch.float16) @ weights_fp16t.t() + biases_fp16t\n",
    "print(f'Activations FP16 shape: {activations_fp16.shape}')\n",
    "print(f'Activations FP16: {activations_fp16}')\n",
    "# # compute the softmax\n",
    "# softmax_fp16 = torch.nn.Softmax(dim=1)\n",
    "# # compute the softmax, but convert the output to FP32\n",
    "# softmax_out_fp16 = softmax_fp16((activations_fp16).to(torch.float32))\n",
    "# print(f'\\nSoftmax output FP16 shape: {softmax_out_fp16.shape}')\n",
    "# print(f'Softmax output FP16: {softmax_out_fp16}')\n",
    "# compute the bias gradient\n",
    "bias_grad_fp16 = updated_softmax_out.to(torch.float16) - torch.nn.functional.one_hot(first_label, num_classes=10).to(torch.float16)\n",
    "print(f'\\nBias gradient FP16 shape: {bias_grad_fp16.shape}')\n",
    "print(f'Bias gradient FP16: {bias_grad_fp16}')"
   ]
  },
  {
   "cell_type": "code",
   "execution_count": 23,
   "metadata": {},
   "outputs": [
    {
     "data": {
      "text/plain": [
       "(array([300., 290., 316., 327., 333., 323., 288., 330., 266., 335., 322.,\n",
       "        293., 320., 289., 345., 312., 340., 277., 327., 307., 331., 311.,\n",
       "        341., 331., 286.]),\n",
       " array([-0.03571302, -0.03285606, -0.0299991 , -0.02714214, -0.02428517,\n",
       "        -0.02142821, -0.01857125, -0.01571428, -0.01285732, -0.01000036,\n",
       "        -0.0071434 , -0.00428643, -0.00142947,  0.00142749,  0.00428445,\n",
       "         0.00714142,  0.00999838,  0.01285534,  0.01571231,  0.01856927,\n",
       "         0.02142623,  0.02428319,  0.02714016,  0.02999712,  0.03285408,\n",
       "         0.03571104]),\n",
       " <BarContainer object of 25 artists>)"
      ]
     },
     "execution_count": 23,
     "metadata": {},
     "output_type": "execute_result"
    },
    {
     "data": {
      "image/png": "[encoded data removed]",
      "text/plain": [
       "<Figure size 432x288 with 1 Axes>"
      ]
     },
     "metadata": {
      "needs_background": "light"
     },
     "output_type": "display_data"
    }
   ],
   "source": [
    "import matplotlib.pyplot as plt\n",
    "# count equal values in weight tensor\n",
    "torch.unique(weights, return_counts=True)\n",
    "# plot the histogram of the weight tensor\n",
    "plt.hist(weights.detach().flatten(), bins=25)\n",
    "# weight_hist = torch.histogram(weights.detach(), bins=50)\n",
    "# plot the histogram\n",
    "# plt.plot(weight_hist[1][:-1], weight_hist[0])"
   ]
  },
  {
   "cell_type": "code",
   "execution_count": 24,
   "metadata": {},
   "outputs": [],
   "source": [
    "def get_cmap(n, name='hsv'):\n",
    "    '''Returns a function that maps each index in 0, 1, ..., n-1 to a distinct \n",
    "    RGB color; the keyword argument name must be a standard mpl colormap name.'''\n",
    "    return plt.cm.get_cmap(name, n)"
   ]
  },
  {
   "cell_type": "code",
   "execution_count": 25,
   "metadata": {},
   "outputs": [
    {
     "name": "stdout",
     "output_type": "stream",
     "text": [
      "-3.4028235e+38\n",
      "3.4028235e+38\n",
      "1e-45\n",
      "-1e-45\n",
      "0.0\n"
     ]
    }
   ],
   "source": [
    "# get the minimum FP32 value\n",
    "min_fp32 = np.finfo(np.float32).min\n",
    "print(min_fp32)\n",
    "# get the maximum FP32 value\n",
    "max_fp32 = np.finfo(np.float32).max\n",
    "print(max_fp32)\n",
    "# get the minimum positive FP32 value\n",
    "min_pos_fp32 = np.nextafter(np.float32(0), np.float32(1))\n",
    "print(min_pos_fp32)\n",
    "# get the minimum negative FP32 value\n",
    "min_neg_fp32 = np.nextafter(np.float32(0), np.float32(-1))\n",
    "print(min_neg_fp32)\n",
    "zero_fp32 = np.float32(0)\n",
    "print(zero_fp32)"
   ]
  },
  {
   "cell_type": "code",
   "execution_count": 26,
   "metadata": {},
   "outputs": [
    {
     "name": "stdout",
     "output_type": "stream",
     "text": [
      "initial weights shape: torch.Size([10, 784])\n",
      "initial biases shape: torch.Size([10])\n"
     ]
    },
    {
     "data": {
      "image/png": "[encoded data removed]",
      "text/plain": [
       "<Figure size 720x360 with 2 Axes>"
      ]
     },
     "metadata": {
      "needs_background": "light"
     },
     "output_type": "display_data"
    },
    {
     "data": {
      "image/png": "[encoded data removed]",
      "text/plain": [
       "<Figure size 720x360 with 2 Axes>"
      ]
     },
     "metadata": {
      "needs_background": "light"
     },
     "output_type": "display_data"
    },
    {
     "data": {
      "image/png": "[encoded data removed]",
      "text/plain": [
       "<Figure size 720x360 with 2 Axes>"
      ]
     },
     "metadata": {
      "needs_background": "light"
     },
     "output_type": "display_data"
    },
    {
     "data": {
      "image/png": "[encoded data removed]",
      "text/plain": [
       "<Figure size 720x360 with 2 Axes>"
      ]
     },
     "metadata": {
      "needs_background": "light"
     },
     "output_type": "display_data"
    },
    {
     "data": {
      "image/png": "[encoded data removed]",
      "text/plain": [
       "<Figure size 720x360 with 2 Axes>"
      ]
     },
     "metadata": {
      "needs_background": "light"
     },
     "output_type": "display_data"
    },
    {
     "data": {
      "image/png": "[encoded data removed]",
      "text/plain": [
       "<Figure size 720x360 with 2 Axes>"
      ]
     },
     "metadata": {
      "needs_background": "light"
     },
     "output_type": "display_data"
    },
    {
     "data": {
      "image/png": "[encoded data removed]",
      "text/plain": [
       "<Figure size 720x360 with 2 Axes>"
      ]
     },
     "metadata": {
      "needs_background": "light"
     },
     "output_type": "display_data"
    },
    {
     "data": {
      "image/png": "[encoded data removed]",
      "text/plain": [
       "<Figure size 720x360 with 2 Axes>"
      ]
     },
     "metadata": {
      "needs_background": "light"
     },
     "output_type": "display_data"
    },
    {
     "data": {
      "image/png": "[encoded data removed]",
      "text/plain": [
       "<Figure size 720x360 with 2 Axes>"
      ]
     },
     "metadata": {
      "needs_background": "light"
     },
     "output_type": "display_data"
    },
    {
     "data": {
      "image/png": "[encoded data removed]",
      "text/plain": [
       "<Figure size 720x360 with 2 Axes>"
      ]
     },
     "metadata": {
      "needs_background": "light"
     },
     "output_type": "display_data"
    }
   ],
   "source": [
    "# DRAW HISTOGRAM OF WEIGHTS\n",
    "# import optimizers\n",
    "import torch.optim as optim\n",
    "torch.manual_seed(42)\n",
    "\n",
    "# make plot larger\n",
    "plt.rcParams['figure.figsize'] = [10, 5]\n",
    "\n",
    "net = LinLayer()\n",
    "weights = net.lin.weight\n",
    "print(\"initial weights shape: {}\".format(weights.shape))\n",
    "biases = net.lin.bias\n",
    "print(\"initial biases shape: {}\".format(biases.shape))\n",
    "\n",
    "# define the optimizer\n",
    "optimizer = optim.SGD(net.parameters(), lr=0.5)\n",
    "\n",
    "# define the loss function\n",
    "loss_fn = torch.nn.CrossEntropyLoss()\n",
    "\n",
    "num_batches = 10\n",
    "it = iter(mnist_dl)\n",
    "batch_size = 256\n",
    "cm = get_cmap(batch_size)\n",
    "for j in range(num_batches):\n",
    "    rand_idx = np.random.randint(0, 255)\n",
    "    for i in range(batch_size):\n",
    "        # print(f'--------------- Iteration {i} ---------------')\n",
    "        im, label = next(it)\n",
    "        net.zero_grad()\n",
    "        # zero the gradients\n",
    "        optimizer.zero_grad()\n",
    "\n",
    "        output = net(im.to(torch.float64))\n",
    "        weights = net.lin.weight\n",
    "        biases = net.lin.bias\n",
    "\n",
    "        if i % (batch_size) == 0:\n",
    "            # plot histogram of weights and biases next to each other\n",
    "            fig, (ax1, ax2) = plt.subplots(1, 2)\n",
    "            # generate a random number from 0 .. BATCH_SIZE\n",
    "            rand_num = np.random.randint(0, batch_size)\n",
    "            \n",
    "            ax1.hist(weights.detach().flatten(), bins=25, color=cm(rand_num))\n",
    "            # plot minimum FP32 value\n",
    "            # ax1.axvline(x=min_fp32, color='r', linestyle='--')\n",
    "            # plot maximum FP32 value\n",
    "            # ax1.axvline(x=max_fp32, color='r', linestyle='--')\n",
    "            # plot minimum positive FP32 value\n",
    "            ax1.axvline(x=min_pos_fp32, color='r', linestyle='--')\n",
    "            # plot minimum negative FP32 value\n",
    "            ax1.axvline(x=min_neg_fp32, color='r', linestyle='--')\n",
    "            # plot zero FP32 value\n",
    "            ax1.axvline(x=zero_fp32, color='r', linestyle='--')\n",
    "            ax1.set_title('Weights for image {} and batch {}'.format(i, j))\n",
    "            ax2.hist(biases.detach().flatten(), bins=25, color=cm(rand_num))\n",
    "            ax2.set_title('Biases for image {} and batch {}'.format(i, j))\n",
    "            plt.show()\n",
    "\n",
    "        loss = loss_fn(output, label)\n",
    "        loss.backward()\n",
    "\n",
    "        # update the parmeters\n",
    "        optimizer.step()\n",
    "        # print(f'--------------- Iteration {i} completed --------------- \\n')\n"
   ]
  },
  {
   "cell_type": "code",
   "execution_count": 8,
   "metadata": {},
   "outputs": [],
   "source": [
    "import numpy as np\n",
    "\n",
    "import matplotlib.pyplot as plt\n",
    "import matplotlib.animation as animation\n",
    "\n",
    "# Fixing random state for reproducibility\n",
    "np.random.seed(19680801)\n",
    "# Fixing bin edges\n",
    "HIST_BINS = np.linspace(-4, 4, 100)\n",
    "\n",
    "# histogram our data with numpy\n",
    "data = np.random.randn(1000)\n",
    "n, _ = np.histogram(data, HIST_BINS)"
   ]
  },
  {
   "cell_type": "code",
   "execution_count": 16,
   "metadata": {},
   "outputs": [
    {
     "data": {
      "text/plain": [
       "array([ 0,  0,  0,  0,  1,  1,  0,  0,  0,  0,  2,  0,  0,  0,  0,  2,  0,\n",
       "        1,  2,  0,  3,  5,  1,  0,  2,  3,  6,  6,  2,  7,  9,  8, 13, 11,\n",
       "       13, 25, 12, 17, 21, 23, 21, 32, 32, 31, 28, 26, 27, 36, 37, 32, 28,\n",
       "       38, 23, 25, 25, 29, 33, 24, 31, 27, 23, 17, 21, 23, 20,  7, 13, 18,\n",
       "        8, 15,  9,  5,  8,  8,  5,  7,  2,  1,  1,  1,  2,  0,  2,  0,  1,\n",
       "        0,  0,  0,  0,  0,  1,  0,  0,  0,  0,  0,  0,  0,  0])"
      ]
     },
     "execution_count": 16,
     "metadata": {},
     "output_type": "execute_result"
    }
   ],
   "source": [
    "n"
   ]
  }
 ],
 "metadata": {
  "kernelspec": {
   "display_name": "Python 3.9.12 ('msc')",
   "language": "python",
   "name": "python3"
  },
  "language_info": {
   "codemirror_mode": {
    "name": "ipython",
    "version": 3
   },
   "file_extension": ".py",
   "mimetype": "text/x-python",
   "name": "python",
   "nbconvert_exporter": "python",
   "pygments_lexer": "ipython3",
   "version": "3.9.12"
  },
  "orig_nbformat": 4,
  "vscode": {
   "interpreter": {
    "hash": "f6ecad0643b88c81fa0e19ea49e906f3e8e46360fe82f2ddcb2e85abcf6121e4"
   }
  }
 },
 "nbformat": 4,
 "nbformat_minor": 2
}
