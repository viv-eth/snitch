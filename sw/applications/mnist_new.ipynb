{
 "cells": [
  {
   "cell_type": "code",
   "execution_count": 1,
   "metadata": {},
   "outputs": [],
   "source": [
    "#!/usr/bin/env python3\n",
    "# Copyright 2022 ETH Zurich and University of Bologna.\n",
    "# Licensed under the Apache License, Version 2.0, see LICENSE for details.\n",
    "# SPDX-License-Identifier: Apache-2.0\n",
    "\n",
    "import numpy as np\n",
    "import torch\n",
    "import torch.nn as nn\n",
    "from torch.nn import functional as F\n",
    "from torchvision import transforms\n",
    "from torchvision.datasets import MNIST\n",
    "from torch.utils.data import DataLoader\n",
    "import argparse\n",
    "import pathlib\n",
    "import hjson\n",
    "import random\n",
    "import os"
   ]
  },
  {
   "cell_type": "code",
   "execution_count": 2,
   "metadata": {},
   "outputs": [],
   "source": [
    "np.random.seed(42)\n",
    "torch.manual_seed(42)\n",
    "global verbose"
   ]
  },
  {
   "cell_type": "code",
   "execution_count": 3,
   "metadata": {},
   "outputs": [],
   "source": [
    "def array_to_cstr(a):\n",
    "    out = '{'\n",
    "    if isinstance(a, np.ndarray):\n",
    "        a = a.flat\n",
    "    if isinstance(a, torch.Tensor):\n",
    "        a = a.numpy().flat\n",
    "    for el in a:\n",
    "        out += '{}, '.format(el)\n",
    "    out = out[:-2] + '}'\n",
    "    return out"
   ]
  },
  {
   "cell_type": "code",
   "execution_count": 208,
   "metadata": {},
   "outputs": [],
   "source": [
    "# TODO: check what is missing for CNN\n",
    "def emit_mnist_cnn_data(name='mnist_cnn', **kwargs):\n",
    "    \n",
    "    # constants\n",
    "    ## output channels\n",
    "    co = kwargs['CO']\n",
    "    ## input channels\n",
    "    ci = kwargs['CI']\n",
    "    ## input height \n",
    "    h = kwargs['H']\n",
    "    ## input width\n",
    "    w = kwargs['W']\n",
    "    ## filter dimension (assuming square)\n",
    "    k = kwargs['K']\n",
    "    ## padding\n",
    "    p = kwargs['padding']\n",
    "    ## stride\n",
    "    s = kwargs['stride']\n",
    "    \n",
    "    # data\n",
    "    MAT_INPUT = kwargs['INPUT']\n",
    "    MAT_CONV1_WEIGHTS = kwargs['CONV1_WEIGHTS']\n",
    "    MAT_CONV1_BIAS = kwargs['CONV1_BIAS']\n",
    "\n",
    "\n",
    "    layer_str = ''\n",
    "    layer_str += '#include \"network.h\"\\n\\n'\n",
    "    layer_str += f'cnn_t {name}_t = {{\\n'\n",
    "    layer_str += f'\\t.CO = {co},\\n'\n",
    "    layer_str += f'\\t.CI = {ci},\\n'\n",
    "    layer_str += f'\\t.H = {h},\\n'\n",
    "    layer_str += f'\\t.W = {w},\\n'\n",
    "    layer_str += f'\\t.K = {k},\\n'\n",
    "    layer_str += f'\\t.padding = {p},\\n'\n",
    "    layer_str += f'\\t.stride = {s},\\n'\n",
    "    layer_str += f'\\t.dtype = FP{kwargs[\"prec\"]}\\n'\n",
    "    layer_str += '};\\n\\n\\n'\n",
    "\n",
    "    ctypes = {\n",
    "        '64': 'double',\n",
    "        '32': 'float',\n",
    "        '16': '__fp16',\n",
    "        'B16': '__bf16',\n",
    "        '8': 'char'\n",
    "    }\n",
    "\n",
    "    dtype = ctypes[str(kwargs['prec'])]\n",
    "\n",
    "    # network initialization parameters\n",
    "    layer_str += f'static {dtype} {name}_conv1_weights_dram [{co}][{ci}][{k}][{k}] = ' + array_to_cstr(MAT_CONV1_WEIGHTS) + ';\\n\\n\\n'\n",
    "    layer_str += f'static {dtype} {name}_conv1_bias_dram [{co}] = ' + array_to_cstr(MAT_CONV1_BIAS) + ';\\n\\n\\n'\n",
    "\n",
    "    # input data\n",
    "    layer_str += f'static {dtype} {name}_image_dram [{w*h}][{1}] = ' + array_to_cstr(MAT_INPUT) + ';\\n\\n\\n'\n",
    "\n",
    "    return layer_str\n"
   ]
  },
  {
   "cell_type": "code",
   "execution_count": 209,
   "metadata": {},
   "outputs": [],
   "source": [
    "def emit_mnist_header_file(layer_type: str, **kwargs):\n",
    "\n",
    "    file_path = '/scratch/msc22f11/msc22f11/snitch/sw/applications/data/'\n",
    "    emit_str = \"// Copyright 2022 ETH Zurich and University of Bologna.\\n\" + \\\n",
    "               \"// Licensed under the Apache License, Version 2.0, see LICENSE for details.\\n\" + \\\n",
    "               \"// SPDX-License-Identifier: Apache-2.0\\n\\n\"\n",
    "\n",
    "    if(layer_type == 'mnist_cnn'):\n",
    "        file = file_path + 'data_cnn_mnist.h'\n",
    "        emit_str += emit_mnist_cnn_data(**kwargs)\n",
    "\n",
    "    with open(file, 'w') as f:\n",
    "        f.write(emit_str)"
   ]
  },
  {
   "cell_type": "code",
   "execution_count": 4,
   "metadata": {},
   "outputs": [],
   "source": [
    "# download MNIST dataset using DataLoader\n",
    "\n",
    "transform = transforms.Compose(\n",
    "    [\n",
    "        transforms.ToTensor()\n",
    "    ]\n",
    ")\n",
    "\n",
    "PATH_DATASETS = os.environ.get(\"PATH_DATASETS\", \".\")\n",
    "mnist_dataset = MNIST(PATH_DATASETS, train=True, transform=transform, download=True)\n",
    "\n",
    "# set seeds for reproducability \n",
    "g = torch.Generator()\n",
    "g.manual_seed(42)\n",
    "\n",
    "def seed_worker(worker_id):\n",
    "    worker_seed = torch.initial_seed % 2**32\n",
    "    np.random.seed(worker_seed)\n",
    "    random.seed(worker_seed)\n",
    "\n",
    "mnist_dl = DataLoader(mnist_dataset, worker_init_fn=seed_worker, generator=g)"
   ]
  },
  {
   "cell_type": "code",
   "execution_count": 5,
   "metadata": {},
   "outputs": [
    {
     "name": "stdout",
     "output_type": "stream",
     "text": [
      "Dataset MNIST\n",
      "    Number of datapoints: 60000\n",
      "    Root location: .\n",
      "    Split: Train\n",
      "    StandardTransform\n",
      "Transform: Compose(\n",
      "               ToTensor()\n",
      "           )\n"
     ]
    }
   ],
   "source": [
    "print(mnist_dataset)"
   ]
  },
  {
   "cell_type": "code",
   "execution_count": 216,
   "metadata": {},
   "outputs": [],
   "source": [
    "class CNN(nn.Module):\n",
    "    def __init__(self):\n",
    "        super(CNN, self).__init__()\n",
    "        torch.manual_seed(42)\n",
    "        self.conv1 = nn.Sequential(         \n",
    "            nn.Conv2d(\n",
    "                in_channels=1,              \n",
    "                out_channels=16,            \n",
    "                kernel_size=5,              \n",
    "                stride=1,                   \n",
    "                padding=2,                  \n",
    "            ),                              \n",
    "            nn.ReLU(),                      \n",
    "            nn.MaxPool2d(kernel_size=2),    \n",
    "        )\n",
    "        torch.manual_seed(42)\n",
    "        self.conv2 = nn.Sequential(         \n",
    "            nn.Conv2d(16, 32, 5, 1, 2),     \n",
    "            nn.ReLU(),                      \n",
    "            nn.MaxPool2d(2),                \n",
    "        )\n",
    "        # fully connected layer, output 10 classes\n",
    "        torch.manual_seed(42)\n",
    "        self.out = nn.Linear(32 * 7 * 7, 10)\n",
    "        \n",
    "    def forward(self, x):\n",
    "        print(x.shape)\n",
    "        x = self.conv1(x)\n",
    "        print(x.shape)\n",
    "        x = self.conv2(x)\n",
    "        print(x.shape)\n",
    "        # flatten the output of conv2 to (batch_size, 32 * 7 * 7)\n",
    "        x = x.view(x.size(0), -1)\n",
    "        print(x.shape)       \n",
    "        output = self.out(x)\n",
    "        print(output)\n",
    "        return output, x    # return x for visualization"
   ]
  },
  {
   "cell_type": "code",
   "execution_count": 217,
   "metadata": {},
   "outputs": [
    {
     "name": "stdout",
     "output_type": "stream",
     "text": [
      "CNN(\n",
      "  (conv1): Sequential(\n",
      "    (0): Conv2d(1, 16, kernel_size=(5, 5), stride=(1, 1), padding=(2, 2))\n",
      "    (1): ReLU()\n",
      "    (2): MaxPool2d(kernel_size=2, stride=2, padding=0, dilation=1, ceil_mode=False)\n",
      "  )\n",
      "  (conv2): Sequential(\n",
      "    (0): Conv2d(16, 32, kernel_size=(5, 5), stride=(1, 1), padding=(2, 2))\n",
      "    (1): ReLU()\n",
      "    (2): MaxPool2d(kernel_size=2, stride=2, padding=0, dilation=1, ceil_mode=False)\n",
      "  )\n",
      "  (out): Linear(in_features=1568, out_features=10, bias=True)\n",
      ")\n"
     ]
    }
   ],
   "source": [
    "net = CNN()\n",
    "print(net)"
   ]
  },
  {
   "cell_type": "code",
   "execution_count": 9,
   "metadata": {},
   "outputs": [],
   "source": [
    "\"\"\"\n",
    "Now we iterate through a smaller subset of the dataset \n",
    "to retrieve the image data with their\n",
    "respective labels\n",
    "\"\"\"\n",
    "\n",
    "data_iterator = iter(mnist_dl)\n",
    "\n",
    "for i in range(0, 5):\n",
    "    s_image, s_label = data_iterator.next()\n",
    "    np_s_image = s_image.numpy().flatten()\n",
    "    np_s_label = s_label.numpy().flatten()\n",
    "    if(i==0):\n",
    "        s_images = np.array(np_s_image.tolist())\n",
    "        s_labels = np.array(np_s_label.tolist())\n",
    "    else:\n",
    "        s_images = np.append(s_images, np_s_image)\n",
    "        s_labels = np.append(s_labels, np_s_label)"
   ]
  },
  {
   "cell_type": "code",
   "execution_count": 218,
   "metadata": {},
   "outputs": [],
   "source": [
    "first_im, first_label = next(iter(mnist_dl))"
   ]
  },
  {
   "cell_type": "code",
   "execution_count": 219,
   "metadata": {},
   "outputs": [
    {
     "name": "stdout",
     "output_type": "stream",
     "text": [
      "Shape of CONV1 weights:  torch.Size([16, 1, 5, 5])\n",
      "Shape of CONV1 biases:  torch.Size([16])\n",
      "torch.Size([1, 1, 28, 28])\n",
      "torch.Size([1, 16, 14, 14])\n",
      "torch.Size([1, 32, 7, 7])\n",
      "torch.Size([1, 1568])\n",
      "tensor([[-0.1005,  0.0660, -0.0802,  0.0697, -0.0005,  0.0110, -0.0027, -0.0046,\n",
      "          0.0114,  0.0355]], grad_fn=<AddmmBackward0>)\n"
     ]
    }
   ],
   "source": [
    "torch.manual_seed(42)\n",
    "\n",
    "weights_conv1 = net.conv1[0].weight\n",
    "print('Shape of CONV1 weights: ', weights_conv1.shape)\n",
    "biases_conv1 = net.conv1[0].bias\n",
    "print('Shape of CONV1 biases: ', biases_conv1.shape)\n",
    "weights_conv2 = net.conv2[0].weight\n",
    "biases_conv2 = net.conv2[0].bias\n",
    "\n",
    "criterion = nn.CrossEntropyLoss()\n",
    "\n",
    "for i in range(1):\n",
    "    net.zero_grad\n",
    "    output = net(first_im)[0]\n",
    "    loss = criterion(output, first_label)\n",
    "    loss.backward()\n",
    "    weight_grads_conv1 = net.conv1[0].weight.grad\n",
    "    bias_grads_conv1 = net.conv1[0].bias.grad\n",
    "    weight_grads_conv2 = net.conv2[0].weight.grad\n",
    "    bias_grads_conv2 = net.conv2[0].bias.grad\n"
   ]
  },
  {
   "cell_type": "code",
   "execution_count": 227,
   "metadata": {},
   "outputs": [],
   "source": [
    "kwargs = {\n",
    "    'CO': 16,\n",
    "    'CI': 1,\n",
    "    'H': 28,\n",
    "    'W': 28,\n",
    "    'K': 5,\n",
    "    'padding': 2,\n",
    "    'stride': 1,\n",
    "    'INPUT': first_im.numpy().flatten(),\n",
    "    'CONV1_WEIGHTS': weights_conv1.detach().numpy().flatten(),\n",
    "    'CONV1_BIAS': biases_conv1.detach().numpy().flatten(),\n",
    "    'prec': 64\n",
    "}"
   ]
  },
  {
   "cell_type": "code",
   "execution_count": 228,
   "metadata": {},
   "outputs": [],
   "source": [
    "emit_mnist_header_file('mnist_cnn', **kwargs)"
   ]
  },
  {
   "cell_type": "code",
   "execution_count": 66,
   "metadata": {},
   "outputs": [
    {
     "name": "stdout",
     "output_type": "stream",
     "text": [
      "torch.Size([1, 1, 28, 28])\n"
     ]
    },
    {
     "data": {
      "text/plain": [
       "torch.Size([1, 16, 28, 28])"
      ]
     },
     "execution_count": 66,
     "metadata": {},
     "output_type": "execute_result"
    }
   ],
   "source": [
    "print(first_im.shape)\n",
    "net.conv1[0](first_im).shape"
   ]
  },
  {
   "cell_type": "code",
   "execution_count": 68,
   "metadata": {},
   "outputs": [
    {
     "name": "stdout",
     "output_type": "stream",
     "text": [
      "torch.Size([16, 1, 5, 5])\n",
      "torch.Size([16])\n"
     ]
    }
   ],
   "source": [
    "print(weights_conv1.shape)\n",
    "print(biases_conv1.shape)"
   ]
  },
  {
   "cell_type": "code",
   "execution_count": 70,
   "metadata": {},
   "outputs": [
    {
     "data": {
      "text/plain": [
       "torch.Size([1, 5, 5])"
      ]
     },
     "execution_count": 70,
     "metadata": {},
     "output_type": "execute_result"
    }
   ],
   "source": [
    "weights_conv1[0].shape"
   ]
  },
  {
   "cell_type": "code",
   "execution_count": 222,
   "metadata": {},
   "outputs": [
    {
     "name": "stdout",
     "output_type": "stream",
     "text": [
      "torch.Size([2, 1, 28, 28])\n",
      "torch.Size([2, 16, 14, 14])\n",
      "torch.Size([2, 32, 7, 7])\n",
      "torch.Size([2, 1568])\n",
      "tensor([[ 0.0099,  0.0543, -0.0675,  0.1394, -0.0166, -0.0084, -0.0534, -0.1296,\n",
      "          0.0663, -0.0227],\n",
      "        [ 0.0056,  0.0306, -0.0367,  0.1300,  0.0285, -0.0247, -0.1016, -0.1288,\n",
      "          0.0791, -0.0425]], grad_fn=<AddmmBackward0>)\n",
      "----------------------------------------------------------------\n",
      "        Layer (type)               Output Shape         Param #\n",
      "================================================================\n",
      "            Conv2d-1           [-1, 16, 28, 28]             416\n",
      "              ReLU-2           [-1, 16, 28, 28]               0\n",
      "         MaxPool2d-3           [-1, 16, 14, 14]               0\n",
      "            Conv2d-4           [-1, 32, 14, 14]          12,832\n",
      "              ReLU-5           [-1, 32, 14, 14]               0\n",
      "         MaxPool2d-6             [-1, 32, 7, 7]               0\n",
      "            Linear-7                   [-1, 10]          15,690\n",
      "================================================================\n",
      "Total params: 28,938\n",
      "Trainable params: 28,938\n",
      "Non-trainable params: 0\n",
      "----------------------------------------------------------------\n",
      "Input size (MB): 0.00\n",
      "Forward/backward pass size (MB): 0.32\n",
      "Params size (MB): 0.11\n",
      "Estimated Total Size (MB): 0.44\n",
      "----------------------------------------------------------------\n"
     ]
    }
   ],
   "source": [
    "from torchvision import models\n",
    "from torchsummary import summary\n",
    "summary(net, (1, 28, 28))"
   ]
  },
  {
   "cell_type": "code",
   "execution_count": 110,
   "metadata": {},
   "outputs": [
    {
     "data": {
      "text/plain": [
       "array([-0.05595953,  0.13507354,  0.01593194,  0.00902367, -0.04922011,\n",
       "       -0.18111794, -0.18805149, -0.09560301, -0.10166428,  0.06231072,\n",
       "       -0.05822215, -0.07824443,  0.19068597,  0.06966458,  0.14258046,\n",
       "       -0.09682255], dtype=float32)"
      ]
     },
     "execution_count": 110,
     "metadata": {},
     "output_type": "execute_result"
    }
   ],
   "source": [
    "biases_conv1.detach().numpy()"
   ]
  },
  {
   "cell_type": "code",
   "execution_count": 212,
   "metadata": {},
   "outputs": [
    {
     "data": {
      "text/plain": [
       "torch.Size([1, 16, 28, 28])"
      ]
     },
     "execution_count": 212,
     "metadata": {},
     "output_type": "execute_result"
    }
   ],
   "source": [
    "net.conv1[0](first_im).shape"
   ]
  },
  {
   "cell_type": "code",
   "execution_count": 129,
   "metadata": {},
   "outputs": [
    {
     "data": {
      "text/plain": [
       "array([-0.05595953, -0.05595953, -0.05595953, -0.05595953, -0.05595953,\n",
       "       -0.05595953, -0.05595953, -0.05595953, -0.05595953, -0.05595953,\n",
       "       -0.05781687, -0.06554271, -0.05869401, -0.06374829, -0.13307634,\n",
       "       -0.08849649, -0.14184302, -0.04242297, -0.25899282, -0.20098922,\n",
       "       -0.1947165 , -0.11197067, -0.15200649, -0.21128216, -0.15689726,\n",
       "       -0.10185251, -0.05595953, -0.05595953], dtype=float32)"
      ]
     },
     "execution_count": 129,
     "metadata": {},
     "output_type": "execute_result"
    }
   ],
   "source": [
    "net.conv1[0](first_im)[0][0].detach().numpy()[3]"
   ]
  },
  {
   "cell_type": "code",
   "execution_count": 131,
   "metadata": {},
   "outputs": [
    {
     "data": {
      "text/plain": [
       "array([-0.05595953, -0.05595953, -0.05595953, -0.05595953, -0.05595953,\n",
       "       -0.05595953, -0.05595953, -0.05595953, -0.05595953, -0.05595953,\n",
       "       -0.05595953, -0.05595953, -0.05595953, -0.05595953, -0.05595953,\n",
       "       -0.05595953, -0.05595953, -0.05595953, -0.05595953, -0.05595953,\n",
       "       -0.05595953, -0.05595953, -0.05595953, -0.05595953, -0.05595953,\n",
       "       -0.05595953, -0.05595953, -0.05595953, -0.05595953, -0.05595953,\n",
       "       -0.05595953, -0.05595953])"
      ]
     },
     "execution_count": 131,
     "metadata": {},
     "output_type": "execute_result"
    }
   ],
   "source": [
    "(first_conv_img + biases_conv1[0].detach().numpy())[4]"
   ]
  },
  {
   "cell_type": "code",
   "execution_count": 133,
   "metadata": {},
   "outputs": [
    {
     "data": {
      "text/plain": [
       "torch.Size([28, 28])"
      ]
     },
     "execution_count": 133,
     "metadata": {},
     "output_type": "execute_result"
    }
   ],
   "source": [
    "first_im[0][0].shape"
   ]
  },
  {
   "cell_type": "code",
   "execution_count": 195,
   "metadata": {},
   "outputs": [
    {
     "data": {
      "text/plain": [
       "torch.Size([1, 1, 28, 28])"
      ]
     },
     "execution_count": 195,
     "metadata": {},
     "output_type": "execute_result"
    }
   ],
   "source": [
    "first_im.shape"
   ]
  },
  {
   "cell_type": "code",
   "execution_count": 196,
   "metadata": {},
   "outputs": [
    {
     "name": "stdout",
     "output_type": "stream",
     "text": [
      "Input Feature Map: 1x1x28x28\n",
      "Output Feature Map: 1x16x28x28\n"
     ]
    }
   ],
   "source": [
    "# image dimensions\n",
    "w_in = first_im[0][0].numpy().shape[0]\n",
    "h_in = first_im[0][0].numpy().shape[1]\n",
    "# input channel(s)\n",
    "c_in = 1\n",
    "print(\"Input Feature Map: {}x{}x{}x{}\".format(1, c_in, w_in, h_in))\n",
    "# output channels\n",
    "c_out = 16\n",
    "# kernel size\n",
    "k = 5\n",
    "# stride\n",
    "s = 1\n",
    "# padding\n",
    "p = 2\n",
    "# output dimensions\n",
    "w_out = (w_in - k + 2 * p) // s + 1\n",
    "h_out = (h_in - k + 2 * p) // s + 1\n",
    "print(\"Output Feature Map: {}x{}x{}x{}\".format(1, c_out, w_out, h_out))"
   ]
  },
  {
   "cell_type": "code",
   "execution_count": 172,
   "metadata": {},
   "outputs": [
    {
     "data": {
      "text/plain": [
       "torch.Size([1, 1, 32, 32])"
      ]
     },
     "execution_count": 172,
     "metadata": {},
     "output_type": "execute_result"
    }
   ],
   "source": [
    "# pad the image data with zeros\n",
    "# pad_width = ((2,2), (2,2))\n",
    "# first_im[0][0].numpy() = np.pad(first_im[0][0].numpy(), pad_width, 'constant', constant_values=0)\n",
    "# img_padded = np.pad(first_im[0][0].numpy(), ((2,2), (2,2)), 'constant', constant_values=0)\n",
    "# img_padded.shape\n",
    "img_padded = F.pad(first_im, (2, 2, 2, 2))\n",
    "img_padded.shape"
   ]
  },
  {
   "cell_type": "code",
   "execution_count": 254,
   "metadata": {},
   "outputs": [],
   "source": [
    "result = np.zeros(shape=(1, c_out, w_out, h_out))\n",
    "for o1 in range(w_out):\n",
    "    for o2 in range(h_out):\n",
    "        for co in range(c_out):\n",
    "            total = 0\n",
    "            for ci in range(c_in):\n",
    "                kt = 0\n",
    "                for kh in range(k):\n",
    "                    for kw in range(k):\n",
    "                        weight = weights_conv1[co][ci][kh][kw].detach().numpy()\n",
    "                        pos1 = kh + o1 * s\n",
    "                        pos2 = kw + o2 * s\n",
    "                        value = img_padded[0][ci][pos1][pos2].numpy()\n",
    "                        kt += weight * value\n",
    "                total += kt\n",
    "            result[0][co][o1][o2] = total + biases_conv1[co].detach().numpy()\n"
   ]
  },
  {
   "cell_type": "code",
   "execution_count": 255,
   "metadata": {},
   "outputs": [],
   "source": [
    "result2 = np.zeros(shape=(1, c_out, w_out, h_out))\n",
    "for co in range(c_out):\n",
    "    for o1 in range(w_out):\n",
    "        for o2 in range(h_out):\n",
    "            total = 0\n",
    "            for ci in range(c_in):\n",
    "                kt = 0\n",
    "                for kh in range(k):\n",
    "                    for kw in range(k):\n",
    "                        weight = weights_conv1[co][ci][kh][kw].detach().numpy()\n",
    "                        pos1 = kh + o1 * s\n",
    "                        pos2 = kw + o2 * s\n",
    "                        value = img_padded[0][ci][pos1][pos2].numpy()\n",
    "                        kt += weight * value\n",
    "                total += kt\n",
    "            result2[0][co][o1][o2] = total + biases_conv1[co].detach().numpy()"
   ]
  },
  {
   "cell_type": "code",
   "execution_count": 314,
   "metadata": {},
   "outputs": [
    {
     "name": "stdout",
     "output_type": "stream",
     "text": [
      "total[0][0] = 0.0\n",
      "total[1][0] = 0.0\n",
      "total[2][0] = 0.0\n",
      "total[3][0] = 0.0\n",
      "total[4][0] = 0.0\n",
      "total[5][0] = 0.0\n",
      "total[6][0] = 0.0\n",
      "total[7][0] = 0.0\n",
      "total[8][0] = 0.0\n",
      "total[9][0] = 0.0\n",
      "total[10][0] = 0.0\n",
      "total[11][0] = 0.0\n",
      "total[12][0] = 0.0\n",
      "total[13][0] = 0.0\n",
      "total[14][0] = 0.0\n",
      "total[15][0] = 0.0\n",
      "total[16][0] = 0.0\n",
      "total[17][0] = 0.0\n",
      "total[18][0] = 0.0\n",
      "total[19][0] = 0.0\n",
      "total[20][0] = 0.0\n",
      "total[21][0] = 0.0\n",
      "total[22][0] = 0.0\n",
      "total[23][0] = 0.0\n",
      "total[24][0] = 0.0\n",
      "total[25][0] = 0.0\n",
      "total[26][0] = 0.0\n",
      "total[27][0] = 0.0\n",
      "total[0][1] = 0.0\n",
      "total[1][1] = 0.0\n",
      "total[2][1] = 0.0\n",
      "total[3][1] = 0.0\n",
      "total[4][1] = 0.0\n",
      "total[5][1] = 0.0\n",
      "total[6][1] = 0.0\n",
      "total[7][1] = 0.0\n",
      "total[8][1] = 0.0\n",
      "total[9][1] = 0.0\n",
      "total[10][1] = 0.0\n",
      "total[11][1] = 0.0\n",
      "total[12][1] = 0.0\n",
      "total[13][1] = 0.0\n",
      "total[14][1] = 0.0\n",
      "total[15][1] = 0.0\n",
      "total[16][1] = 0.0\n",
      "total[17][1] = 0.0\n",
      "total[18][1] = 0.0\n",
      "total[19][1] = 0.0\n",
      "total[20][1] = 0.0\n",
      "total[21][1] = 0.0\n",
      "total[22][1] = 0.0\n",
      "total[23][1] = 0.0\n",
      "total[24][1] = 0.0\n",
      "total[25][1] = 0.0\n",
      "total[26][1] = 0.0\n",
      "total[27][1] = 0.0\n",
      "total[0][2] = 0.0\n",
      "total[1][2] = 0.0\n",
      "total[2][2] = 0.0\n",
      "total[3][2] = 0.0\n",
      "total[4][2] = 0.0\n",
      "total[5][2] = 0.0\n",
      "total[6][2] = 0.0\n",
      "total[7][2] = 0.0\n",
      "total[8][2] = 0.0\n",
      "total[9][2] = 0.0\n",
      "total[10][2] = 0.0\n",
      "total[11][2] = 0.0\n",
      "total[12][2] = 0.0\n",
      "total[13][2] = 0.0\n",
      "total[14][2] = 0.0\n",
      "total[15][2] = 0.0\n",
      "total[16][2] = 0.0\n",
      "total[17][2] = 0.0\n",
      "total[18][2] = 0.0\n",
      "total[19][2] = 0.0\n",
      "total[20][2] = 0.0\n",
      "total[21][2] = 0.0\n",
      "total[22][2] = 0.0\n",
      "total[23][2] = 0.0\n",
      "total[24][2] = 0.0\n",
      "total[25][2] = 0.0\n",
      "total[26][2] = 0.0\n",
      "total[27][2] = 0.0\n",
      "total[0][3] = 0.0\n",
      "total[1][3] = 0.0\n",
      "total[2][3] = 0.0\n",
      "total[3][3] = 0.0\n",
      "total[4][3] = 0.0\n",
      "total[5][3] = 0.0\n",
      "total[6][3] = 0.0\n",
      "total[7][3] = 0.0\n",
      "total[8][3] = 0.0\n",
      "total[9][3] = 0.0\n",
      "total[10][3] = -0.0018573416164144874\n",
      "total[11][3] = -0.00958317646291107\n",
      "total[12][3] = -0.002734477922786027\n",
      "total[13][3] = -0.007788747694576159\n",
      "total[14][3] = -0.07711681153159589\n",
      "total[15][3] = -0.03253695520106703\n",
      "total[16][3] = -0.08588348480407149\n",
      "total[17][3] = 0.013536569196730852\n",
      "total[18][3] = -0.20303329173475504\n",
      "total[19][3] = -0.14502968918532133\n",
      "total[20][3] = -0.1387569608632475\n",
      "total[21][3] = -0.0560111328959465\n",
      "total[22][3] = -0.0960469488054514\n",
      "total[23][3] = -0.15532262437045574\n",
      "total[24][3] = -0.10093772411346436\n",
      "total[25][3] = -0.04589298367500305\n",
      "total[26][3] = 0.0\n",
      "total[27][3] = 0.0\n",
      "total[0][4] = 0.0\n",
      "total[1][4] = 0.0\n",
      "total[2][4] = 0.0\n",
      "total[3][4] = 0.0\n",
      "total[4][4] = 0.0\n",
      "total[5][4] = 0.0\n",
      "total[6][4] = -0.018573416396975517\n",
      "total[7][4] = -0.0066793691366910934\n",
      "total[8][4] = -0.04902289528399706\n",
      "total[9][4] = -0.060663545271381736\n",
      "total[10][4] = -0.06862110184738412\n",
      "total[11][4] = -0.13639881007838994\n",
      "total[12][4] = -0.12993371786433272\n",
      "total[13][4] = -0.17597443179693073\n",
      "total[14][4] = -0.15906203954364173\n",
      "total[15][4] = -0.22826104890555143\n",
      "total[16][4] = -0.19427017332054675\n",
      "total[17][4] = -0.15363536984659731\n",
      "total[18][4] = -0.141286744736135\n",
      "total[19][4] = -0.10114273708313704\n",
      "total[20][4] = -0.20094081945717335\n",
      "total[21][4] = -0.03868190385401249\n",
      "total[22][4] = -0.024575069546699524\n",
      "total[23][4] = 0.010051943361759186\n",
      "total[24][4] = -0.026918257586658\n",
      "total[25][4] = -0.03719090577214956\n",
      "total[26][4] = 0.0\n",
      "total[27][4] = 0.0\n",
      "total[0][5] = 0.0\n",
      "total[1][5] = 0.0\n",
      "total[2][5] = 0.0\n",
      "total[3][5] = 0.0\n",
      "total[4][5] = 0.0\n",
      "total[5][5] = -0.03033657930791378\n",
      "total[6][5] = -0.11585723794996738\n",
      "total[7][5] = -0.05220311554148793\n",
      "total[8][5] = -0.09623636375181377\n",
      "total[9][5] = -0.12651277473196387\n",
      "total[10][5] = -0.20679613517131656\n",
      "total[11][5] = -0.15413106442429125\n",
      "total[12][5] = -0.149480722961016\n",
      "total[13][5] = -0.1276968344755005\n",
      "total[14][5] = -0.034194267238490283\n",
      "total[15][5] = -0.016667823772877455\n",
      "total[16][5] = 0.1529067507945001\n",
      "total[17][5] = 0.04724537115544081\n",
      "total[18][5] = 0.2592035010457039\n",
      "total[19][5] = 0.21386157628148794\n",
      "total[20][5] = 0.3363109470810741\n",
      "total[21][5] = 0.3327698977664113\n",
      "total[22][5] = 0.3774806745350361\n",
      "total[23][5] = 0.35838549421168864\n",
      "total[24][5] = 0.19003640674054623\n",
      "total[25][5] = 0.07949152123183012\n",
      "total[26][5] = 0.0\n",
      "total[27][5] = 0.0\n",
      "total[0][6] = 0.0\n",
      "total[1][6] = 0.0\n",
      "total[2][6] = 0.0\n",
      "total[3][6] = 0.0\n",
      "total[4][6] = 0.0\n",
      "total[5][6] = -0.0013479571789503098\n",
      "total[6][6] = -0.08523537497967482\n",
      "total[7][6] = -0.06250788224861026\n",
      "total[8][6] = -0.024502914282493293\n",
      "total[9][6] = 0.08699168357998133\n",
      "total[10][6] = 0.06500938627868891\n",
      "total[11][6] = 0.12496604537591338\n",
      "total[12][6] = 0.23720523167867213\n",
      "total[13][6] = 0.31560574704781175\n",
      "total[14][6] = 0.2402549636317417\n",
      "total[15][6] = 0.4154193380381912\n",
      "total[16][6] = 0.5549201432149857\n",
      "total[17][6] = 0.5397123380098492\n",
      "total[18][6] = 0.4344914434477687\n",
      "total[19][6] = 0.2903136918321252\n",
      "total[20][6] = 0.5891855945810676\n",
      "total[21][6] = 0.5281375320628285\n",
      "total[22][6] = 0.48757254099473357\n",
      "total[23][6] = 0.2526050992310047\n",
      "total[24][6] = 0.12860920000821352\n",
      "total[25][6] = 0.06373017653822899\n",
      "total[26][6] = 0.0\n",
      "total[27][6] = 0.0\n",
      "total[0][7] = 0.0\n",
      "total[1][7] = 0.0\n",
      "total[2][7] = 0.0\n",
      "total[3][7] = 0.0\n",
      "total[4][7] = 0.0\n",
      "total[5][7] = 0.022129715653136373\n",
      "total[6][7] = 0.06561414012685418\n",
      "total[7][7] = 0.06690446683205664\n",
      "total[8][7] = 0.23593199579045177\n",
      "total[9][7] = 0.27868080721236765\n",
      "total[10][7] = 0.5246342634200118\n",
      "total[11][7] = 0.4606745995115489\n",
      "total[12][7] = 0.6103721255785786\n",
      "total[13][7] = 0.5365314432419837\n",
      "total[14][7] = 0.5467215538956225\n",
      "total[15][7] = 0.5764255183748901\n",
      "total[16][7] = 0.6817113314755261\n",
      "total[17][7] = 0.8060726160183549\n",
      "total[18][7] = 0.5341474078595638\n",
      "total[19][7] = 0.5153372609056532\n",
      "total[20][7] = 0.5178736099041998\n",
      "total[21][7] = 0.47754641249775887\n",
      "total[22][7] = 0.48008260410279036\n",
      "total[23][7] = 0.3275871369987726\n",
      "total[24][7] = 0.26379698514938354\n",
      "total[25][7] = 0.0862831398844719\n",
      "total[26][7] = 0.0\n",
      "total[27][7] = 0.0\n",
      "total[0][8] = 0.0\n",
      "total[1][8] = 0.0\n",
      "total[2][8] = 0.0\n",
      "total[3][8] = 0.0\n",
      "total[4][8] = 0.0\n",
      "total[5][8] = -0.021386977750808\n",
      "total[6][8] = -0.0074919265462085605\n",
      "total[7][8] = 0.1795795764774084\n",
      "total[8][8] = 0.35684790601953864\n",
      "total[9][8] = 0.4090865289326757\n",
      "total[10][8] = 0.6261249948875047\n",
      "total[11][8] = 0.7483816059393575\n",
      "total[12][8] = 0.86077101007686\n",
      "total[13][8] = 0.867826834321022\n",
      "total[14][8] = 0.8914655351545662\n",
      "total[15][8] = 0.8900480857118964\n",
      "total[16][8] = 0.871340011479333\n",
      "total[17][8] = 0.8224700894206762\n",
      "total[18][8] = 0.6441707545891404\n",
      "total[19][8] = 0.6209694929420948\n",
      "total[20][8] = 0.3787034163251519\n",
      "total[21][8] = 0.38729255832731724\n",
      "total[22][8] = 0.3290863875299692\n",
      "total[23][8] = 0.25426618847995996\n",
      "total[24][8] = 0.16476500313729048\n",
      "total[25][8] = 0.03837684169411659\n",
      "total[26][8] = 0.0\n",
      "total[27][8] = 0.0\n",
      "total[0][9] = 0.0\n",
      "total[1][9] = 0.0\n",
      "total[2][9] = 0.0\n",
      "total[3][9] = 0.0\n",
      "total[4][9] = 0.0\n",
      "total[5][9] = -0.018777555786073208\n",
      "total[6][9] = -0.08890701923519373\n",
      "total[7][9] = 0.2034214718732983\n",
      "total[8][9] = 0.34879065745917615\n",
      "total[9][9] = 0.49691819169675\n",
      "total[10][9] = 0.664122491471062\n",
      "total[11][9] = 0.7830932502984069\n",
      "total[12][9] = 0.9059273241291521\n",
      "total[13][9] = 0.8438058305764571\n",
      "total[14][9] = 0.5691398439230397\n",
      "total[15][9] = 0.6148107099288609\n",
      "total[16][9] = 0.725071775552351\n",
      "total[17][9] = 0.4642466604709625\n",
      "total[18][9] = 0.3419927479699254\n",
      "total[19][9] = 0.3885675985366106\n",
      "total[20][9] = 0.12772516766563058\n",
      "total[21][9] = 0.12036031298339367\n",
      "total[22][9] = 0.07845959579572082\n",
      "total[23][9] = 0.05896821245551109\n",
      "total[24][9] = 0.02338588610291481\n",
      "total[25][9] = 0.0\n",
      "total[26][9] = 0.0\n",
      "total[27][9] = 0.0\n",
      "total[0][10] = 0.0\n",
      "total[1][10] = 0.0\n",
      "total[2][10] = 0.0\n",
      "total[3][10] = 0.0\n",
      "total[4][10] = 0.0\n",
      "total[5][10] = -0.0030932272784411907\n",
      "total[6][10] = -0.07069720607250929\n",
      "total[7][10] = 0.08184614148922265\n",
      "total[8][10] = 0.1952888153900858\n",
      "total[9][10] = 0.30282848414208274\n",
      "total[10][10] = 0.42251782212406397\n",
      "total[11][10] = 0.6260790541418828\n",
      "total[12][10] = 0.8408601253468078\n",
      "total[13][10] = 0.7142847427749075\n",
      "total[14][10] = 0.4693469532794552\n",
      "total[15][10] = 0.2967311659594998\n",
      "total[16][10] = 0.46796597467618994\n",
      "total[17][10] = 0.2801608443260193\n",
      "total[18][10] = 0.2529994207434356\n",
      "total[19][10] = 0.16888593882322311\n",
      "total[20][10] = 0.0\n",
      "total[21][10] = 0.0\n",
      "total[22][10] = 0.0\n",
      "total[23][10] = 0.0\n",
      "total[24][10] = 0.0\n",
      "total[25][10] = 0.0\n",
      "total[26][10] = 0.0\n",
      "total[27][10] = 0.0\n",
      "total[0][11] = 0.0\n",
      "total[1][11] = 0.0\n",
      "total[2][11] = 0.0\n",
      "total[3][11] = 0.0\n",
      "total[4][11] = 0.0\n",
      "total[5][11] = 0.0\n",
      "total[6][11] = -0.013747676275670528\n",
      "total[7][11] = 0.022774863056838512\n",
      "total[8][11] = 0.08841211965773255\n",
      "total[9][11] = 0.030325581145007163\n",
      "total[10][11] = 0.34741925064008683\n",
      "total[11][11] = 0.4902379525010474\n",
      "total[12][11] = 0.5612186147482134\n",
      "total[13][11] = 0.5534688367915805\n",
      "total[14][11] = 0.5328860757872462\n",
      "total[15][11] = 0.18979429511819035\n",
      "total[16][11] = -0.026646086713299155\n",
      "total[17][11] = -0.0683742057881318\n",
      "total[18][11] = 0.08691730034479406\n",
      "total[19][11] = 0.09198290706262924\n",
      "total[20][11] = 0.0\n",
      "total[21][11] = 0.0\n",
      "total[22][11] = 0.0\n",
      "total[23][11] = 0.0\n",
      "total[24][11] = 0.0\n",
      "total[25][11] = 0.0\n",
      "total[26][11] = 0.0\n",
      "total[27][11] = 0.0\n",
      "total[0][12] = 0.0\n",
      "total[1][12] = 0.0\n",
      "total[2][12] = 0.0\n",
      "total[3][12] = 0.0\n",
      "total[4][12] = 0.0\n",
      "total[5][12] = 0.0\n",
      "total[6][12] = 0.0\n",
      "total[7][12] = -0.0024058432318270206\n",
      "total[8][12] = 0.009914866473991424\n",
      "total[9][12] = -0.10413600510219112\n",
      "total[10][12] = 0.10695861600106582\n",
      "total[11][12] = 0.38464519067201763\n",
      "total[12][12] = 0.33229504915652797\n",
      "total[13][12] = 0.38536099914927036\n",
      "total[14][12] = 0.40795914037153125\n",
      "total[15][12] = 0.2806002398574492\n",
      "total[16][12] = -0.012141476589022204\n",
      "total[17][12] = -0.09189964425604558\n",
      "total[18][12] = -0.12168905517319217\n",
      "total[19][12] = -0.045412293475237675\n",
      "total[20][12] = -0.009034051559865475\n",
      "total[21][12] = 0.0\n",
      "total[22][12] = 0.0\n",
      "total[23][12] = 0.0\n",
      "total[24][12] = 0.0\n",
      "total[25][12] = 0.0\n",
      "total[26][12] = 0.0\n",
      "total[27][12] = 0.0\n",
      "total[0][13] = 0.0\n",
      "total[1][13] = 0.0\n",
      "total[2][13] = 0.0\n",
      "total[3][13] = 0.0\n",
      "total[4][13] = 0.0\n",
      "total[5][13] = 0.0\n",
      "total[6][13] = 0.0\n",
      "total[7][13] = 0.0\n",
      "total[8][13] = 0.0\n",
      "total[9][13] = -0.03021592879667878\n",
      "total[10][13] = -0.03181336633861065\n",
      "total[11][13] = 0.22600361914373934\n",
      "total[12][13] = 0.519946756423451\n",
      "total[13][13] = 0.41825147974304855\n",
      "total[14][13] = 0.44873356504831463\n",
      "total[15][13] = 0.4386623098689597\n",
      "total[16][13] = 0.29378955024003517\n",
      "total[17][13] = 0.14535061386413872\n",
      "total[18][13] = -0.02782704046694562\n",
      "total[19][13] = -0.11120310984551907\n",
      "total[20][13] = -0.05945618753321469\n",
      "total[21][13] = -0.009756775572896004\n",
      "total[22][13] = 0.0\n",
      "total[23][13] = 0.0\n",
      "total[24][13] = 0.0\n",
      "total[25][13] = 0.0\n",
      "total[26][13] = 0.0\n",
      "total[27][13] = 0.0\n",
      "total[0][14] = 0.0\n",
      "total[1][14] = 0.0\n",
      "total[2][14] = 0.0\n",
      "total[3][14] = 0.0\n",
      "total[4][14] = 0.0\n",
      "total[5][14] = 0.0\n",
      "total[6][14] = 0.0\n",
      "total[7][14] = 0.0\n",
      "total[8][14] = 0.0\n",
      "total[9][14] = -0.0018903054296970367\n",
      "total[10][14] = -0.04486427269876003\n",
      "total[11][14] = 0.0075551294721663\n",
      "total[12][14] = 0.30415338510647416\n",
      "total[13][14] = 0.4742893627844751\n",
      "total[14][14] = 0.5433584600687027\n",
      "total[15][14] = 0.5002173405373469\n",
      "total[16][14] = 0.45391426334390417\n",
      "total[17][14] = 0.2991925635142252\n",
      "total[18][14] = 0.31351049878867343\n",
      "total[19][14] = -0.023144904640503228\n",
      "total[20][14] = -0.09186762757599354\n",
      "total[21][14] = -0.07056463696062565\n",
      "total[22][14] = 0.0\n",
      "total[23][14] = 0.0\n",
      "total[24][14] = 0.0\n",
      "total[25][14] = 0.0\n",
      "total[26][14] = 0.0\n",
      "total[27][14] = 0.0\n",
      "total[0][15] = 0.0\n",
      "total[1][15] = 0.0\n",
      "total[2][15] = 0.0\n",
      "total[3][15] = 0.0\n",
      "total[4][15] = 0.0\n",
      "total[5][15] = 0.0\n",
      "total[6][15] = 0.0\n",
      "total[7][15] = 0.0\n",
      "total[8][15] = 0.0\n",
      "total[9][15] = 0.0\n",
      "total[10][15] = -0.006014608312398195\n",
      "total[11][15] = -0.0628050584346056\n",
      "total[12][15] = 0.06346678175032139\n",
      "total[13][15] = 0.24910869565792382\n",
      "total[14][15] = 0.49646687926724553\n",
      "total[15][15] = 0.5843545523821376\n",
      "total[16][15] = 0.585624705941882\n",
      "total[17][15] = 0.4448578209266998\n",
      "total[18][15] = 0.4602864350890741\n",
      "total[19][15] = 0.20749628596240655\n",
      "total[20][15] = 0.060510111041367054\n",
      "total[21][15] = -0.09816730115562677\n",
      "total[22][15] = -0.023127174004912376\n",
      "total[23][15] = 0.0\n",
      "total[24][15] = 0.0\n",
      "total[25][15] = 0.0\n",
      "total[26][15] = 0.0\n",
      "total[27][15] = 0.0\n",
      "total[0][16] = 0.0\n",
      "total[1][16] = 0.0\n",
      "total[2][16] = 0.0\n",
      "total[3][16] = 0.0\n",
      "total[4][16] = 0.0\n",
      "total[5][16] = 0.0\n",
      "total[6][16] = 0.0\n",
      "total[7][16] = 0.0\n",
      "total[8][16] = 0.0\n",
      "total[9][16] = 0.0\n",
      "total[10][16] = 0.0\n",
      "total[11][16] = -0.013919522054493427\n",
      "total[12][16] = -0.037256188690662384\n",
      "total[13][16] = -0.011855709832161665\n",
      "total[14][16] = 0.1277475121896714\n",
      "total[15][16] = 0.47516128048300743\n",
      "total[16][16] = 0.5110349552705884\n",
      "total[17][16] = 0.563356751576066\n",
      "total[18][16] = 0.5606050780043006\n",
      "total[19][16] = 0.35135490680113435\n",
      "total[20][16] = 0.2471978577086702\n",
      "total[21][16] = 0.06789109876262955\n",
      "total[22][16] = -0.007809959526639432\n",
      "total[23][16] = 0.0\n",
      "total[24][16] = 0.0\n",
      "total[25][16] = 0.0\n",
      "total[26][16] = 0.0\n",
      "total[27][16] = 0.0\n",
      "total[0][17] = 0.0\n",
      "total[1][17] = 0.0\n",
      "total[2][17] = 0.0\n",
      "total[3][17] = 0.0\n",
      "total[4][17] = 0.0\n",
      "total[5][17] = 0.0\n",
      "total[6][17] = 0.0\n",
      "total[7][17] = 0.0\n",
      "total[8][17] = 0.0\n",
      "total[9][17] = 0.0\n",
      "total[10][17] = -0.024145441129803658\n",
      "total[11][17] = -0.07133750803768635\n",
      "total[12][17] = -0.07573440251871943\n",
      "total[13][17] = -0.0878238754812628\n",
      "total[14][17] = -0.09152411296963692\n",
      "total[15][17] = 0.0010782824829220772\n",
      "total[16][17] = 0.2885050433687866\n",
      "total[17][17] = 0.6453575501218438\n",
      "total[18][17] = 0.6934265647723805\n",
      "total[19][17] = 0.6075962051399983\n",
      "total[20][17] = 0.3125608514092164\n",
      "total[21][17] = 0.13744832191150635\n",
      "total[22][17] = 0.043408766243373975\n",
      "total[23][17] = 0.0\n",
      "total[24][17] = 0.0\n",
      "total[25][17] = 0.0\n",
      "total[26][17] = 0.0\n",
      "total[27][17] = 0.0\n",
      "total[0][18] = 0.0\n",
      "total[1][18] = 0.0\n",
      "total[2][18] = 0.0\n",
      "total[3][18] = 0.0\n",
      "total[4][18] = 0.0\n",
      "total[5][18] = 0.0\n",
      "total[6][18] = 0.0\n",
      "total[7][18] = 0.0\n",
      "total[8][18] = -0.014858732931315899\n",
      "total[9][18] = -0.05809199344366789\n",
      "total[10][18] = -0.077359430026263\n",
      "total[11][18] = -0.0648659283760935\n",
      "total[12][18] = -0.1010517361573875\n",
      "total[13][18] = -0.10834925854578614\n",
      "total[14][18] = -0.033854298293590546\n",
      "total[15][18] = -0.004068345762789249\n",
      "total[16][18] = 0.41231569834053516\n",
      "total[17][18] = 0.6485593309625983\n",
      "total[18][18] = 0.7486227563931607\n",
      "total[19][18] = 0.7773950801638421\n",
      "total[20][18] = 0.5060739149339497\n",
      "total[21][18] = 0.2483584644505754\n",
      "total[22][18] = 0.011492546647787094\n",
      "total[23][18] = 0.0\n",
      "total[24][18] = 0.0\n",
      "total[25][18] = 0.0\n",
      "total[26][18] = 0.0\n",
      "total[27][18] = 0.0\n",
      "total[0][19] = 0.0\n",
      "total[1][19] = 0.0\n",
      "total[2][19] = 0.0\n",
      "total[3][19] = 0.0\n",
      "total[4][19] = 0.0\n",
      "total[5][19] = 0.0\n",
      "total[6][19] = -0.014239618554711342\n",
      "total[7][19] = -0.028894823975861073\n",
      "total[8][19] = -0.10006073722615838\n",
      "total[9][19] = -0.05495066661387682\n",
      "total[10][19] = -0.08726347587071359\n",
      "total[11][19] = -0.09153632260859013\n",
      "total[12][19] = -0.05754853575490415\n",
      "total[13][19] = 0.09052311815321445\n",
      "total[14][19] = 0.2826854791492224\n",
      "total[15][19] = 0.3491112245246768\n",
      "total[16][19] = 0.6303619183599949\n",
      "total[17][19] = 0.7084488259861246\n",
      "total[18][19] = 0.9217810234695207\n",
      "total[19][19] = 0.693346387182828\n",
      "total[20][19] = 0.45247416640631855\n",
      "total[21][19] = 0.3470441527897492\n",
      "total[22][19] = 0.038693376118317246\n",
      "total[23][19] = 0.0\n",
      "total[24][19] = 0.0\n",
      "total[25][19] = 0.0\n",
      "total[26][19] = 0.0\n",
      "total[27][19] = 0.0\n",
      "total[0][20] = 0.0\n",
      "total[1][20] = 0.0\n",
      "total[2][20] = 0.0\n",
      "total[3][20] = 0.0\n",
      "total[4][20] = -0.01114404946565628\n",
      "total[5][20] = -0.09650323539972305\n",
      "total[6][20] = -0.04775200877338648\n",
      "total[7][20] = -0.09404738817829639\n",
      "total[8][20] = -0.08683870965614915\n",
      "total[9][20] = -0.14772285986691713\n",
      "total[10][20] = -0.1008560552727431\n",
      "total[11][20] = 0.05490879178978503\n",
      "total[12][20] = 0.2376251518726349\n",
      "total[13][20] = 0.41662051901221275\n",
      "total[14][20] = 0.5630245357751846\n",
      "total[15][20] = 0.6733583807654213\n",
      "total[16][20] = 0.7823233841918409\n",
      "total[17][20] = 0.7838027090328978\n",
      "total[18][20] = 0.800583706703037\n",
      "total[19][20] = 0.456480229011504\n",
      "total[20][20] = 0.3093401665100828\n",
      "total[21][20] = 0.15423169103451073\n",
      "total[22][20] = 0.0011992763029411435\n",
      "total[23][20] = 0.0\n",
      "total[24][20] = 0.0\n",
      "total[25][20] = 0.0\n",
      "total[26][20] = 0.0\n",
      "total[27][20] = 0.0\n",
      "total[0][21] = 0.0\n",
      "total[1][21] = 0.0\n",
      "total[2][21] = -0.034051261842250824\n",
      "total[3][21] = -0.07787158153951168\n",
      "total[4][21] = -0.06435166369192302\n",
      "total[5][21] = -0.07130474876612425\n",
      "total[6][21] = -0.14073492377065122\n",
      "total[7][21] = -0.1600347391795367\n",
      "total[8][21] = -0.03872419917024672\n",
      "total[9][21] = -0.0030457833781838417\n",
      "total[10][21] = 0.19266762351617217\n",
      "total[11][21] = 0.3692507343366742\n",
      "total[12][21] = 0.5513932583853602\n",
      "total[13][21] = 0.6733743686927482\n",
      "total[14][21] = 0.7553860950283706\n",
      "total[15][21] = 0.8069314114400186\n",
      "total[16][21] = 0.7941825844754931\n",
      "total[17][21] = 0.6557457641465589\n",
      "total[18][21] = 0.456330873654224\n",
      "total[19][21] = 0.2844049260020256\n",
      "total[20][21] = 0.2807339336723089\n",
      "total[21][21] = 0.10913413763046265\n",
      "total[22][21] = 0.0\n",
      "total[23][21] = 0.0\n",
      "total[24][21] = 0.0\n",
      "total[25][21] = 0.0\n",
      "total[26][21] = 0.0\n",
      "total[27][21] = 0.0\n",
      "total[0][22] = 0.0\n",
      "total[1][22] = 0.0\n",
      "total[2][22] = -0.07320387475192547\n",
      "total[3][22] = -0.0716281346976757\n",
      "total[4][22] = -0.0729379584081471\n",
      "total[5][22] = -0.030500171124003828\n",
      "total[6][22] = 0.02760118618607521\n",
      "total[7][22] = 0.1349012586288154\n",
      "total[8][22] = 0.13787461863830686\n",
      "total[9][22] = 0.4541629711166024\n",
      "total[10][22] = 0.5700196868274361\n",
      "total[11][22] = 0.6829784894362092\n",
      "total[12][22] = 0.7587045363616198\n",
      "total[13][22] = 0.8089082650840282\n",
      "total[14][22] = 0.7801333566312678\n",
      "total[15][22] = 0.6558264857158065\n",
      "total[16][22] = 0.4603207738837227\n",
      "total[17][22] = 0.34313710662536323\n",
      "total[18][22] = 0.2802807433763519\n",
      "total[19][22] = 0.17162075289525092\n",
      "total[20][22] = 0.04677177220582962\n",
      "total[21][22] = 0.0\n",
      "total[22][22] = 0.0\n",
      "total[23][22] = 0.0\n",
      "total[24][22] = 0.0\n",
      "total[25][22] = 0.0\n",
      "total[26][22] = 0.0\n",
      "total[27][22] = 0.0\n",
      "total[0][23] = 0.0\n",
      "total[1][23] = 0.0\n",
      "total[2][23] = 0.04798942618072033\n",
      "total[3][23] = 0.07167379418388009\n",
      "total[4][23] = 0.0989635568112135\n",
      "total[5][23] = 0.2109819995239377\n",
      "total[6][23] = 0.42979784961789846\n",
      "total[7][23] = 0.6061997967772186\n",
      "total[8][23] = 0.6613534677308053\n",
      "total[9][23] = 0.7482036936562508\n",
      "total[10][23] = 0.740387620870024\n",
      "total[11][23] = 0.8292506776051596\n",
      "total[12][23] = 0.8150877609150484\n",
      "total[13][23] = 0.6920305953826755\n",
      "total[14][23] = 0.4995934487087652\n",
      "total[15][23] = 0.3500008686678484\n",
      "total[16][23] = 0.2763863151194528\n",
      "total[17][23] = 0.1725151853170246\n",
      "total[18][23] = 0.049872662173584104\n",
      "total[19][23] = 0.0011992763029411435\n",
      "total[20][23] = 0.0\n",
      "total[21][23] = 0.0\n",
      "total[22][23] = 0.0\n",
      "total[23][23] = 0.0\n",
      "total[24][23] = 0.0\n",
      "total[25][23] = 0.0\n",
      "total[26][23] = 0.0\n",
      "total[27][23] = 0.0\n",
      "total[0][24] = 0.0\n",
      "total[1][24] = 0.0\n",
      "total[2][24] = 0.019786696881055832\n",
      "total[3][24] = 0.04918663389980793\n",
      "total[4][24] = 0.2124844235368073\n",
      "total[5][24] = 0.34161136392503977\n",
      "total[6][24] = 0.5422416634391993\n",
      "total[7][24] = 0.6112072104588151\n",
      "total[8][24] = 0.7024435652419925\n",
      "total[9][24] = 0.7338150120340288\n",
      "total[10][24] = 0.7830128639470786\n",
      "total[11][24] = 0.6808245121501386\n",
      "total[12][24] = 0.5047409348189831\n",
      "total[13][24] = 0.3404757345560938\n",
      "total[14][24] = 0.28728492045775056\n",
      "total[15][24] = 0.16909561795182526\n",
      "total[16][24] = 0.05382992746308446\n",
      "total[17][24] = 0.005396743305027485\n",
      "total[18][24] = 0.0\n",
      "total[19][24] = 0.0\n",
      "total[20][24] = 0.0\n",
      "total[21][24] = 0.0\n",
      "total[22][24] = 0.0\n",
      "total[23][24] = 0.0\n",
      "total[24][24] = 0.0\n",
      "total[25][24] = 0.0\n",
      "total[26][24] = 0.0\n",
      "total[27][24] = 0.0\n",
      "total[0][25] = 0.0\n",
      "total[1][25] = 0.0\n",
      "total[2][25] = -0.08770520612597466\n",
      "total[3][25] = -0.041474733501672745\n",
      "total[4][25] = 0.1669738246127963\n",
      "total[5][25] = 0.2175067998468876\n",
      "total[6][25] = 0.3366225678473711\n",
      "total[7][25] = 0.4714474268257618\n",
      "total[8][25] = 0.45100726559758186\n",
      "total[9][25] = 0.5136041399091482\n",
      "total[10][25] = 0.4767293380573392\n",
      "total[11][25] = 0.3438402768224478\n",
      "total[12][25] = 0.3088183244690299\n",
      "total[13][25] = 0.23340402403846383\n",
      "total[14][25] = 0.08691272465512156\n",
      "total[15][25] = 0.006596019025892019\n",
      "total[16][25] = 0.0\n",
      "total[17][25] = 0.0\n",
      "total[18][25] = 0.0\n",
      "total[19][25] = 0.0\n",
      "total[20][25] = 0.0\n",
      "total[21][25] = 0.0\n",
      "total[22][25] = 0.0\n",
      "total[23][25] = 0.0\n",
      "total[24][25] = 0.0\n",
      "total[25][25] = 0.0\n",
      "total[26][25] = 0.0\n",
      "total[27][25] = 0.0\n",
      "total[0][26] = 0.0\n",
      "total[1][26] = 0.0\n",
      "total[2][26] = -0.023371050134301186\n",
      "total[3][26] = 0.054508183151483536\n",
      "total[4][26] = 0.11381520889699459\n",
      "total[5][26] = 0.18085144832730293\n",
      "total[6][26] = 0.34561334550380707\n",
      "total[7][26] = 0.3994634784758091\n",
      "total[8][26] = 0.35203557275235653\n",
      "total[9][26] = 0.357266035862267\n",
      "total[10][26] = 0.20228005666285753\n",
      "total[11][26] = 0.16394149232655764\n",
      "total[12][26] = 0.08956802077591419\n",
      "total[13][26] = 0.009594210423529148\n",
      "total[14][26] = 0.0\n",
      "total[15][26] = 0.0\n",
      "total[16][26] = 0.0\n",
      "total[17][26] = 0.0\n",
      "total[18][26] = 0.0\n",
      "total[19][26] = 0.0\n",
      "total[20][26] = 0.0\n",
      "total[21][26] = 0.0\n",
      "total[22][26] = 0.0\n",
      "total[23][26] = 0.0\n",
      "total[24][26] = 0.0\n",
      "total[25][26] = 0.0\n",
      "total[26][26] = 0.0\n",
      "total[27][26] = 0.0\n",
      "total[0][27] = 0.0\n",
      "total[1][27] = 0.0\n",
      "total[2][27] = 0.0\n",
      "total[3][27] = 0.0\n",
      "total[4][27] = 0.0\n",
      "total[5][27] = 0.0\n",
      "total[6][27] = 0.0\n",
      "total[7][27] = 0.0\n",
      "total[8][27] = 0.0\n",
      "total[9][27] = 0.0\n",
      "total[10][27] = 0.0\n",
      "total[11][27] = 0.0\n",
      "total[12][27] = 0.0\n",
      "total[13][27] = 0.0\n",
      "total[14][27] = 0.0\n",
      "total[15][27] = 0.0\n",
      "total[16][27] = 0.0\n",
      "total[17][27] = 0.0\n",
      "total[18][27] = 0.0\n",
      "total[19][27] = 0.0\n",
      "total[20][27] = 0.0\n",
      "total[21][27] = 0.0\n",
      "total[22][27] = 0.0\n",
      "total[23][27] = 0.0\n",
      "total[24][27] = 0.0\n",
      "total[25][27] = 0.0\n",
      "total[26][27] = 0.0\n",
      "total[27][27] = 0.0\n"
     ]
    }
   ],
   "source": [
    "# test with single kernel only \n",
    "result2 = np.zeros(shape=(1, 1, w_out, h_out))\n",
    "for co in range(1):\n",
    "    for o1 in range(w_out):\n",
    "        for o2 in range(h_out):\n",
    "            total = 0\n",
    "            for ci in range(c_in):\n",
    "                kt = 0\n",
    "                for kh in range(k):\n",
    "                    for kw in range(k):\n",
    "                        weight = weights_conv1[co][ci][kh][kw].detach().numpy()\n",
    "                        pos1 = kh + o1 * s\n",
    "                        pos2 = kw + o2 * s\n",
    "                        value = img_padded[0][ci][pos1][pos2].numpy()\n",
    "                        # if value != 0:\n",
    "                        #     print(\"data[{}][{}] = {}\".format(pos1, pos2, value))\n",
    "                        #     print(\"weight[{}][{}] = {}\".format(kh, kw, weight))\n",
    "                        kt += weight * value\n",
    "                total += kt\n",
    "                if total != 0:    \n",
    "                    print(\"total[{}][{}] = {}\".format(o2, o1, total))\n",
    "            result2[0][co][o1][o2] = total + biases_conv1[co].detach().numpy()"
   ]
  },
  {
   "cell_type": "code",
   "execution_count": 306,
   "metadata": {},
   "outputs": [
    {
     "data": {
      "text/plain": [
       "array([[ 0.15290771,  0.16600159, -0.0468545 ,  0.18372226, -0.04382072],\n",
       "       [ 0.04035814, -0.097371  ,  0.11745653,  0.17630859, -0.14672564],\n",
       "       [ 0.17383924,  0.03743186,  0.14776178,  0.02708611,  0.09643763],\n",
       "       [-0.0282382 ,  0.15417717,  0.02956178, -0.09336799,  0.05097966],\n",
       "       [-0.09214733, -0.02345457, -0.08123167,  0.1326742 , -0.15787403]],\n",
       "      dtype=float32)"
      ]
     },
     "execution_count": 306,
     "metadata": {},
     "output_type": "execute_result"
    }
   ],
   "source": [
    "weights_conv1[0][0].detach().numpy()"
   ]
  },
  {
   "cell_type": "code",
   "execution_count": 308,
   "metadata": {},
   "outputs": [
    {
     "data": {
      "text/plain": [
       "-0.15787403"
      ]
     },
     "execution_count": 308,
     "metadata": {},
     "output_type": "execute_result"
    }
   ],
   "source": [
    "weights_conv1[0][0].detach().numpy()[4][4]"
   ]
  },
  {
   "cell_type": "code",
   "execution_count": 307,
   "metadata": {},
   "outputs": [
    {
     "data": {
      "text/plain": [
       "array([ 0.15290771,  0.16600159, -0.0468545 ,  0.18372226, -0.04382072,\n",
       "        0.04035814, -0.097371  ,  0.11745653,  0.17630859, -0.14672564,\n",
       "        0.17383924,  0.03743186,  0.14776178,  0.02708611,  0.09643763,\n",
       "       -0.0282382 ,  0.15417717,  0.02956178, -0.09336799,  0.05097966,\n",
       "       -0.09214733, -0.02345457, -0.08123167,  0.1326742 , -0.15787403],\n",
       "      dtype=float32)"
      ]
     },
     "execution_count": 307,
     "metadata": {},
     "output_type": "execute_result"
    }
   ],
   "source": [
    "weights_conv1[0][0].detach().numpy().flatten()"
   ]
  },
  {
   "cell_type": "code",
   "execution_count": 309,
   "metadata": {},
   "outputs": [
    {
     "data": {
      "text/plain": [
       "-0.15787403"
      ]
     },
     "execution_count": 309,
     "metadata": {},
     "output_type": "execute_result"
    }
   ],
   "source": [
    "weights_conv1[0][0].detach().numpy().flatten()[4 * 5 + 4]"
   ]
  },
  {
   "cell_type": "code",
   "execution_count": 283,
   "metadata": {},
   "outputs": [
    {
     "data": {
      "text/plain": [
       "tensor([0., 0., 0.,  ..., 0., 0., 0.])"
      ]
     },
     "execution_count": 283,
     "metadata": {},
     "output_type": "execute_result"
    }
   ],
   "source": [
    "img_padded[0][0].flatten()"
   ]
  },
  {
   "cell_type": "code",
   "execution_count": 297,
   "metadata": {},
   "outputs": [
    {
     "data": {
      "text/plain": [
       "tensor(0.0118)"
      ]
     },
     "execution_count": 297,
     "metadata": {},
     "output_type": "execute_result"
    }
   ],
   "source": [
    "img_padded[0][0][7][14]"
   ]
  },
  {
   "cell_type": "code",
   "execution_count": 299,
   "metadata": {},
   "outputs": [
    {
     "data": {
      "text/plain": [
       "0.011764706"
      ]
     },
     "execution_count": 299,
     "metadata": {},
     "output_type": "execute_result"
    }
   ],
   "source": [
    "img_padded[0][0].flatten().numpy()[7 * 32 + 14]"
   ]
  },
  {
   "cell_type": "code",
   "execution_count": 296,
   "metadata": {},
   "outputs": [
    {
     "data": {
      "text/plain": [
       "224"
      ]
     },
     "execution_count": 296,
     "metadata": {},
     "output_type": "execute_result"
    }
   ],
   "source": [
    "7 * 28 + 14 * 2"
   ]
  },
  {
   "cell_type": "code",
   "execution_count": 291,
   "metadata": {},
   "outputs": [
    {
     "data": {
      "text/plain": [
       "(array([238]),)"
      ]
     },
     "execution_count": 291,
     "metadata": {},
     "output_type": "execute_result"
    }
   ],
   "source": [
    "np.where(img_padded[0][0].flatten().numpy() == 0.011764706)"
   ]
  },
  {
   "cell_type": "code",
   "execution_count": 310,
   "metadata": {},
   "outputs": [
    {
     "data": {
      "text/plain": [
       "(1, 1, 28, 28)"
      ]
     },
     "execution_count": 310,
     "metadata": {},
     "output_type": "execute_result"
    }
   ],
   "source": [
    "result2.shape"
   ]
  },
  {
   "cell_type": "code",
   "execution_count": 311,
   "metadata": {},
   "outputs": [
    {
     "data": {
      "text/plain": [
       "(28, 28)"
      ]
     },
     "execution_count": 311,
     "metadata": {},
     "output_type": "execute_result"
    }
   ],
   "source": [
    "result2[0][0].shape"
   ]
  },
  {
   "cell_type": "code",
   "execution_count": 262,
   "metadata": {},
   "outputs": [
    {
     "data": {
      "text/plain": [
       "array(0.16600159, dtype=float32)"
      ]
     },
     "execution_count": 262,
     "metadata": {},
     "output_type": "execute_result"
    }
   ],
   "source": [
    "weights_conv1[0][0][0][1].detach().numpy()\n"
   ]
  },
  {
   "cell_type": "code",
   "execution_count": 256,
   "metadata": {},
   "outputs": [
    {
     "data": {
      "text/plain": [
       "(1, 16, 28, 28)"
      ]
     },
     "execution_count": 256,
     "metadata": {},
     "output_type": "execute_result"
    }
   ],
   "source": [
    "result.shape"
   ]
  },
  {
   "cell_type": "code",
   "execution_count": 257,
   "metadata": {},
   "outputs": [
    {
     "data": {
      "text/plain": [
       "(1, 16, 28, 28)"
      ]
     },
     "execution_count": 257,
     "metadata": {},
     "output_type": "execute_result"
    }
   ],
   "source": [
    "result2.shape"
   ]
  },
  {
   "cell_type": "code",
   "execution_count": 233,
   "metadata": {},
   "outputs": [
    {
     "data": {
      "text/plain": [
       "tensor(0.)"
      ]
     },
     "execution_count": 233,
     "metadata": {},
     "output_type": "execute_result"
    }
   ],
   "source": [
    "img_padded[0][0][1][1]"
   ]
  },
  {
   "cell_type": "code",
   "execution_count": 179,
   "metadata": {},
   "outputs": [
    {
     "data": {
      "text/plain": [
       "torch.Size([1, 16, 28, 28])"
      ]
     },
     "execution_count": 179,
     "metadata": {},
     "output_type": "execute_result"
    }
   ],
   "source": [
    "net.conv1[0](first_im).shape"
   ]
  },
  {
   "cell_type": "code",
   "execution_count": 264,
   "metadata": {},
   "outputs": [
    {
     "data": {
      "text/plain": [
       "array([-0.05595953, -0.05595953, -0.05595953, -0.05595953, -0.05595953,\n",
       "       -0.05595953, -0.05595953, -0.05595953, -0.05595953, -0.05595953,\n",
       "       -0.05781688, -0.06554271, -0.05869401, -0.06374828, -0.13307635,\n",
       "       -0.08849649, -0.14184302, -0.04242296, -0.25899283, -0.20098922,\n",
       "       -0.19471649, -0.11197067, -0.15200648, -0.21128216, -0.15689726,\n",
       "       -0.10185252, -0.05595953, -0.05595953])"
      ]
     },
     "execution_count": 264,
     "metadata": {},
     "output_type": "execute_result"
    }
   ],
   "source": [
    "result[0][0][3]"
   ]
  },
  {
   "cell_type": "code",
   "execution_count": 259,
   "metadata": {},
   "outputs": [
    {
     "data": {
      "text/plain": [
       "array([-0.05595953, -0.05595953, -0.05595953, -0.05595953, -0.05595953,\n",
       "       -0.05595953, -0.05595953, -0.05595953, -0.05595953, -0.05595953,\n",
       "       -0.05781688, -0.06554271, -0.05869401, -0.06374828, -0.13307635,\n",
       "       -0.08849649, -0.14184302, -0.04242296, -0.25899283, -0.20098922,\n",
       "       -0.19471649, -0.11197067, -0.15200648, -0.21128216, -0.15689726,\n",
       "       -0.10185252, -0.05595953, -0.05595953])"
      ]
     },
     "execution_count": 259,
     "metadata": {},
     "output_type": "execute_result"
    }
   ],
   "source": [
    "result2[0][0][3]"
   ]
  },
  {
   "cell_type": "code",
   "execution_count": 260,
   "metadata": {},
   "outputs": [
    {
     "data": {
      "text/plain": [
       "array([-0.05595953, -0.05595953, -0.05595953, -0.05595953, -0.05595953,\n",
       "       -0.05595953, -0.05595953, -0.05595953, -0.05595953, -0.05595953,\n",
       "       -0.05781687, -0.06554271, -0.05869401, -0.06374829, -0.13307634,\n",
       "       -0.08849649, -0.14184302, -0.04242297, -0.25899282, -0.20098922,\n",
       "       -0.1947165 , -0.11197067, -0.15200649, -0.21128216, -0.15689726,\n",
       "       -0.10185251, -0.05595953, -0.05595953], dtype=float32)"
      ]
     },
     "execution_count": 260,
     "metadata": {},
     "output_type": "execute_result"
    }
   ],
   "source": [
    "net.conv1[0](first_im)[0][0].detach().numpy()[3]"
   ]
  },
  {
   "cell_type": "markdown",
   "metadata": {},
   "source": [
    "# Playground"
   ]
  },
  {
   "cell_type": "code",
   "execution_count": 226,
   "metadata": {},
   "outputs": [
    {
     "data": {
      "text/plain": [
       "tensor([[[ 0.1529,  0.1660, -0.0469,  0.1837, -0.0438],\n",
       "         [ 0.0404, -0.0974,  0.1175,  0.1763, -0.1467],\n",
       "         [ 0.1738,  0.0374,  0.1478,  0.0271,  0.0964],\n",
       "         [-0.0282,  0.1542,  0.0296, -0.0934,  0.0510],\n",
       "         [-0.0921, -0.0235, -0.0812,  0.1327, -0.1579]]],\n",
       "       grad_fn=<SelectBackward0>)"
      ]
     },
     "execution_count": 226,
     "metadata": {},
     "output_type": "execute_result"
    }
   ],
   "source": [
    "weights_conv1[0]"
   ]
  }
 ],
 "metadata": {
  "interpreter": {
   "hash": "5f2d020fb0ab3aa1fc34292ba06ea4aad36f6d83100c7410d044bd1aea761e0d"
  },
  "kernelspec": {
   "display_name": "Python 3.9.12 ('msc')",
   "language": "python",
   "name": "python3"
  },
  "language_info": {
   "codemirror_mode": {
    "name": "ipython",
    "version": 3
   },
   "file_extension": ".py",
   "mimetype": "text/x-python",
   "name": "python",
   "nbconvert_exporter": "python",
   "pygments_lexer": "ipython3",
   "version": "3.9.12"
  },
  "orig_nbformat": 4
 },
 "nbformat": 4,
 "nbformat_minor": 2
}
