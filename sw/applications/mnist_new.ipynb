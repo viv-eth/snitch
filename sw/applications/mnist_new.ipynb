{
 "cells": [
  {
   "cell_type": "code",
   "execution_count": 1,
   "metadata": {},
   "outputs": [],
   "source": [
    "#!/usr/bin/env python3\n",
    "# Copyright 2022 ETH Zurich and University of Bologna.\n",
    "# Licensed under the Apache License, Version 2.0, see LICENSE for details.\n",
    "# SPDX-License-Identifier: Apache-2.0\n",
    "\n",
    "import numpy as np\n",
    "import torch\n",
    "import torch.nn as nn\n",
    "from torch.nn import functional as F\n",
    "from torchvision import transforms\n",
    "from torchvision.datasets import MNIST\n",
    "from torch.utils.data import DataLoader\n",
    "import argparse\n",
    "import pathlib\n",
    "import hjson\n",
    "import random\n",
    "import os"
   ]
  },
  {
   "cell_type": "code",
   "execution_count": 2,
   "metadata": {},
   "outputs": [],
   "source": [
    "np.random.seed(42)\n",
    "torch.manual_seed(42)\n",
    "global verbose"
   ]
  },
  {
   "cell_type": "code",
   "execution_count": 3,
   "metadata": {},
   "outputs": [],
   "source": [
    "def array_to_cstr(a):\n",
    "    out = '{'\n",
    "    if isinstance(a, np.ndarray):\n",
    "        a = a.flat\n",
    "    if isinstance(a, torch.Tensor):\n",
    "        a = a.numpy().flat\n",
    "    for el in a:\n",
    "        out += '{}, '.format(el)\n",
    "    out = out[:-2] + '}'\n",
    "    return out"
   ]
  },
  {
   "cell_type": "code",
   "execution_count": null,
   "metadata": {},
   "outputs": [],
   "source": [
    "# TODO: check what is missing for CNN\n",
    "def emit_mnist_data(name='mnist_cnn', **kwargs):\n",
    "    \n",
    "    # constants\n",
    "    IN_CH1 = kwargs['IN_CH1']\n",
    "    IN_CH2 = kwargs['IN_CH2']\n",
    "    OUT_CH = kwargs['OUT_CH']\n",
    "    DATASET_SIZE = kwargs['DATASET_SIZE']\n",
    "    \n",
    "    # data\n",
    "    MAT_INPUT = kwargs['INPUT']\n",
    "    MAT_LABELS = kwargs['LABELS']\n",
    "\n",
    "    # network init parameters from golden model\n",
    "    MAT_WEIGHTS = kwargs['WEIGHTS']\n",
    "    MAT_BIASES = kwargs['BIASES']\n",
    "    MAT_WEIGHT_GRADS = kwargs['WEIGHT GRADIENTS']\n",
    "    MAT_BIAS_GRADS = kwargs['BIAS GRADIENTS'] \n",
    "\n",
    "    IN_CH = IN_CH1*IN_CH2\n",
    "    \n",
    "    layer_str = ''\n",
    "    layer_str += '#include \"network.h\"\\n\\n'\n",
    "    layer_str += f'network_t {name}_t = {{\\n'\n",
    "    layer_str += f'\\t.IN_CH1 = {IN_CH1},\\n'\n",
    "    layer_str += f'\\t.IN_CH2 = {IN_CH2},\\n'\n",
    "    layer_str += f'\\t.OUT_CH = {OUT_CH},\\n'\n",
    "    layer_str += f'\\t.dtype = FP{kwargs[\"prec\"]}\\n'\n",
    "    layer_str += '};\\n\\n\\n'\n",
    "\n",
    "    ctypes = {\n",
    "        '64': 'double',\n",
    "        '32': 'float',\n",
    "        '16': '__fp16',\n",
    "        'B16': '__bf16',\n",
    "        '8': 'char'\n",
    "    }\n",
    "\n",
    "    dtype = ctypes[str(kwargs['prec'])]\n",
    "\n",
    "    # network initialization\n",
    "    layer_str += f'static {dtype} {name}_weights_dram [{OUT_CH}][{IN_CH}] = ' + array_to_cstr(MAT_WEIGHTS) + ';\\n\\n\\n'\n",
    "    layer_str += f'static {dtype} {name}_biases_dram [{OUT_CH}][{1}] = ' + array_to_cstr(MAT_BIASES) + ';\\n\\n\\n'\n",
    "    layer_str += f'static {dtype} {name}_weight_grads_dram [{OUT_CH}][{IN_CH}] = ' + array_to_cstr(MAT_WEIGHT_GRADS) + ';\\n\\n\\n'\n",
    "    layer_str += f'static {dtype} {name}_bias_grads_dram [{OUT_CH}][{1}] = ' + array_to_cstr(MAT_BIAS_GRADS) + ';\\n\\n\\n'\n",
    "\n",
    "\n",
    "    # input data\n",
    "    layer_str += f'static {dtype} {name}_images_dram [{DATASET_SIZE*IN_CH}][{1}] = ' + array_to_cstr(MAT_INPUT) + ';\\n\\n\\n'\n",
    "    layer_str += f'static uint32_t {name}_labels_dram [{DATASET_SIZE}][{1}] = ' + array_to_cstr(MAT_LABELS) + ';\\n\\n\\n'\n",
    "    #layer_str += f'static {dtype} {name}_images_dram [{IN_CH}][{1}] = ' + array_to_cstr(MAT_INPUT) + ';\\n\\n\\n'\n",
    "    #layer_str += f'static uint32_t {name}_labels_dram[{1}] = ' + array_to_cstr(MAT_LABELS) + ';\\n\\n\\n'\n",
    "\n",
    "    return layer_str\n"
   ]
  },
  {
   "cell_type": "code",
   "execution_count": 4,
   "metadata": {},
   "outputs": [],
   "source": [
    "# download MNIST dataset using DataLoader\n",
    "\n",
    "transform = transforms.Compose(\n",
    "    [\n",
    "        transforms.ToTensor()\n",
    "    ]\n",
    ")\n",
    "\n",
    "PATH_DATASETS = os.environ.get(\"PATH_DATASETS\", \".\")\n",
    "mnist_dataset = MNIST(PATH_DATASETS, train=True, transform=transform, download=True)\n",
    "\n",
    "# set seeds for reproducability \n",
    "g = torch.Generator()\n",
    "g.manual_seed(42)\n",
    "\n",
    "def seed_worker(worker_id):\n",
    "    worker_seed = torch.initial_seed % 2**32\n",
    "    np.random.seed(worker_seed)\n",
    "    random.seed(worker_seed)\n",
    "\n",
    "mnist_dl = DataLoader(mnist_dataset, worker_init_fn=seed_worker, generator=g)"
   ]
  },
  {
   "cell_type": "code",
   "execution_count": 5,
   "metadata": {},
   "outputs": [
    {
     "name": "stdout",
     "output_type": "stream",
     "text": [
      "Dataset MNIST\n",
      "    Number of datapoints: 60000\n",
      "    Root location: .\n",
      "    Split: Train\n",
      "    StandardTransform\n",
      "Transform: Compose(\n",
      "               ToTensor()\n",
      "           )\n"
     ]
    }
   ],
   "source": [
    "print(mnist_dataset)"
   ]
  },
  {
   "cell_type": "code",
   "execution_count": 46,
   "metadata": {},
   "outputs": [],
   "source": [
    "class CNN(nn.Module):\n",
    "    def __init__(self):\n",
    "        super(CNN, self).__init__()\n",
    "        self.conv1 = nn.Sequential(         \n",
    "            nn.Conv2d(\n",
    "                in_channels=1,              \n",
    "                out_channels=16,            \n",
    "                kernel_size=5,              \n",
    "                stride=1,                   \n",
    "                padding=2,                  \n",
    "            ),                              \n",
    "            nn.ReLU(),                      \n",
    "            nn.MaxPool2d(kernel_size=2),    \n",
    "        )\n",
    "        self.conv2 = nn.Sequential(         \n",
    "            nn.Conv2d(16, 32, 5, 1, 2),     \n",
    "            nn.ReLU(),                      \n",
    "            nn.MaxPool2d(2),                \n",
    "        )\n",
    "        # fully connected layer, output 10 classes\n",
    "        self.out = nn.Linear(32 * 7 * 7, 10)\n",
    "        \n",
    "    def forward(self, x):\n",
    "        print(x.shape)\n",
    "        x = self.conv1(x)\n",
    "        print(x.shape)\n",
    "        x = self.conv2(x)\n",
    "        print(x.shape)\n",
    "        # flatten the output of conv2 to (batch_size, 32 * 7 * 7)\n",
    "        x = x.view(x.size(0), -1)\n",
    "        print(x.shape)       \n",
    "        output = self.out(x)\n",
    "        print(output)\n",
    "        return output, x    # return x for visualization"
   ]
  },
  {
   "cell_type": "code",
   "execution_count": 47,
   "metadata": {},
   "outputs": [
    {
     "name": "stdout",
     "output_type": "stream",
     "text": [
      "CNN(\n",
      "  (conv1): Sequential(\n",
      "    (0): Conv2d(1, 16, kernel_size=(5, 5), stride=(1, 1), padding=(2, 2))\n",
      "    (1): ReLU()\n",
      "    (2): MaxPool2d(kernel_size=2, stride=2, padding=0, dilation=1, ceil_mode=False)\n",
      "  )\n",
      "  (conv2): Sequential(\n",
      "    (0): Conv2d(16, 32, kernel_size=(5, 5), stride=(1, 1), padding=(2, 2))\n",
      "    (1): ReLU()\n",
      "    (2): MaxPool2d(kernel_size=2, stride=2, padding=0, dilation=1, ceil_mode=False)\n",
      "  )\n",
      "  (out): Linear(in_features=1568, out_features=10, bias=True)\n",
      ")\n"
     ]
    }
   ],
   "source": [
    "net = CNN()\n",
    "print(net)"
   ]
  },
  {
   "cell_type": "code",
   "execution_count": 9,
   "metadata": {},
   "outputs": [],
   "source": [
    "\"\"\"\n",
    "Now we iterate through a smaller subset of the dataset \n",
    "to retrieve the image data with their\n",
    "respective labels\n",
    "\"\"\"\n",
    "\n",
    "data_iterator = iter(mnist_dl)\n",
    "\n",
    "for i in range(0, 5):\n",
    "    s_image, s_label = data_iterator.next()\n",
    "    np_s_image = s_image.numpy().flatten()\n",
    "    np_s_label = s_label.numpy().flatten()\n",
    "    if(i==0):\n",
    "        s_images = np.array(np_s_image.tolist())\n",
    "        s_labels = np.array(np_s_label.tolist())\n",
    "    else:\n",
    "        s_images = np.append(s_images, np_s_image)\n",
    "        s_labels = np.append(s_labels, np_s_label)"
   ]
  },
  {
   "cell_type": "code",
   "execution_count": 10,
   "metadata": {},
   "outputs": [],
   "source": [
    "first_im, first_label = next(iter(mnist_dl))"
   ]
  },
  {
   "cell_type": "code",
   "execution_count": 48,
   "metadata": {},
   "outputs": [
    {
     "name": "stdout",
     "output_type": "stream",
     "text": [
      "torch.Size([1, 1, 28, 28])\n",
      "torch.Size([1, 16, 14, 14])\n",
      "torch.Size([1, 32, 7, 7])\n",
      "torch.Size([1, 1568])\n",
      "tensor([[ 0.0022,  0.0393, -0.0614, -0.1077,  0.0828,  0.0614, -0.0228,  0.0396,\n",
      "          0.1014, -0.0500]], grad_fn=<AddmmBackward0>)\n"
     ]
    }
   ],
   "source": [
    "torch.manual_seed(42)\n",
    "\n",
    "weights_conv1 = net.conv1[0].weight\n",
    "biases_conv1 = net.conv1[0].bias\n",
    "weights_conv2 = net.conv2[0].weight\n",
    "biases_conv2 = net.conv2[0].bias\n",
    "\n",
    "criterion = nn.CrossEntropyLoss()\n",
    "\n",
    "for i in range(1):\n",
    "    net.zero_grad\n",
    "    output = net(first_im)[0]\n",
    "    loss = criterion(output, first_label)\n",
    "    loss.backward()\n",
    "    weight_grads_conv1 = net.conv1[0].weight.grad\n",
    "    bias_grads_conv1 = net.conv1[0].bias.grad\n",
    "    weight_grads_conv2 = net.conv2[0].weight.grad\n",
    "    bias_grads_conv2 = net.conv2[0].bias.grad\n"
   ]
  },
  {
   "cell_type": "code",
   "execution_count": 66,
   "metadata": {},
   "outputs": [
    {
     "name": "stdout",
     "output_type": "stream",
     "text": [
      "torch.Size([1, 1, 28, 28])\n"
     ]
    },
    {
     "data": {
      "text/plain": [
       "torch.Size([1, 16, 28, 28])"
      ]
     },
     "execution_count": 66,
     "metadata": {},
     "output_type": "execute_result"
    }
   ],
   "source": [
    "print(first_im.shape)\n",
    "net.conv1[0](first_im).shape"
   ]
  },
  {
   "cell_type": "code",
   "execution_count": 68,
   "metadata": {},
   "outputs": [
    {
     "name": "stdout",
     "output_type": "stream",
     "text": [
      "torch.Size([16, 1, 5, 5])\n",
      "torch.Size([16])\n"
     ]
    }
   ],
   "source": [
    "print(weights_conv1.shape)\n",
    "print(biases_conv1.shape)"
   ]
  },
  {
   "cell_type": "code",
   "execution_count": 70,
   "metadata": {},
   "outputs": [
    {
     "data": {
      "text/plain": [
       "torch.Size([1, 5, 5])"
      ]
     },
     "execution_count": 70,
     "metadata": {},
     "output_type": "execute_result"
    }
   ],
   "source": [
    "weights_conv1[0].shape"
   ]
  },
  {
   "cell_type": "code",
   "execution_count": 30,
   "metadata": {},
   "outputs": [
    {
     "name": "stdout",
     "output_type": "stream",
     "text": [
      "----------------------------------------------------------------\n",
      "        Layer (type)               Output Shape         Param #\n",
      "================================================================\n",
      "            Conv2d-1           [-1, 16, 28, 28]             416\n",
      "              ReLU-2           [-1, 16, 28, 28]               0\n",
      "         MaxPool2d-3           [-1, 16, 14, 14]               0\n",
      "            Conv2d-4           [-1, 32, 14, 14]          12,832\n",
      "              ReLU-5           [-1, 32, 14, 14]               0\n",
      "         MaxPool2d-6             [-1, 32, 7, 7]               0\n",
      "            Linear-7                   [-1, 10]          15,690\n",
      "================================================================\n",
      "Total params: 28,938\n",
      "Trainable params: 28,938\n",
      "Non-trainable params: 0\n",
      "----------------------------------------------------------------\n",
      "Input size (MB): 0.00\n",
      "Forward/backward pass size (MB): 0.32\n",
      "Params size (MB): 0.11\n",
      "Estimated Total Size (MB): 0.44\n",
      "----------------------------------------------------------------\n"
     ]
    }
   ],
   "source": [
    "from torchvision import models\n",
    "from torchsummary import summary\n",
    "summary(net, (1, 28, 28))"
   ]
  },
  {
   "cell_type": "code",
   "execution_count": 71,
   "metadata": {},
   "outputs": [],
   "source": [
    "def calculate_target_size(img_size: int, kernel_size: int) -> int:\n",
    "    num_pixels = 0\n",
    "    \n",
    "    # From 0 up to img size (if img size = 224, then up to 223)\n",
    "    for i in range(img_size):\n",
    "        # Add the kernel size (let's say 3) to the current i\n",
    "        added = i + kernel_size\n",
    "        # It must be lower than the image size\n",
    "        if added <= img_size:\n",
    "            # Increment if so\n",
    "            num_pixels += 1\n",
    "            \n",
    "    return num_pixels"
   ]
  },
  {
   "cell_type": "code",
   "execution_count": 89,
   "metadata": {},
   "outputs": [
    {
     "data": {
      "text/plain": [
       "28"
      ]
     },
     "execution_count": 89,
     "metadata": {},
     "output_type": "execute_result"
    }
   ],
   "source": [
    "calculate_target_size(img_size=32, kernel_size=5)"
   ]
  },
  {
   "cell_type": "code",
   "execution_count": 100,
   "metadata": {},
   "outputs": [],
   "source": [
    "def convolve(img: np.array, kernel: np.array) -> np.array:\n",
    "    # Assuming a rectangular image\n",
    "    tgt_size = calculate_target_size(\n",
    "        img_size=img.shape[0],\n",
    "        kernel_size=kernel.shape[0]\n",
    "    )\n",
    "    # To simplify things\n",
    "    k = kernel.shape[0]\n",
    "    \n",
    "    # 2D array of zeros\n",
    "    convolved_img = np.zeros(shape=(tgt_size, tgt_size))\n",
    "    \n",
    "    # Iterate over the rows\n",
    "    for i in range(tgt_size):\n",
    "        # Iterate over the columns\n",
    "        for j in range(tgt_size):\n",
    "            # img[i, j] = individual pixel value\n",
    "            # Get the current matrix\n",
    "            mat = img[i:i+k, j:j+k]\n",
    "            # Apply the convolution - element-wise multiplication and summation of the result\n",
    "            # Store the result to i-th row and j-th column of our convolved_img array\n",
    "            convolved_img[i, j] = np.sum(np.multiply(mat, kernel))\n",
    "            \n",
    "    return convolved_img"
   ]
  },
  {
   "cell_type": "code",
   "execution_count": 79,
   "metadata": {},
   "outputs": [
    {
     "data": {
      "text/plain": [
       "torch.Size([28, 28])"
      ]
     },
     "execution_count": 79,
     "metadata": {},
     "output_type": "execute_result"
    }
   ],
   "source": [
    "first_im[0][0].shape"
   ]
  },
  {
   "cell_type": "code",
   "execution_count": 82,
   "metadata": {},
   "outputs": [
    {
     "data": {
      "text/plain": [
       "(28, 28)"
      ]
     },
     "execution_count": 82,
     "metadata": {},
     "output_type": "execute_result"
    }
   ],
   "source": [
    "first_im[0][0].numpy().shape"
   ]
  },
  {
   "cell_type": "code",
   "execution_count": 85,
   "metadata": {},
   "outputs": [
    {
     "data": {
      "text/plain": [
       "(28, 28)"
      ]
     },
     "execution_count": 85,
     "metadata": {},
     "output_type": "execute_result"
    }
   ],
   "source": [
    "first_conv_img = convolve(first_im[0][0].numpy(), weights_conv1[0].detach().numpy())\n",
    "first_conv_img.shape"
   ]
  },
  {
   "cell_type": "code",
   "execution_count": 88,
   "metadata": {},
   "outputs": [
    {
     "data": {
      "text/plain": [
       "(32, 32)"
      ]
     },
     "execution_count": 88,
     "metadata": {},
     "output_type": "execute_result"
    }
   ],
   "source": [
    "np.pad(first_im[0][0].numpy(), ((2,2), (2,2)), 'constant', constant_values=0).shape"
   ]
  },
  {
   "cell_type": "code",
   "execution_count": 101,
   "metadata": {},
   "outputs": [
    {
     "data": {
      "text/plain": [
       "(32, 32)"
      ]
     },
     "execution_count": 101,
     "metadata": {},
     "output_type": "execute_result"
    }
   ],
   "source": [
    "first_conv_img = convolve(np.pad(first_im[0][0].numpy(), ((2,2), (2,2)), 'constant', constant_values=0), weights_conv1[0].detach().numpy())\n",
    "first_conv_img.shape"
   ]
  },
  {
   "cell_type": "code",
   "execution_count": 120,
   "metadata": {},
   "outputs": [
    {
     "name": "stdout",
     "output_type": "stream",
     "text": [
      "[[0.         0.         0.         0.         0.         0.\n",
      "  0.         0.         0.         0.         0.         0.\n",
      "  0.         0.         0.         0.         0.         0.\n",
      "  0.         0.         0.         0.         0.         0.\n",
      "  0.         0.         0.         0.         0.         0.\n",
      "  0.         0.        ]\n",
      " [0.         0.         0.         0.         0.         0.\n",
      "  0.         0.         0.         0.         0.         0.\n",
      "  0.         0.         0.         0.         0.         0.\n",
      "  0.         0.         0.         0.         0.         0.\n",
      "  0.         0.         0.         0.         0.         0.\n",
      "  0.         0.        ]\n",
      " [0.         0.         0.         0.         0.         0.\n",
      "  0.         0.         0.         0.         0.         0.\n",
      "  0.         0.         0.         0.         0.         0.\n",
      "  0.         0.         0.         0.         0.         0.\n",
      "  0.         0.         0.         0.         0.         0.\n",
      "  0.         0.        ]\n",
      " [0.         0.         0.         0.         0.         0.\n",
      "  0.         0.         0.         0.         0.         0.\n",
      "  0.         0.         0.         0.         0.         0.\n",
      "  0.         0.         0.         0.         0.         0.\n",
      "  0.         0.         0.         0.         0.         0.\n",
      "  0.         0.        ]\n",
      " [0.         0.         0.         0.         0.         0.\n",
      "  0.         0.         0.         0.         0.         0.\n",
      "  0.         0.         0.         0.         0.         0.\n",
      "  0.         0.         0.         0.         0.         0.\n",
      "  0.         0.         0.         0.         0.         0.\n",
      "  0.         0.        ]\n",
      " [0.         0.         0.         0.         0.         0.\n",
      "  0.         0.         0.         0.         0.         0.\n",
      "  0.         0.         0.         0.         0.         0.\n",
      "  0.         0.         0.         0.         0.         0.\n",
      "  0.         0.         0.         0.         0.         0.\n",
      "  0.         0.        ]\n",
      " [0.         0.         0.         0.         0.         0.\n",
      "  0.         0.         0.         0.         0.         0.\n",
      "  0.         0.         0.         0.         0.         0.\n",
      "  0.         0.         0.         0.         0.         0.\n",
      "  0.         0.         0.         0.         0.         0.\n",
      "  0.         0.        ]\n",
      " [0.         0.         0.         0.         0.         0.\n",
      "  0.         0.         0.         0.         0.         0.\n",
      "  0.         0.         0.0103014  0.06180838 0.06180838 0.06180838\n",
      "  0.43265861 0.46699661 0.60091478 0.08927876 0.5700106  0.87561864\n",
      "  0.84814817 0.43609244 0.         0.         0.         0.\n",
      "  0.         0.        ]\n",
      " [0.         0.         0.         0.         0.         0.\n",
      "  0.         0.         0.         0.         0.10301395 0.12361676\n",
      "  0.32277706 0.52880502 0.58374578 0.86875099 0.86875099 0.86875099\n",
      "  0.86875099 0.86875099 0.77260458 0.59061337 0.86875099 0.83097923\n",
      "  0.66959083 0.2197631  0.         0.         0.         0.\n",
      "  0.         0.        ]\n",
      " [0.         0.         0.         0.         0.         0.\n",
      "  0.         0.         0.         0.16825613 0.81724405 0.86875099\n",
      "  0.86875099 0.86875099 0.86875099 0.86875099 0.86875099 0.86875099\n",
      "  0.86875099 0.86188334 0.31934324 0.28157151 0.28157151 0.19229272\n",
      "  0.13391815 0.         0.         0.         0.         0.\n",
      "  0.         0.        ]\n",
      " [0.         0.         0.         0.         0.         0.\n",
      "  0.         0.         0.         0.06180838 0.75200188 0.86875099\n",
      "  0.86875099 0.86875099 0.86875099 0.86875099 0.67989212 0.62495136\n",
      "  0.84814817 0.8275454  0.         0.         0.         0.\n",
      "  0.         0.         0.         0.         0.         0.\n",
      "  0.         0.        ]\n",
      " [0.         0.         0.         0.         0.         0.\n",
      "  0.         0.         0.         0.         0.27470389 0.53567261\n",
      "  0.36741644 0.86875099 0.86875099 0.70392871 0.03777179 0.\n",
      "  0.14765334 0.52880502 0.         0.         0.         0.\n",
      "  0.         0.         0.         0.         0.         0.\n",
      "  0.         0.        ]\n",
      " [0.         0.         0.         0.         0.         0.\n",
      "  0.         0.         0.         0.         0.         0.04807318\n",
      "  0.0034338  0.52880502 0.86875099 0.30904189 0.         0.\n",
      "  0.         0.         0.         0.         0.         0.\n",
      "  0.         0.         0.         0.         0.         0.\n",
      "  0.         0.        ]\n",
      " [0.         0.         0.         0.         0.         0.\n",
      "  0.         0.         0.         0.         0.         0.\n",
      "  0.         0.47729802 0.86875099 0.65242177 0.0068676  0.\n",
      "  0.         0.         0.         0.         0.         0.\n",
      "  0.         0.         0.         0.         0.         0.\n",
      "  0.         0.        ]\n",
      " [0.         0.         0.         0.         0.         0.\n",
      "  0.         0.         0.         0.         0.         0.\n",
      "  0.         0.03777179 0.65242177 0.86875099 0.24036589 0.\n",
      "  0.         0.         0.         0.         0.         0.\n",
      "  0.         0.         0.         0.         0.         0.\n",
      "  0.         0.        ]\n",
      " [0.         0.         0.         0.         0.         0.\n",
      "  0.         0.         0.         0.         0.         0.\n",
      "  0.         0.         0.12018295 0.8275454  0.77260458 0.54940778\n",
      "  0.37085021 0.0034338  0.         0.         0.         0.\n",
      "  0.         0.         0.         0.         0.         0.\n",
      "  0.         0.        ]\n",
      " [0.         0.         0.         0.         0.         0.\n",
      "  0.         0.         0.         0.         0.         0.\n",
      "  0.         0.         0.         0.27813771 0.82411158 0.86875099\n",
      "  0.86875099 0.40862203 0.08584497 0.         0.         0.\n",
      "  0.         0.         0.         0.         0.         0.\n",
      "  0.         0.        ]\n",
      " [0.         0.         0.         0.         0.         0.\n",
      "  0.         0.         0.         0.         0.         0.\n",
      "  0.         0.         0.         0.         0.15452094 0.63868648\n",
      "  0.86875099 0.86875099 0.51506978 0.09271255 0.         0.\n",
      "  0.         0.         0.         0.         0.         0.\n",
      "  0.         0.        ]\n",
      " [0.         0.         0.         0.         0.         0.\n",
      "  0.         0.         0.         0.         0.         0.\n",
      "  0.         0.         0.         0.         0.         0.05494078\n",
      "  0.31934324 0.86531723 0.86875099 0.64212036 0.         0.\n",
      "  0.         0.         0.         0.         0.         0.\n",
      "  0.         0.        ]\n",
      " [0.         0.         0.         0.         0.         0.\n",
      "  0.         0.         0.         0.         0.         0.\n",
      "  0.         0.         0.         0.         0.         0.\n",
      "  0.         0.8550157  0.86875099 0.8550157  0.2197631  0.\n",
      "  0.         0.         0.         0.         0.         0.\n",
      "  0.         0.        ]\n",
      " [0.         0.         0.         0.         0.         0.\n",
      "  0.         0.         0.         0.         0.         0.\n",
      "  0.         0.         0.         0.         0.15795474 0.44639379\n",
      "  0.62838507 0.86875099 0.86875099 0.71079624 0.0068676  0.\n",
      "  0.         0.         0.         0.         0.         0.\n",
      "  0.         0.        ]\n",
      " [0.         0.         0.         0.         0.         0.\n",
      "  0.         0.         0.         0.         0.         0.\n",
      "  0.         0.         0.13391815 0.5082022  0.78633988 0.86875099\n",
      "  0.86875099 0.86875099 0.85844958 0.62495136 0.         0.\n",
      "  0.         0.         0.         0.         0.         0.\n",
      "  0.         0.        ]\n",
      " [0.         0.         0.         0.         0.         0.\n",
      "  0.         0.         0.         0.         0.         0.\n",
      "  0.08241116 0.39145303 0.75886953 0.86875099 0.86875099 0.86875099\n",
      "  0.86875099 0.69019353 0.2678363  0.         0.         0.\n",
      "  0.         0.         0.         0.         0.         0.\n",
      "  0.         0.        ]\n",
      " [0.         0.         0.         0.         0.         0.\n",
      "  0.         0.         0.         0.         0.07897737 0.22663072\n",
      "  0.73139918 0.86875099 0.86875099 0.86875099 0.86875099 0.67989212\n",
      "  0.27813771 0.0068676  0.         0.         0.         0.\n",
      "  0.         0.         0.         0.         0.         0.\n",
      "  0.         0.        ]\n",
      " [0.         0.         0.         0.         0.         0.\n",
      "  0.         0.         0.06180838 0.58717954 0.75200188 0.86875099\n",
      "  0.86875099 0.86875099 0.86875099 0.66959083 0.27470389 0.03090419\n",
      "  0.         0.         0.         0.         0.         0.\n",
      "  0.         0.         0.         0.         0.         0.\n",
      "  0.         0.        ]\n",
      " [0.         0.         0.         0.         0.         0.\n",
      "  0.18885893 0.59061337 0.77603841 0.86875099 0.86875099 0.86875099\n",
      "  0.86875099 0.83784682 0.4566952  0.03777179 0.         0.\n",
      "  0.         0.         0.         0.         0.         0.\n",
      "  0.         0.         0.         0.         0.         0.\n",
      "  0.         0.        ]\n",
      " [0.         0.         0.         0.         0.         0.\n",
      "  0.46699661 0.86875099 0.86875099 0.86875099 0.72796524 0.46356285\n",
      "  0.45326144 0.05494078 0.         0.         0.         0.\n",
      "  0.         0.         0.         0.         0.         0.\n",
      "  0.         0.         0.         0.         0.         0.\n",
      "  0.         0.        ]\n",
      " [0.         0.         0.         0.         0.         0.\n",
      "  0.         0.         0.         0.         0.         0.\n",
      "  0.         0.         0.         0.         0.         0.\n",
      "  0.         0.         0.         0.         0.         0.\n",
      "  0.         0.         0.         0.         0.         0.\n",
      "  0.         0.        ]\n",
      " [0.         0.         0.         0.         0.         0.\n",
      "  0.         0.         0.         0.         0.         0.\n",
      "  0.         0.         0.         0.         0.         0.\n",
      "  0.         0.         0.         0.         0.         0.\n",
      "  0.         0.         0.         0.         0.         0.\n",
      "  0.         0.        ]\n",
      " [0.         0.         0.         0.         0.         0.\n",
      "  0.         0.         0.         0.         0.         0.\n",
      "  0.         0.         0.         0.         0.         0.\n",
      "  0.         0.         0.         0.         0.         0.\n",
      "  0.         0.         0.         0.         0.         0.\n",
      "  0.         0.        ]\n",
      " [0.         0.         0.         0.         0.         0.\n",
      "  0.         0.         0.         0.         0.         0.\n",
      "  0.         0.         0.         0.         0.         0.\n",
      "  0.         0.         0.         0.         0.         0.\n",
      "  0.         0.         0.         0.         0.         0.\n",
      "  0.         0.        ]\n",
      " [0.         0.         0.         0.         0.         0.\n",
      "  0.         0.         0.         0.         0.         0.\n",
      "  0.         0.         0.         0.         0.         0.\n",
      "  0.         0.         0.         0.         0.         0.\n",
      "  0.         0.         0.         0.         0.         0.\n",
      "  0.         0.        ]]\n"
     ]
    }
   ],
   "source": [
    "np.set_printoptions(threshold=sys.maxsize)\n",
    "print(first_conv_img)"
   ]
  },
  {
   "cell_type": "code",
   "execution_count": 122,
   "metadata": {},
   "outputs": [
    {
     "data": {
      "text/plain": [
       "array(-0.05595953, dtype=float32)"
      ]
     },
     "execution_count": 122,
     "metadata": {},
     "output_type": "execute_result"
    }
   ],
   "source": [
    "biases_conv1[0].detach().numpy()"
   ]
  },
  {
   "cell_type": "code",
   "execution_count": 123,
   "metadata": {},
   "outputs": [
    {
     "data": {
      "text/plain": [
       "array([[-0.05595953, -0.05595953, -0.05595953, -0.05595953, -0.05595953,\n",
       "        -0.05595953, -0.05595953, -0.05595953, -0.05595953, -0.05595953,\n",
       "        -0.05595953, -0.05595953, -0.05595953, -0.05595953, -0.05595953,\n",
       "        -0.05595953, -0.05595953, -0.05595953, -0.05595953, -0.05595953,\n",
       "        -0.05595953, -0.05595953, -0.05595953, -0.05595953, -0.05595953,\n",
       "        -0.05595953, -0.05595953, -0.05595953, -0.05595953, -0.05595953,\n",
       "        -0.05595953, -0.05595953],\n",
       "       [-0.05595953, -0.05595953, -0.05595953, -0.05595953, -0.05595953,\n",
       "        -0.05595953, -0.05595953, -0.05595953, -0.05595953, -0.05595953,\n",
       "        -0.05595953, -0.05595953, -0.05595953, -0.05595953, -0.05595953,\n",
       "        -0.05595953, -0.05595953, -0.05595953, -0.05595953, -0.05595953,\n",
       "        -0.05595953, -0.05595953, -0.05595953, -0.05595953, -0.05595953,\n",
       "        -0.05595953, -0.05595953, -0.05595953, -0.05595953, -0.05595953,\n",
       "        -0.05595953, -0.05595953],\n",
       "       [-0.05595953, -0.05595953, -0.05595953, -0.05595953, -0.05595953,\n",
       "        -0.05595953, -0.05595953, -0.05595953, -0.05595953, -0.05595953,\n",
       "        -0.05595953, -0.05595953, -0.05595953, -0.05595953, -0.05595953,\n",
       "        -0.05595953, -0.05595953, -0.05595953, -0.05595953, -0.05595953,\n",
       "        -0.05595953, -0.05595953, -0.05595953, -0.05595953, -0.05595953,\n",
       "        -0.05595953, -0.05595953, -0.05595953, -0.05595953, -0.05595953,\n",
       "        -0.05595953, -0.05595953],\n",
       "       [-0.05595953, -0.05595953, -0.05595953, -0.05595953, -0.05595953,\n",
       "        -0.05595953, -0.05595953, -0.05595953, -0.05595953, -0.05595953,\n",
       "        -0.05595953, -0.05595953, -0.05595953, -0.05595953, -0.05595953,\n",
       "        -0.05595953, -0.05595953, -0.05595953, -0.05595953, -0.05595953,\n",
       "        -0.05595953, -0.05595953, -0.05595953, -0.05595953, -0.05595953,\n",
       "        -0.05595953, -0.05595953, -0.05595953, -0.05595953, -0.05595953,\n",
       "        -0.05595953, -0.05595953],\n",
       "       [-0.05595953, -0.05595953, -0.05595953, -0.05595953, -0.05595953,\n",
       "        -0.05595953, -0.05595953, -0.05595953, -0.05595953, -0.05595953,\n",
       "        -0.05595953, -0.05595953, -0.05595953, -0.05595953, -0.05595953,\n",
       "        -0.05595953, -0.05595953, -0.05595953, -0.05595953, -0.05595953,\n",
       "        -0.05595953, -0.05595953, -0.05595953, -0.05595953, -0.05595953,\n",
       "        -0.05595953, -0.05595953, -0.05595953, -0.05595953, -0.05595953,\n",
       "        -0.05595953, -0.05595953],\n",
       "       [-0.05595953, -0.05595953, -0.05595953, -0.05595953, -0.05595953,\n",
       "        -0.05595953, -0.05595953, -0.05595953, -0.05595953, -0.05595953,\n",
       "        -0.05595953, -0.05595953, -0.05595953, -0.05595953, -0.05595953,\n",
       "        -0.05595953, -0.05595953, -0.05595953, -0.05595953, -0.05595953,\n",
       "        -0.05595953, -0.05595953, -0.05595953, -0.05595953, -0.05595953,\n",
       "        -0.05595953, -0.05595953, -0.05595953, -0.05595953, -0.05595953,\n",
       "        -0.05595953, -0.05595953],\n",
       "       [-0.05595953, -0.05595953, -0.05595953, -0.05595953, -0.05595953,\n",
       "        -0.05595953, -0.05595953, -0.05595953, -0.05595953, -0.05595953,\n",
       "        -0.05595953, -0.05595953, -0.05595953, -0.05595953, -0.05595953,\n",
       "        -0.05595953, -0.05595953, -0.05595953, -0.05595953, -0.05595953,\n",
       "        -0.05595953, -0.05595953, -0.05595953, -0.05595953, -0.05595953,\n",
       "        -0.05595953, -0.05595953, -0.05595953, -0.05595953, -0.05595953,\n",
       "        -0.05595953, -0.05595953],\n",
       "       [-0.05595953, -0.05595953, -0.05595953, -0.05595953, -0.05595953,\n",
       "        -0.05595953, -0.05595953, -0.05595953, -0.05595953, -0.05595953,\n",
       "        -0.05595953, -0.05595953, -0.05595953, -0.05595953, -0.04565814,\n",
       "         0.00584884,  0.00584884,  0.00584884,  0.37669908,  0.41103708,\n",
       "         0.54495524,  0.03331922,  0.51405107,  0.8196591 ,  0.79218863,\n",
       "         0.3801329 , -0.05595953, -0.05595953, -0.05595953, -0.05595953,\n",
       "        -0.05595953, -0.05595953],\n",
       "       [-0.05595953, -0.05595953, -0.05595953, -0.05595953, -0.05595953,\n",
       "        -0.05595953, -0.05595953, -0.05595953, -0.05595953, -0.05595953,\n",
       "         0.04705441,  0.06765722,  0.26681753,  0.47284548,  0.52778624,\n",
       "         0.81279146,  0.81279146,  0.81279146,  0.81279146,  0.81279146,\n",
       "         0.71664505,  0.53465383,  0.81279146,  0.77501969,  0.6136313 ,\n",
       "         0.16380357, -0.05595953, -0.05595953, -0.05595953, -0.05595953,\n",
       "        -0.05595953, -0.05595953],\n",
       "       [-0.05595953, -0.05595953, -0.05595953, -0.05595953, -0.05595953,\n",
       "        -0.05595953, -0.05595953, -0.05595953, -0.05595953,  0.1122966 ,\n",
       "         0.76128452,  0.81279146,  0.81279146,  0.81279146,  0.81279146,\n",
       "         0.81279146,  0.81279146,  0.81279146,  0.81279146,  0.80592381,\n",
       "         0.26338371,  0.22561197,  0.22561197,  0.13633319,  0.07795862,\n",
       "        -0.05595953, -0.05595953, -0.05595953, -0.05595953, -0.05595953,\n",
       "        -0.05595953, -0.05595953],\n",
       "       [-0.05595953, -0.05595953, -0.05595953, -0.05595953, -0.05595953,\n",
       "        -0.05595953, -0.05595953, -0.05595953, -0.05595953,  0.00584884,\n",
       "         0.69604235,  0.81279146,  0.81279146,  0.81279146,  0.81279146,\n",
       "         0.81279146,  0.62393259,  0.56899183,  0.79218863,  0.77158587,\n",
       "        -0.05595953, -0.05595953, -0.05595953, -0.05595953, -0.05595953,\n",
       "        -0.05595953, -0.05595953, -0.05595953, -0.05595953, -0.05595953,\n",
       "        -0.05595953, -0.05595953],\n",
       "       [-0.05595953, -0.05595953, -0.05595953, -0.05595953, -0.05595953,\n",
       "        -0.05595953, -0.05595953, -0.05595953, -0.05595953, -0.05595953,\n",
       "         0.21874436,  0.47971307,  0.31145691,  0.81279146,  0.81279146,\n",
       "         0.64796918, -0.01818775, -0.05595953,  0.09169381,  0.47284548,\n",
       "        -0.05595953, -0.05595953, -0.05595953, -0.05595953, -0.05595953,\n",
       "        -0.05595953, -0.05595953, -0.05595953, -0.05595953, -0.05595953,\n",
       "        -0.05595953, -0.05595953],\n",
       "       [-0.05595953, -0.05595953, -0.05595953, -0.05595953, -0.05595953,\n",
       "        -0.05595953, -0.05595953, -0.05595953, -0.05595953, -0.05595953,\n",
       "        -0.05595953, -0.00788635, -0.05252574,  0.47284548,  0.81279146,\n",
       "         0.25308235, -0.05595953, -0.05595953, -0.05595953, -0.05595953,\n",
       "        -0.05595953, -0.05595953, -0.05595953, -0.05595953, -0.05595953,\n",
       "        -0.05595953, -0.05595953, -0.05595953, -0.05595953, -0.05595953,\n",
       "        -0.05595953, -0.05595953],\n",
       "       [-0.05595953, -0.05595953, -0.05595953, -0.05595953, -0.05595953,\n",
       "        -0.05595953, -0.05595953, -0.05595953, -0.05595953, -0.05595953,\n",
       "        -0.05595953, -0.05595953, -0.05595953,  0.42133849,  0.81279146,\n",
       "         0.59646224, -0.04909194, -0.05595953, -0.05595953, -0.05595953,\n",
       "        -0.05595953, -0.05595953, -0.05595953, -0.05595953, -0.05595953,\n",
       "        -0.05595953, -0.05595953, -0.05595953, -0.05595953, -0.05595953,\n",
       "        -0.05595953, -0.05595953],\n",
       "       [-0.05595953, -0.05595953, -0.05595953, -0.05595953, -0.05595953,\n",
       "        -0.05595953, -0.05595953, -0.05595953, -0.05595953, -0.05595953,\n",
       "        -0.05595953, -0.05595953, -0.05595953, -0.01818775,  0.59646224,\n",
       "         0.81279146,  0.18440636, -0.05595953, -0.05595953, -0.05595953,\n",
       "        -0.05595953, -0.05595953, -0.05595953, -0.05595953, -0.05595953,\n",
       "        -0.05595953, -0.05595953, -0.05595953, -0.05595953, -0.05595953,\n",
       "        -0.05595953, -0.05595953],\n",
       "       [-0.05595953, -0.05595953, -0.05595953, -0.05595953, -0.05595953,\n",
       "        -0.05595953, -0.05595953, -0.05595953, -0.05595953, -0.05595953,\n",
       "        -0.05595953, -0.05595953, -0.05595953, -0.05595953,  0.06422341,\n",
       "         0.77158587,  0.71664505,  0.49344825,  0.31489067, -0.05252574,\n",
       "        -0.05595953, -0.05595953, -0.05595953, -0.05595953, -0.05595953,\n",
       "        -0.05595953, -0.05595953, -0.05595953, -0.05595953, -0.05595953,\n",
       "        -0.05595953, -0.05595953],\n",
       "       [-0.05595953, -0.05595953, -0.05595953, -0.05595953, -0.05595953,\n",
       "        -0.05595953, -0.05595953, -0.05595953, -0.05595953, -0.05595953,\n",
       "        -0.05595953, -0.05595953, -0.05595953, -0.05595953, -0.05595953,\n",
       "         0.22217818,  0.76815205,  0.81279146,  0.81279146,  0.35266249,\n",
       "         0.02988544, -0.05595953, -0.05595953, -0.05595953, -0.05595953,\n",
       "        -0.05595953, -0.05595953, -0.05595953, -0.05595953, -0.05595953,\n",
       "        -0.05595953, -0.05595953],\n",
       "       [-0.05595953, -0.05595953, -0.05595953, -0.05595953, -0.05595953,\n",
       "        -0.05595953, -0.05595953, -0.05595953, -0.05595953, -0.05595953,\n",
       "        -0.05595953, -0.05595953, -0.05595953, -0.05595953, -0.05595953,\n",
       "        -0.05595953,  0.09856141,  0.58272694,  0.81279146,  0.81279146,\n",
       "         0.45911025,  0.03675302, -0.05595953, -0.05595953, -0.05595953,\n",
       "        -0.05595953, -0.05595953, -0.05595953, -0.05595953, -0.05595953,\n",
       "        -0.05595953, -0.05595953],\n",
       "       [-0.05595953, -0.05595953, -0.05595953, -0.05595953, -0.05595953,\n",
       "        -0.05595953, -0.05595953, -0.05595953, -0.05595953, -0.05595953,\n",
       "        -0.05595953, -0.05595953, -0.05595953, -0.05595953, -0.05595953,\n",
       "        -0.05595953, -0.05595953, -0.00101876,  0.26338371,  0.80935769,\n",
       "         0.81279146,  0.58616083, -0.05595953, -0.05595953, -0.05595953,\n",
       "        -0.05595953, -0.05595953, -0.05595953, -0.05595953, -0.05595953,\n",
       "        -0.05595953, -0.05595953],\n",
       "       [-0.05595953, -0.05595953, -0.05595953, -0.05595953, -0.05595953,\n",
       "        -0.05595953, -0.05595953, -0.05595953, -0.05595953, -0.05595953,\n",
       "        -0.05595953, -0.05595953, -0.05595953, -0.05595953, -0.05595953,\n",
       "        -0.05595953, -0.05595953, -0.05595953, -0.05595953,  0.79905616,\n",
       "         0.81279146,  0.79905616,  0.16380357, -0.05595953, -0.05595953,\n",
       "        -0.05595953, -0.05595953, -0.05595953, -0.05595953, -0.05595953,\n",
       "        -0.05595953, -0.05595953],\n",
       "       [-0.05595953, -0.05595953, -0.05595953, -0.05595953, -0.05595953,\n",
       "        -0.05595953, -0.05595953, -0.05595953, -0.05595953, -0.05595953,\n",
       "        -0.05595953, -0.05595953, -0.05595953, -0.05595953, -0.05595953,\n",
       "        -0.05595953,  0.1019952 ,  0.39043425,  0.57242553,  0.81279146,\n",
       "         0.81279146,  0.6548367 , -0.04909194, -0.05595953, -0.05595953,\n",
       "        -0.05595953, -0.05595953, -0.05595953, -0.05595953, -0.05595953,\n",
       "        -0.05595953, -0.05595953],\n",
       "       [-0.05595953, -0.05595953, -0.05595953, -0.05595953, -0.05595953,\n",
       "        -0.05595953, -0.05595953, -0.05595953, -0.05595953, -0.05595953,\n",
       "        -0.05595953, -0.05595953, -0.05595953, -0.05595953,  0.07795862,\n",
       "         0.45224266,  0.73038035,  0.81279146,  0.81279146,  0.81279146,\n",
       "         0.80249004,  0.56899183, -0.05595953, -0.05595953, -0.05595953,\n",
       "        -0.05595953, -0.05595953, -0.05595953, -0.05595953, -0.05595953,\n",
       "        -0.05595953, -0.05595953],\n",
       "       [-0.05595953, -0.05595953, -0.05595953, -0.05595953, -0.05595953,\n",
       "        -0.05595953, -0.05595953, -0.05595953, -0.05595953, -0.05595953,\n",
       "        -0.05595953, -0.05595953,  0.02645163,  0.33549349,  0.70290999,\n",
       "         0.81279146,  0.81279146,  0.81279146,  0.81279146,  0.634234  ,\n",
       "         0.21187677, -0.05595953, -0.05595953, -0.05595953, -0.05595953,\n",
       "        -0.05595953, -0.05595953, -0.05595953, -0.05595953, -0.05595953,\n",
       "        -0.05595953, -0.05595953],\n",
       "       [-0.05595953, -0.05595953, -0.05595953, -0.05595953, -0.05595953,\n",
       "        -0.05595953, -0.05595953, -0.05595953, -0.05595953, -0.05595953,\n",
       "         0.02301783,  0.17067118,  0.67543964,  0.81279146,  0.81279146,\n",
       "         0.81279146,  0.81279146,  0.62393259,  0.22217818, -0.04909194,\n",
       "        -0.05595953, -0.05595953, -0.05595953, -0.05595953, -0.05595953,\n",
       "        -0.05595953, -0.05595953, -0.05595953, -0.05595953, -0.05595953,\n",
       "        -0.05595953, -0.05595953],\n",
       "       [-0.05595953, -0.05595953, -0.05595953, -0.05595953, -0.05595953,\n",
       "        -0.05595953, -0.05595953, -0.05595953,  0.00584884,  0.53122001,\n",
       "         0.69604235,  0.81279146,  0.81279146,  0.81279146,  0.81279146,\n",
       "         0.6136313 ,  0.21874436, -0.02505535, -0.05595953, -0.05595953,\n",
       "        -0.05595953, -0.05595953, -0.05595953, -0.05595953, -0.05595953,\n",
       "        -0.05595953, -0.05595953, -0.05595953, -0.05595953, -0.05595953,\n",
       "        -0.05595953, -0.05595953],\n",
       "       [-0.05595953, -0.05595953, -0.05595953, -0.05595953, -0.05595953,\n",
       "        -0.05595953,  0.13289939,  0.53465383,  0.72007887,  0.81279146,\n",
       "         0.81279146,  0.81279146,  0.81279146,  0.78188728,  0.40073567,\n",
       "        -0.01818775, -0.05595953, -0.05595953, -0.05595953, -0.05595953,\n",
       "        -0.05595953, -0.05595953, -0.05595953, -0.05595953, -0.05595953,\n",
       "        -0.05595953, -0.05595953, -0.05595953, -0.05595953, -0.05595953,\n",
       "        -0.05595953, -0.05595953],\n",
       "       [-0.05595953, -0.05595953, -0.05595953, -0.05595953, -0.05595953,\n",
       "        -0.05595953,  0.41103708,  0.81279146,  0.81279146,  0.81279146,\n",
       "         0.6720057 ,  0.40760331,  0.3973019 , -0.00101876, -0.05595953,\n",
       "        -0.05595953, -0.05595953, -0.05595953, -0.05595953, -0.05595953,\n",
       "        -0.05595953, -0.05595953, -0.05595953, -0.05595953, -0.05595953,\n",
       "        -0.05595953, -0.05595953, -0.05595953, -0.05595953, -0.05595953,\n",
       "        -0.05595953, -0.05595953],\n",
       "       [-0.05595953, -0.05595953, -0.05595953, -0.05595953, -0.05595953,\n",
       "        -0.05595953, -0.05595953, -0.05595953, -0.05595953, -0.05595953,\n",
       "        -0.05595953, -0.05595953, -0.05595953, -0.05595953, -0.05595953,\n",
       "        -0.05595953, -0.05595953, -0.05595953, -0.05595953, -0.05595953,\n",
       "        -0.05595953, -0.05595953, -0.05595953, -0.05595953, -0.05595953,\n",
       "        -0.05595953, -0.05595953, -0.05595953, -0.05595953, -0.05595953,\n",
       "        -0.05595953, -0.05595953],\n",
       "       [-0.05595953, -0.05595953, -0.05595953, -0.05595953, -0.05595953,\n",
       "        -0.05595953, -0.05595953, -0.05595953, -0.05595953, -0.05595953,\n",
       "        -0.05595953, -0.05595953, -0.05595953, -0.05595953, -0.05595953,\n",
       "        -0.05595953, -0.05595953, -0.05595953, -0.05595953, -0.05595953,\n",
       "        -0.05595953, -0.05595953, -0.05595953, -0.05595953, -0.05595953,\n",
       "        -0.05595953, -0.05595953, -0.05595953, -0.05595953, -0.05595953,\n",
       "        -0.05595953, -0.05595953],\n",
       "       [-0.05595953, -0.05595953, -0.05595953, -0.05595953, -0.05595953,\n",
       "        -0.05595953, -0.05595953, -0.05595953, -0.05595953, -0.05595953,\n",
       "        -0.05595953, -0.05595953, -0.05595953, -0.05595953, -0.05595953,\n",
       "        -0.05595953, -0.05595953, -0.05595953, -0.05595953, -0.05595953,\n",
       "        -0.05595953, -0.05595953, -0.05595953, -0.05595953, -0.05595953,\n",
       "        -0.05595953, -0.05595953, -0.05595953, -0.05595953, -0.05595953,\n",
       "        -0.05595953, -0.05595953],\n",
       "       [-0.05595953, -0.05595953, -0.05595953, -0.05595953, -0.05595953,\n",
       "        -0.05595953, -0.05595953, -0.05595953, -0.05595953, -0.05595953,\n",
       "        -0.05595953, -0.05595953, -0.05595953, -0.05595953, -0.05595953,\n",
       "        -0.05595953, -0.05595953, -0.05595953, -0.05595953, -0.05595953,\n",
       "        -0.05595953, -0.05595953, -0.05595953, -0.05595953, -0.05595953,\n",
       "        -0.05595953, -0.05595953, -0.05595953, -0.05595953, -0.05595953,\n",
       "        -0.05595953, -0.05595953],\n",
       "       [-0.05595953, -0.05595953, -0.05595953, -0.05595953, -0.05595953,\n",
       "        -0.05595953, -0.05595953, -0.05595953, -0.05595953, -0.05595953,\n",
       "        -0.05595953, -0.05595953, -0.05595953, -0.05595953, -0.05595953,\n",
       "        -0.05595953, -0.05595953, -0.05595953, -0.05595953, -0.05595953,\n",
       "        -0.05595953, -0.05595953, -0.05595953, -0.05595953, -0.05595953,\n",
       "        -0.05595953, -0.05595953, -0.05595953, -0.05595953, -0.05595953,\n",
       "        -0.05595953, -0.05595953]])"
      ]
     },
     "execution_count": 123,
     "metadata": {},
     "output_type": "execute_result"
    }
   ],
   "source": [
    "first_conv_img + biases_conv1[0].detach().numpy()"
   ]
  },
  {
   "cell_type": "code",
   "execution_count": 111,
   "metadata": {},
   "outputs": [
    {
     "data": {
      "text/plain": [
       "16"
      ]
     },
     "execution_count": 111,
     "metadata": {},
     "output_type": "execute_result"
    }
   ],
   "source": [
    "biases_conv1.detach().numpy().shape[0]"
   ]
  },
  {
   "cell_type": "code",
   "execution_count": 110,
   "metadata": {},
   "outputs": [
    {
     "data": {
      "text/plain": [
       "array([-0.05595953,  0.13507354,  0.01593194,  0.00902367, -0.04922011,\n",
       "       -0.18111794, -0.18805149, -0.09560301, -0.10166428,  0.06231072,\n",
       "       -0.05822215, -0.07824443,  0.19068597,  0.06966458,  0.14258046,\n",
       "       -0.09682255], dtype=float32)"
      ]
     },
     "execution_count": 110,
     "metadata": {},
     "output_type": "execute_result"
    }
   ],
   "source": [
    "biases_conv1.detach().numpy()"
   ]
  },
  {
   "cell_type": "code",
   "execution_count": 95,
   "metadata": {},
   "outputs": [
    {
     "data": {
      "text/plain": [
       "torch.Size([28, 28])"
      ]
     },
     "execution_count": 95,
     "metadata": {},
     "output_type": "execute_result"
    }
   ],
   "source": [
    "net.conv1[0](first_im)[0][0].shape"
   ]
  },
  {
   "cell_type": "code",
   "execution_count": 129,
   "metadata": {},
   "outputs": [
    {
     "data": {
      "text/plain": [
       "array([-0.05595953, -0.05595953, -0.05595953, -0.05595953, -0.05595953,\n",
       "       -0.05595953, -0.05595953, -0.05595953, -0.05595953, -0.05595953,\n",
       "       -0.05781687, -0.06554271, -0.05869401, -0.06374829, -0.13307634,\n",
       "       -0.08849649, -0.14184302, -0.04242297, -0.25899282, -0.20098922,\n",
       "       -0.1947165 , -0.11197067, -0.15200649, -0.21128216, -0.15689726,\n",
       "       -0.10185251, -0.05595953, -0.05595953], dtype=float32)"
      ]
     },
     "execution_count": 129,
     "metadata": {},
     "output_type": "execute_result"
    }
   ],
   "source": [
    "net.conv1[0](first_im)[0][0].detach().numpy()[3]"
   ]
  },
  {
   "cell_type": "code",
   "execution_count": 131,
   "metadata": {},
   "outputs": [
    {
     "data": {
      "text/plain": [
       "array([-0.05595953, -0.05595953, -0.05595953, -0.05595953, -0.05595953,\n",
       "       -0.05595953, -0.05595953, -0.05595953, -0.05595953, -0.05595953,\n",
       "       -0.05595953, -0.05595953, -0.05595953, -0.05595953, -0.05595953,\n",
       "       -0.05595953, -0.05595953, -0.05595953, -0.05595953, -0.05595953,\n",
       "       -0.05595953, -0.05595953, -0.05595953, -0.05595953, -0.05595953,\n",
       "       -0.05595953, -0.05595953, -0.05595953, -0.05595953, -0.05595953,\n",
       "       -0.05595953, -0.05595953])"
      ]
     },
     "execution_count": 131,
     "metadata": {},
     "output_type": "execute_result"
    }
   ],
   "source": [
    "(first_conv_img + biases_conv1[0].detach().numpy())[4]"
   ]
  },
  {
   "cell_type": "code",
   "execution_count": 133,
   "metadata": {},
   "outputs": [
    {
     "data": {
      "text/plain": [
       "torch.Size([28, 28])"
      ]
     },
     "execution_count": 133,
     "metadata": {},
     "output_type": "execute_result"
    }
   ],
   "source": [
    "first_im[0][0].shape"
   ]
  },
  {
   "cell_type": "code",
   "execution_count": 145,
   "metadata": {},
   "outputs": [
    {
     "name": "stdout",
     "output_type": "stream",
     "text": [
      "Input Feature Map: 28x28x1\n",
      "Output Feature Map: 28x28x16\n"
     ]
    }
   ],
   "source": [
    "# image dimensions\n",
    "w_in = first_im[0][0].numpy().shape[0]\n",
    "h_in = first_im[0][0].numpy().shape[1]\n",
    "# input channel(s)\n",
    "c_in = 1\n",
    "print(\"Input Feature Map: {}x{}x{}\".format(w_in, h_in, c_in))\n",
    "# output channels\n",
    "c_out = 16\n",
    "# kernel size\n",
    "k = 5\n",
    "# stride\n",
    "s = 1\n",
    "# padding\n",
    "p = 2\n",
    "# output dimensions\n",
    "w_out = (w_in - k + 2 * p) // s + 1\n",
    "h_out = (h_in - k + 2 * p) // s + 1\n",
    "print(\"Output Feature Map: {}x{}x{}\".format(w_out, h_out, c_out))"
   ]
  },
  {
   "cell_type": "code",
   "execution_count": 172,
   "metadata": {},
   "outputs": [
    {
     "data": {
      "text/plain": [
       "torch.Size([1, 1, 32, 32])"
      ]
     },
     "execution_count": 172,
     "metadata": {},
     "output_type": "execute_result"
    }
   ],
   "source": [
    "# pad the image data with zeros\n",
    "# pad_width = ((2,2), (2,2))\n",
    "# first_im[0][0].numpy() = np.pad(first_im[0][0].numpy(), pad_width, 'constant', constant_values=0)\n",
    "# img_padded = np.pad(first_im[0][0].numpy(), ((2,2), (2,2)), 'constant', constant_values=0)\n",
    "# img_padded.shape\n",
    "img_padded = F.pad(first_im, (2, 2, 2, 2))\n",
    "img_padded.shape"
   ]
  },
  {
   "cell_type": "code",
   "execution_count": 175,
   "metadata": {},
   "outputs": [],
   "source": [
    "result = np.zeros(shape=(1, c_out, w_out, h_out))\n",
    "for o1 in range(w_out):\n",
    "    for o2 in range(h_out):\n",
    "        for co in range(c_out):\n",
    "            total = 0\n",
    "            for ci in range(c_in):\n",
    "                kt = 0\n",
    "                for kh in range(k):\n",
    "                    for kw in range(k):\n",
    "                        weight = weights_conv1[co][ci][kh][kw].detach().numpy()\n",
    "                        pos1 = kh + o1 * s\n",
    "                        pos2 = kw + o2 * s\n",
    "                        value = img_padded[0][ci][pos1][pos2].numpy()\n",
    "                        kt += weight * value\n",
    "                total += kt\n",
    "            result[0][co][o1][o2] = total + biases_conv1[co].detach().numpy()\n"
   ]
  },
  {
   "cell_type": "code",
   "execution_count": 177,
   "metadata": {},
   "outputs": [
    {
     "data": {
      "text/plain": [
       "(1, 16, 28, 28)"
      ]
     },
     "execution_count": 177,
     "metadata": {},
     "output_type": "execute_result"
    }
   ],
   "source": [
    "result.shape"
   ]
  },
  {
   "cell_type": "code",
   "execution_count": 179,
   "metadata": {},
   "outputs": [
    {
     "data": {
      "text/plain": [
       "torch.Size([1, 16, 28, 28])"
      ]
     },
     "execution_count": 179,
     "metadata": {},
     "output_type": "execute_result"
    }
   ],
   "source": [
    "net.conv1[0](first_im).shape"
   ]
  },
  {
   "cell_type": "code",
   "execution_count": 181,
   "metadata": {},
   "outputs": [
    {
     "data": {
      "text/plain": [
       "array([-0.05595953, -0.05595953, -0.05595953, -0.05595953, -0.05595953,\n",
       "       -0.05595953, -0.05595953, -0.05595953, -0.05595953, -0.05595953,\n",
       "       -0.05781688, -0.06554271, -0.05869401, -0.06374828, -0.13307635,\n",
       "       -0.08849649, -0.14184302, -0.04242296, -0.25899283, -0.20098922,\n",
       "       -0.19471649, -0.11197067, -0.15200648, -0.21128216, -0.15689726,\n",
       "       -0.10185252, -0.05595953, -0.05595953])"
      ]
     },
     "execution_count": 181,
     "metadata": {},
     "output_type": "execute_result"
    }
   ],
   "source": [
    "result[0][0][3]"
   ]
  },
  {
   "cell_type": "code",
   "execution_count": 178,
   "metadata": {},
   "outputs": [
    {
     "data": {
      "text/plain": [
       "array([-0.05595953, -0.05595953, -0.05595953, -0.05595953, -0.05595953,\n",
       "       -0.05595953, -0.05595953, -0.05595953, -0.05595953, -0.05595953,\n",
       "       -0.05781687, -0.06554271, -0.05869401, -0.06374829, -0.13307634,\n",
       "       -0.08849649, -0.14184302, -0.04242297, -0.25899282, -0.20098922,\n",
       "       -0.1947165 , -0.11197067, -0.15200649, -0.21128216, -0.15689726,\n",
       "       -0.10185251, -0.05595953, -0.05595953], dtype=float32)"
      ]
     },
     "execution_count": 178,
     "metadata": {},
     "output_type": "execute_result"
    }
   ],
   "source": [
    "net.conv1[0](first_im)[0][0].detach().numpy()[3]"
   ]
  }
 ],
 "metadata": {
  "interpreter": {
   "hash": "5f2d020fb0ab3aa1fc34292ba06ea4aad36f6d83100c7410d044bd1aea761e0d"
  },
  "kernelspec": {
   "display_name": "Python 3.9.12 ('msc')",
   "language": "python",
   "name": "python3"
  },
  "language_info": {
   "codemirror_mode": {
    "name": "ipython",
    "version": 3
   },
   "file_extension": ".py",
   "mimetype": "text/x-python",
   "name": "python",
   "nbconvert_exporter": "python",
   "pygments_lexer": "ipython3",
   "version": "3.9.12"
  },
  "orig_nbformat": 4
 },
 "nbformat": 4,
 "nbformat_minor": 2
}
